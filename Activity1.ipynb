{
 "cells": [
  {
   "cell_type": "markdown",
   "id": "e1e4d1cc-60b9-4f52-bc76-b9e9711400cb",
   "metadata": {},
   "source": [
    "<h1>Activity 1 - PALMER PENGUINS DATA ANALYTICS</h1>\n",
    "<hr>\n",
    "<h3>Analyst: Jessie O. Mompero Jr</h3>"
   ]
  },
  {
   "cell_type": "code",
   "execution_count": 1,
   "id": "8cce4cd2-0faa-4046-a3ac-378cbc21b9bf",
   "metadata": {},
   "outputs": [],
   "source": [
    "#import libraries\n",
    "import numpy as np\n",
    "import pandas as pd"
   ]
  },
  {
   "cell_type": "code",
   "execution_count": 2,
   "id": "a2305e27-3f7b-4821-b3b1-8800e61bdc3b",
   "metadata": {},
   "outputs": [],
   "source": [
    "penguin = pd.read_csv('datasets\\\\penguins.csv')"
   ]
  },
  {
   "cell_type": "markdown",
   "id": "fa3fc876-5fab-49af-9be3-c6cee10dbe44",
   "metadata": {},
   "source": [
    "<h3>Converting Dataset(s)</h3>\n",
    "<h2>Requirements</h2>\n",
    "<ul>\n",
    "    <li>\n",
    "        <h4>Dataframes</h4>\n",
    "    </li>\n",
    "    <li>\n",
    "        <h4>CSV file path</h4>\n",
    "    </li>\n",
    "</ul>"
   ]
  },
  {
   "cell_type": "code",
   "execution_count": 3,
   "id": "98095f35-0919-402a-b0db-782dc82f375f",
   "metadata": {},
   "outputs": [
    {
     "data": {
      "text/html": [
       "<div>\n",
       "<style scoped>\n",
       "    .dataframe tbody tr th:only-of-type {\n",
       "        vertical-align: middle;\n",
       "    }\n",
       "\n",
       "    .dataframe tbody tr th {\n",
       "        vertical-align: top;\n",
       "    }\n",
       "\n",
       "    .dataframe thead th {\n",
       "        text-align: right;\n",
       "    }\n",
       "</style>\n",
       "<table border=\"1\" class=\"dataframe\">\n",
       "  <thead>\n",
       "    <tr style=\"text-align: right;\">\n",
       "      <th></th>\n",
       "      <th>species</th>\n",
       "      <th>island</th>\n",
       "      <th>bill_length_mm</th>\n",
       "      <th>bill_depth_mm</th>\n",
       "      <th>flipper_length_mm</th>\n",
       "      <th>body_mass_g</th>\n",
       "      <th>sex</th>\n",
       "      <th>year</th>\n",
       "    </tr>\n",
       "  </thead>\n",
       "  <tbody>\n",
       "    <tr>\n",
       "      <th>0</th>\n",
       "      <td>Adelie</td>\n",
       "      <td>Torgersen</td>\n",
       "      <td>39.1</td>\n",
       "      <td>18.7</td>\n",
       "      <td>181.0</td>\n",
       "      <td>3750.0</td>\n",
       "      <td>male</td>\n",
       "      <td>2007</td>\n",
       "    </tr>\n",
       "    <tr>\n",
       "      <th>1</th>\n",
       "      <td>Adelie</td>\n",
       "      <td>Torgersen</td>\n",
       "      <td>39.5</td>\n",
       "      <td>17.4</td>\n",
       "      <td>186.0</td>\n",
       "      <td>3800.0</td>\n",
       "      <td>female</td>\n",
       "      <td>2007</td>\n",
       "    </tr>\n",
       "    <tr>\n",
       "      <th>2</th>\n",
       "      <td>Adelie</td>\n",
       "      <td>Torgersen</td>\n",
       "      <td>40.3</td>\n",
       "      <td>18.0</td>\n",
       "      <td>195.0</td>\n",
       "      <td>3250.0</td>\n",
       "      <td>female</td>\n",
       "      <td>2007</td>\n",
       "    </tr>\n",
       "    <tr>\n",
       "      <th>3</th>\n",
       "      <td>Adelie</td>\n",
       "      <td>Torgersen</td>\n",
       "      <td>NaN</td>\n",
       "      <td>NaN</td>\n",
       "      <td>NaN</td>\n",
       "      <td>NaN</td>\n",
       "      <td>NaN</td>\n",
       "      <td>2007</td>\n",
       "    </tr>\n",
       "    <tr>\n",
       "      <th>4</th>\n",
       "      <td>Adelie</td>\n",
       "      <td>Torgersen</td>\n",
       "      <td>36.7</td>\n",
       "      <td>19.3</td>\n",
       "      <td>193.0</td>\n",
       "      <td>3450.0</td>\n",
       "      <td>female</td>\n",
       "      <td>2007</td>\n",
       "    </tr>\n",
       "    <tr>\n",
       "      <th>...</th>\n",
       "      <td>...</td>\n",
       "      <td>...</td>\n",
       "      <td>...</td>\n",
       "      <td>...</td>\n",
       "      <td>...</td>\n",
       "      <td>...</td>\n",
       "      <td>...</td>\n",
       "      <td>...</td>\n",
       "    </tr>\n",
       "    <tr>\n",
       "      <th>339</th>\n",
       "      <td>Chinstrap</td>\n",
       "      <td>Dream</td>\n",
       "      <td>55.8</td>\n",
       "      <td>19.8</td>\n",
       "      <td>207.0</td>\n",
       "      <td>4000.0</td>\n",
       "      <td>male</td>\n",
       "      <td>2009</td>\n",
       "    </tr>\n",
       "    <tr>\n",
       "      <th>340</th>\n",
       "      <td>Chinstrap</td>\n",
       "      <td>Dream</td>\n",
       "      <td>43.5</td>\n",
       "      <td>18.1</td>\n",
       "      <td>202.0</td>\n",
       "      <td>3400.0</td>\n",
       "      <td>female</td>\n",
       "      <td>2009</td>\n",
       "    </tr>\n",
       "    <tr>\n",
       "      <th>341</th>\n",
       "      <td>Chinstrap</td>\n",
       "      <td>Dream</td>\n",
       "      <td>49.6</td>\n",
       "      <td>18.2</td>\n",
       "      <td>193.0</td>\n",
       "      <td>3775.0</td>\n",
       "      <td>male</td>\n",
       "      <td>2009</td>\n",
       "    </tr>\n",
       "    <tr>\n",
       "      <th>342</th>\n",
       "      <td>Chinstrap</td>\n",
       "      <td>Dream</td>\n",
       "      <td>50.8</td>\n",
       "      <td>19.0</td>\n",
       "      <td>210.0</td>\n",
       "      <td>4100.0</td>\n",
       "      <td>male</td>\n",
       "      <td>2009</td>\n",
       "    </tr>\n",
       "    <tr>\n",
       "      <th>343</th>\n",
       "      <td>Chinstrap</td>\n",
       "      <td>Dream</td>\n",
       "      <td>50.2</td>\n",
       "      <td>18.7</td>\n",
       "      <td>198.0</td>\n",
       "      <td>3775.0</td>\n",
       "      <td>female</td>\n",
       "      <td>2009</td>\n",
       "    </tr>\n",
       "  </tbody>\n",
       "</table>\n",
       "<p>344 rows × 8 columns</p>\n",
       "</div>"
      ],
      "text/plain": [
       "       species     island  bill_length_mm  bill_depth_mm  flipper_length_mm  \\\n",
       "0       Adelie  Torgersen            39.1           18.7              181.0   \n",
       "1       Adelie  Torgersen            39.5           17.4              186.0   \n",
       "2       Adelie  Torgersen            40.3           18.0              195.0   \n",
       "3       Adelie  Torgersen             NaN            NaN                NaN   \n",
       "4       Adelie  Torgersen            36.7           19.3              193.0   \n",
       "..         ...        ...             ...            ...                ...   \n",
       "339  Chinstrap      Dream            55.8           19.8              207.0   \n",
       "340  Chinstrap      Dream            43.5           18.1              202.0   \n",
       "341  Chinstrap      Dream            49.6           18.2              193.0   \n",
       "342  Chinstrap      Dream            50.8           19.0              210.0   \n",
       "343  Chinstrap      Dream            50.2           18.7              198.0   \n",
       "\n",
       "     body_mass_g     sex  year  \n",
       "0         3750.0    male  2007  \n",
       "1         3800.0  female  2007  \n",
       "2         3250.0  female  2007  \n",
       "3            NaN     NaN  2007  \n",
       "4         3450.0  female  2007  \n",
       "..           ...     ...   ...  \n",
       "339       4000.0    male  2009  \n",
       "340       3400.0  female  2009  \n",
       "341       3775.0    male  2009  \n",
       "342       4100.0    male  2009  \n",
       "343       3775.0  female  2009  \n",
       "\n",
       "[344 rows x 8 columns]"
      ]
     },
     "execution_count": 3,
     "metadata": {},
     "output_type": "execute_result"
    }
   ],
   "source": [
    "penguin"
   ]
  },
  {
   "cell_type": "code",
   "execution_count": 4,
   "id": "e0f75f0e-acac-47d9-b63d-b3593873e3b9",
   "metadata": {},
   "outputs": [
    {
     "data": {
      "text/html": [
       "<div>\n",
       "<style scoped>\n",
       "    .dataframe tbody tr th:only-of-type {\n",
       "        vertical-align: middle;\n",
       "    }\n",
       "\n",
       "    .dataframe tbody tr th {\n",
       "        vertical-align: top;\n",
       "    }\n",
       "\n",
       "    .dataframe thead th {\n",
       "        text-align: right;\n",
       "    }\n",
       "</style>\n",
       "<table border=\"1\" class=\"dataframe\">\n",
       "  <thead>\n",
       "    <tr style=\"text-align: right;\">\n",
       "      <th></th>\n",
       "      <th>bill_length_mm</th>\n",
       "      <th>bill_depth_mm</th>\n",
       "      <th>flipper_length_mm</th>\n",
       "      <th>body_mass_g</th>\n",
       "      <th>year</th>\n",
       "    </tr>\n",
       "  </thead>\n",
       "  <tbody>\n",
       "    <tr>\n",
       "      <th>count</th>\n",
       "      <td>342.000000</td>\n",
       "      <td>342.000000</td>\n",
       "      <td>342.000000</td>\n",
       "      <td>342.000000</td>\n",
       "      <td>344.000000</td>\n",
       "    </tr>\n",
       "    <tr>\n",
       "      <th>mean</th>\n",
       "      <td>43.921930</td>\n",
       "      <td>17.151170</td>\n",
       "      <td>200.915205</td>\n",
       "      <td>4201.754386</td>\n",
       "      <td>2008.029070</td>\n",
       "    </tr>\n",
       "    <tr>\n",
       "      <th>std</th>\n",
       "      <td>5.459584</td>\n",
       "      <td>1.974793</td>\n",
       "      <td>14.061714</td>\n",
       "      <td>801.954536</td>\n",
       "      <td>0.818356</td>\n",
       "    </tr>\n",
       "    <tr>\n",
       "      <th>min</th>\n",
       "      <td>32.100000</td>\n",
       "      <td>13.100000</td>\n",
       "      <td>172.000000</td>\n",
       "      <td>2700.000000</td>\n",
       "      <td>2007.000000</td>\n",
       "    </tr>\n",
       "    <tr>\n",
       "      <th>25%</th>\n",
       "      <td>39.225000</td>\n",
       "      <td>15.600000</td>\n",
       "      <td>190.000000</td>\n",
       "      <td>3550.000000</td>\n",
       "      <td>2007.000000</td>\n",
       "    </tr>\n",
       "    <tr>\n",
       "      <th>50%</th>\n",
       "      <td>44.450000</td>\n",
       "      <td>17.300000</td>\n",
       "      <td>197.000000</td>\n",
       "      <td>4050.000000</td>\n",
       "      <td>2008.000000</td>\n",
       "    </tr>\n",
       "    <tr>\n",
       "      <th>75%</th>\n",
       "      <td>48.500000</td>\n",
       "      <td>18.700000</td>\n",
       "      <td>213.000000</td>\n",
       "      <td>4750.000000</td>\n",
       "      <td>2009.000000</td>\n",
       "    </tr>\n",
       "    <tr>\n",
       "      <th>max</th>\n",
       "      <td>59.600000</td>\n",
       "      <td>21.500000</td>\n",
       "      <td>231.000000</td>\n",
       "      <td>6300.000000</td>\n",
       "      <td>2009.000000</td>\n",
       "    </tr>\n",
       "  </tbody>\n",
       "</table>\n",
       "</div>"
      ],
      "text/plain": [
       "       bill_length_mm  bill_depth_mm  flipper_length_mm  body_mass_g  \\\n",
       "count      342.000000     342.000000         342.000000   342.000000   \n",
       "mean        43.921930      17.151170         200.915205  4201.754386   \n",
       "std          5.459584       1.974793          14.061714   801.954536   \n",
       "min         32.100000      13.100000         172.000000  2700.000000   \n",
       "25%         39.225000      15.600000         190.000000  3550.000000   \n",
       "50%         44.450000      17.300000         197.000000  4050.000000   \n",
       "75%         48.500000      18.700000         213.000000  4750.000000   \n",
       "max         59.600000      21.500000         231.000000  6300.000000   \n",
       "\n",
       "              year  \n",
       "count   344.000000  \n",
       "mean   2008.029070  \n",
       "std       0.818356  \n",
       "min    2007.000000  \n",
       "25%    2007.000000  \n",
       "50%    2008.000000  \n",
       "75%    2009.000000  \n",
       "max    2009.000000  "
      ]
     },
     "execution_count": 4,
     "metadata": {},
     "output_type": "execute_result"
    }
   ],
   "source": [
    "penguin.describe()"
   ]
  },
  {
   "cell_type": "code",
   "execution_count": 5,
   "id": "279c7e33-a041-4a26-a295-09495f8fdebd",
   "metadata": {},
   "outputs": [
    {
     "data": {
      "text/html": [
       "<div>\n",
       "<style scoped>\n",
       "    .dataframe tbody tr th:only-of-type {\n",
       "        vertical-align: middle;\n",
       "    }\n",
       "\n",
       "    .dataframe tbody tr th {\n",
       "        vertical-align: top;\n",
       "    }\n",
       "\n",
       "    .dataframe thead th {\n",
       "        text-align: right;\n",
       "    }\n",
       "</style>\n",
       "<table border=\"1\" class=\"dataframe\">\n",
       "  <thead>\n",
       "    <tr style=\"text-align: right;\">\n",
       "      <th></th>\n",
       "      <th>count</th>\n",
       "      <th>mean</th>\n",
       "      <th>std</th>\n",
       "      <th>min</th>\n",
       "      <th>25%</th>\n",
       "      <th>50%</th>\n",
       "      <th>75%</th>\n",
       "      <th>max</th>\n",
       "    </tr>\n",
       "  </thead>\n",
       "  <tbody>\n",
       "    <tr>\n",
       "      <th>bill_length_mm</th>\n",
       "      <td>342.0</td>\n",
       "      <td>43.921930</td>\n",
       "      <td>5.459584</td>\n",
       "      <td>32.1</td>\n",
       "      <td>39.225</td>\n",
       "      <td>44.45</td>\n",
       "      <td>48.5</td>\n",
       "      <td>59.6</td>\n",
       "    </tr>\n",
       "    <tr>\n",
       "      <th>bill_depth_mm</th>\n",
       "      <td>342.0</td>\n",
       "      <td>17.151170</td>\n",
       "      <td>1.974793</td>\n",
       "      <td>13.1</td>\n",
       "      <td>15.600</td>\n",
       "      <td>17.30</td>\n",
       "      <td>18.7</td>\n",
       "      <td>21.5</td>\n",
       "    </tr>\n",
       "    <tr>\n",
       "      <th>flipper_length_mm</th>\n",
       "      <td>342.0</td>\n",
       "      <td>200.915205</td>\n",
       "      <td>14.061714</td>\n",
       "      <td>172.0</td>\n",
       "      <td>190.000</td>\n",
       "      <td>197.00</td>\n",
       "      <td>213.0</td>\n",
       "      <td>231.0</td>\n",
       "    </tr>\n",
       "    <tr>\n",
       "      <th>body_mass_g</th>\n",
       "      <td>342.0</td>\n",
       "      <td>4201.754386</td>\n",
       "      <td>801.954536</td>\n",
       "      <td>2700.0</td>\n",
       "      <td>3550.000</td>\n",
       "      <td>4050.00</td>\n",
       "      <td>4750.0</td>\n",
       "      <td>6300.0</td>\n",
       "    </tr>\n",
       "    <tr>\n",
       "      <th>year</th>\n",
       "      <td>344.0</td>\n",
       "      <td>2008.029070</td>\n",
       "      <td>0.818356</td>\n",
       "      <td>2007.0</td>\n",
       "      <td>2007.000</td>\n",
       "      <td>2008.00</td>\n",
       "      <td>2009.0</td>\n",
       "      <td>2009.0</td>\n",
       "    </tr>\n",
       "  </tbody>\n",
       "</table>\n",
       "</div>"
      ],
      "text/plain": [
       "                   count         mean         std     min       25%      50%  \\\n",
       "bill_length_mm     342.0    43.921930    5.459584    32.1    39.225    44.45   \n",
       "bill_depth_mm      342.0    17.151170    1.974793    13.1    15.600    17.30   \n",
       "flipper_length_mm  342.0   200.915205   14.061714   172.0   190.000   197.00   \n",
       "body_mass_g        342.0  4201.754386  801.954536  2700.0  3550.000  4050.00   \n",
       "year               344.0  2008.029070    0.818356  2007.0  2007.000  2008.00   \n",
       "\n",
       "                      75%     max  \n",
       "bill_length_mm       48.5    59.6  \n",
       "bill_depth_mm        18.7    21.5  \n",
       "flipper_length_mm   213.0   231.0  \n",
       "body_mass_g        4750.0  6300.0  \n",
       "year               2009.0  2009.0  "
      ]
     },
     "execution_count": 5,
     "metadata": {},
     "output_type": "execute_result"
    }
   ],
   "source": [
    "penguin.describe().T #transpose"
   ]
  },
  {
   "cell_type": "markdown",
   "id": "3ab33ac1-85d3-42cd-a68a-8c2bb7428751",
   "metadata": {},
   "source": [
    "<h1>Checking for Null Values</h1>"
   ]
  },
  {
   "cell_type": "code",
   "execution_count": 6,
   "id": "ccbc0680-5aea-4b27-8e41-35ba3c2de5ac",
   "metadata": {},
   "outputs": [
    {
     "data": {
      "text/html": [
       "<div>\n",
       "<style scoped>\n",
       "    .dataframe tbody tr th:only-of-type {\n",
       "        vertical-align: middle;\n",
       "    }\n",
       "\n",
       "    .dataframe tbody tr th {\n",
       "        vertical-align: top;\n",
       "    }\n",
       "\n",
       "    .dataframe thead th {\n",
       "        text-align: right;\n",
       "    }\n",
       "</style>\n",
       "<table border=\"1\" class=\"dataframe\">\n",
       "  <thead>\n",
       "    <tr style=\"text-align: right;\">\n",
       "      <th></th>\n",
       "      <th>species</th>\n",
       "      <th>island</th>\n",
       "      <th>bill_length_mm</th>\n",
       "      <th>bill_depth_mm</th>\n",
       "      <th>flipper_length_mm</th>\n",
       "      <th>body_mass_g</th>\n",
       "      <th>sex</th>\n",
       "      <th>year</th>\n",
       "    </tr>\n",
       "  </thead>\n",
       "  <tbody>\n",
       "    <tr>\n",
       "      <th>0</th>\n",
       "      <td>False</td>\n",
       "      <td>False</td>\n",
       "      <td>False</td>\n",
       "      <td>False</td>\n",
       "      <td>False</td>\n",
       "      <td>False</td>\n",
       "      <td>False</td>\n",
       "      <td>False</td>\n",
       "    </tr>\n",
       "    <tr>\n",
       "      <th>1</th>\n",
       "      <td>False</td>\n",
       "      <td>False</td>\n",
       "      <td>False</td>\n",
       "      <td>False</td>\n",
       "      <td>False</td>\n",
       "      <td>False</td>\n",
       "      <td>False</td>\n",
       "      <td>False</td>\n",
       "    </tr>\n",
       "    <tr>\n",
       "      <th>2</th>\n",
       "      <td>False</td>\n",
       "      <td>False</td>\n",
       "      <td>False</td>\n",
       "      <td>False</td>\n",
       "      <td>False</td>\n",
       "      <td>False</td>\n",
       "      <td>False</td>\n",
       "      <td>False</td>\n",
       "    </tr>\n",
       "    <tr>\n",
       "      <th>3</th>\n",
       "      <td>False</td>\n",
       "      <td>False</td>\n",
       "      <td>True</td>\n",
       "      <td>True</td>\n",
       "      <td>True</td>\n",
       "      <td>True</td>\n",
       "      <td>True</td>\n",
       "      <td>False</td>\n",
       "    </tr>\n",
       "    <tr>\n",
       "      <th>4</th>\n",
       "      <td>False</td>\n",
       "      <td>False</td>\n",
       "      <td>False</td>\n",
       "      <td>False</td>\n",
       "      <td>False</td>\n",
       "      <td>False</td>\n",
       "      <td>False</td>\n",
       "      <td>False</td>\n",
       "    </tr>\n",
       "    <tr>\n",
       "      <th>...</th>\n",
       "      <td>...</td>\n",
       "      <td>...</td>\n",
       "      <td>...</td>\n",
       "      <td>...</td>\n",
       "      <td>...</td>\n",
       "      <td>...</td>\n",
       "      <td>...</td>\n",
       "      <td>...</td>\n",
       "    </tr>\n",
       "    <tr>\n",
       "      <th>339</th>\n",
       "      <td>False</td>\n",
       "      <td>False</td>\n",
       "      <td>False</td>\n",
       "      <td>False</td>\n",
       "      <td>False</td>\n",
       "      <td>False</td>\n",
       "      <td>False</td>\n",
       "      <td>False</td>\n",
       "    </tr>\n",
       "    <tr>\n",
       "      <th>340</th>\n",
       "      <td>False</td>\n",
       "      <td>False</td>\n",
       "      <td>False</td>\n",
       "      <td>False</td>\n",
       "      <td>False</td>\n",
       "      <td>False</td>\n",
       "      <td>False</td>\n",
       "      <td>False</td>\n",
       "    </tr>\n",
       "    <tr>\n",
       "      <th>341</th>\n",
       "      <td>False</td>\n",
       "      <td>False</td>\n",
       "      <td>False</td>\n",
       "      <td>False</td>\n",
       "      <td>False</td>\n",
       "      <td>False</td>\n",
       "      <td>False</td>\n",
       "      <td>False</td>\n",
       "    </tr>\n",
       "    <tr>\n",
       "      <th>342</th>\n",
       "      <td>False</td>\n",
       "      <td>False</td>\n",
       "      <td>False</td>\n",
       "      <td>False</td>\n",
       "      <td>False</td>\n",
       "      <td>False</td>\n",
       "      <td>False</td>\n",
       "      <td>False</td>\n",
       "    </tr>\n",
       "    <tr>\n",
       "      <th>343</th>\n",
       "      <td>False</td>\n",
       "      <td>False</td>\n",
       "      <td>False</td>\n",
       "      <td>False</td>\n",
       "      <td>False</td>\n",
       "      <td>False</td>\n",
       "      <td>False</td>\n",
       "      <td>False</td>\n",
       "    </tr>\n",
       "  </tbody>\n",
       "</table>\n",
       "<p>344 rows × 8 columns</p>\n",
       "</div>"
      ],
      "text/plain": [
       "     species  island  bill_length_mm  bill_depth_mm  flipper_length_mm  \\\n",
       "0      False   False           False          False              False   \n",
       "1      False   False           False          False              False   \n",
       "2      False   False           False          False              False   \n",
       "3      False   False            True           True               True   \n",
       "4      False   False           False          False              False   \n",
       "..       ...     ...             ...            ...                ...   \n",
       "339    False   False           False          False              False   \n",
       "340    False   False           False          False              False   \n",
       "341    False   False           False          False              False   \n",
       "342    False   False           False          False              False   \n",
       "343    False   False           False          False              False   \n",
       "\n",
       "     body_mass_g    sex   year  \n",
       "0          False  False  False  \n",
       "1          False  False  False  \n",
       "2          False  False  False  \n",
       "3           True   True  False  \n",
       "4          False  False  False  \n",
       "..           ...    ...    ...  \n",
       "339        False  False  False  \n",
       "340        False  False  False  \n",
       "341        False  False  False  \n",
       "342        False  False  False  \n",
       "343        False  False  False  \n",
       "\n",
       "[344 rows x 8 columns]"
      ]
     },
     "execution_count": 6,
     "metadata": {},
     "output_type": "execute_result"
    }
   ],
   "source": [
    "penguin.isnull()"
   ]
  },
  {
   "cell_type": "code",
   "execution_count": 7,
   "id": "01621ac8-bd63-47d9-8bbb-f53882f1b4ab",
   "metadata": {},
   "outputs": [
    {
     "data": {
      "text/plain": [
       "species               0\n",
       "island                0\n",
       "bill_length_mm        2\n",
       "bill_depth_mm         2\n",
       "flipper_length_mm     2\n",
       "body_mass_g           2\n",
       "sex                  11\n",
       "year                  0\n",
       "dtype: int64"
      ]
     },
     "execution_count": 7,
     "metadata": {},
     "output_type": "execute_result"
    }
   ],
   "source": [
    "penguin.isnull().sum()"
   ]
  },
  {
   "cell_type": "markdown",
   "id": "8a250d8e-eaa2-4cc7-86f2-b53a34608983",
   "metadata": {},
   "source": [
    "<h1>Filtering</h1>"
   ]
  },
  {
   "cell_type": "code",
   "execution_count": 8,
   "id": "4996479b-d1c7-4bc7-9a75-b8858b6d5bc0",
   "metadata": {},
   "outputs": [
    {
     "data": {
      "text/plain": [
       "0         Adelie\n",
       "1         Adelie\n",
       "2         Adelie\n",
       "3         Adelie\n",
       "4         Adelie\n",
       "         ...    \n",
       "339    Chinstrap\n",
       "340    Chinstrap\n",
       "341    Chinstrap\n",
       "342    Chinstrap\n",
       "343    Chinstrap\n",
       "Name: species, Length: 344, dtype: object"
      ]
     },
     "execution_count": 8,
     "metadata": {},
     "output_type": "execute_result"
    }
   ],
   "source": [
    "penguin['species']"
   ]
  },
  {
   "cell_type": "code",
   "execution_count": 9,
   "id": "1a45f348-5e68-471e-a42d-085d17d8130f",
   "metadata": {},
   "outputs": [
    {
     "data": {
      "text/plain": [
       "species\n",
       "Adelie       152\n",
       "Gentoo       124\n",
       "Chinstrap     68\n",
       "Name: count, dtype: int64"
      ]
     },
     "execution_count": 9,
     "metadata": {},
     "output_type": "execute_result"
    }
   ],
   "source": [
    "penguin['species'].value_counts()"
   ]
  },
  {
   "cell_type": "code",
   "execution_count": 10,
   "id": "0b0e68e7-1387-45dc-b277-5a98647e1b24",
   "metadata": {},
   "outputs": [
    {
     "data": {
      "text/plain": [
       "0      False\n",
       "1      False\n",
       "2      False\n",
       "3      False\n",
       "4      False\n",
       "       ...  \n",
       "339    False\n",
       "340    False\n",
       "341    False\n",
       "342    False\n",
       "343    False\n",
       "Name: species, Length: 344, dtype: bool"
      ]
     },
     "execution_count": 10,
     "metadata": {},
     "output_type": "execute_result"
    }
   ],
   "source": [
    "penguin['species'] == \"Gentoo\""
   ]
  },
  {
   "cell_type": "code",
   "execution_count": 11,
   "id": "9de69aa4-63cb-48e8-8ce2-f4d0d8b576a7",
   "metadata": {},
   "outputs": [
    {
     "data": {
      "text/html": [
       "<div>\n",
       "<style scoped>\n",
       "    .dataframe tbody tr th:only-of-type {\n",
       "        vertical-align: middle;\n",
       "    }\n",
       "\n",
       "    .dataframe tbody tr th {\n",
       "        vertical-align: top;\n",
       "    }\n",
       "\n",
       "    .dataframe thead th {\n",
       "        text-align: right;\n",
       "    }\n",
       "</style>\n",
       "<table border=\"1\" class=\"dataframe\">\n",
       "  <thead>\n",
       "    <tr style=\"text-align: right;\">\n",
       "      <th></th>\n",
       "      <th>species</th>\n",
       "      <th>island</th>\n",
       "      <th>bill_length_mm</th>\n",
       "      <th>bill_depth_mm</th>\n",
       "      <th>flipper_length_mm</th>\n",
       "      <th>body_mass_g</th>\n",
       "      <th>sex</th>\n",
       "      <th>year</th>\n",
       "    </tr>\n",
       "  </thead>\n",
       "  <tbody>\n",
       "    <tr>\n",
       "      <th>152</th>\n",
       "      <td>Gentoo</td>\n",
       "      <td>Biscoe</td>\n",
       "      <td>46.1</td>\n",
       "      <td>13.2</td>\n",
       "      <td>211.0</td>\n",
       "      <td>4500.0</td>\n",
       "      <td>female</td>\n",
       "      <td>2007</td>\n",
       "    </tr>\n",
       "    <tr>\n",
       "      <th>153</th>\n",
       "      <td>Gentoo</td>\n",
       "      <td>Biscoe</td>\n",
       "      <td>50.0</td>\n",
       "      <td>16.3</td>\n",
       "      <td>230.0</td>\n",
       "      <td>5700.0</td>\n",
       "      <td>male</td>\n",
       "      <td>2007</td>\n",
       "    </tr>\n",
       "    <tr>\n",
       "      <th>154</th>\n",
       "      <td>Gentoo</td>\n",
       "      <td>Biscoe</td>\n",
       "      <td>48.7</td>\n",
       "      <td>14.1</td>\n",
       "      <td>210.0</td>\n",
       "      <td>4450.0</td>\n",
       "      <td>female</td>\n",
       "      <td>2007</td>\n",
       "    </tr>\n",
       "    <tr>\n",
       "      <th>155</th>\n",
       "      <td>Gentoo</td>\n",
       "      <td>Biscoe</td>\n",
       "      <td>50.0</td>\n",
       "      <td>15.2</td>\n",
       "      <td>218.0</td>\n",
       "      <td>5700.0</td>\n",
       "      <td>male</td>\n",
       "      <td>2007</td>\n",
       "    </tr>\n",
       "    <tr>\n",
       "      <th>156</th>\n",
       "      <td>Gentoo</td>\n",
       "      <td>Biscoe</td>\n",
       "      <td>47.6</td>\n",
       "      <td>14.5</td>\n",
       "      <td>215.0</td>\n",
       "      <td>5400.0</td>\n",
       "      <td>male</td>\n",
       "      <td>2007</td>\n",
       "    </tr>\n",
       "    <tr>\n",
       "      <th>...</th>\n",
       "      <td>...</td>\n",
       "      <td>...</td>\n",
       "      <td>...</td>\n",
       "      <td>...</td>\n",
       "      <td>...</td>\n",
       "      <td>...</td>\n",
       "      <td>...</td>\n",
       "      <td>...</td>\n",
       "    </tr>\n",
       "    <tr>\n",
       "      <th>271</th>\n",
       "      <td>Gentoo</td>\n",
       "      <td>Biscoe</td>\n",
       "      <td>NaN</td>\n",
       "      <td>NaN</td>\n",
       "      <td>NaN</td>\n",
       "      <td>NaN</td>\n",
       "      <td>NaN</td>\n",
       "      <td>2009</td>\n",
       "    </tr>\n",
       "    <tr>\n",
       "      <th>272</th>\n",
       "      <td>Gentoo</td>\n",
       "      <td>Biscoe</td>\n",
       "      <td>46.8</td>\n",
       "      <td>14.3</td>\n",
       "      <td>215.0</td>\n",
       "      <td>4850.0</td>\n",
       "      <td>female</td>\n",
       "      <td>2009</td>\n",
       "    </tr>\n",
       "    <tr>\n",
       "      <th>273</th>\n",
       "      <td>Gentoo</td>\n",
       "      <td>Biscoe</td>\n",
       "      <td>50.4</td>\n",
       "      <td>15.7</td>\n",
       "      <td>222.0</td>\n",
       "      <td>5750.0</td>\n",
       "      <td>male</td>\n",
       "      <td>2009</td>\n",
       "    </tr>\n",
       "    <tr>\n",
       "      <th>274</th>\n",
       "      <td>Gentoo</td>\n",
       "      <td>Biscoe</td>\n",
       "      <td>45.2</td>\n",
       "      <td>14.8</td>\n",
       "      <td>212.0</td>\n",
       "      <td>5200.0</td>\n",
       "      <td>female</td>\n",
       "      <td>2009</td>\n",
       "    </tr>\n",
       "    <tr>\n",
       "      <th>275</th>\n",
       "      <td>Gentoo</td>\n",
       "      <td>Biscoe</td>\n",
       "      <td>49.9</td>\n",
       "      <td>16.1</td>\n",
       "      <td>213.0</td>\n",
       "      <td>5400.0</td>\n",
       "      <td>male</td>\n",
       "      <td>2009</td>\n",
       "    </tr>\n",
       "  </tbody>\n",
       "</table>\n",
       "<p>124 rows × 8 columns</p>\n",
       "</div>"
      ],
      "text/plain": [
       "    species  island  bill_length_mm  bill_depth_mm  flipper_length_mm  \\\n",
       "152  Gentoo  Biscoe            46.1           13.2              211.0   \n",
       "153  Gentoo  Biscoe            50.0           16.3              230.0   \n",
       "154  Gentoo  Biscoe            48.7           14.1              210.0   \n",
       "155  Gentoo  Biscoe            50.0           15.2              218.0   \n",
       "156  Gentoo  Biscoe            47.6           14.5              215.0   \n",
       "..      ...     ...             ...            ...                ...   \n",
       "271  Gentoo  Biscoe             NaN            NaN                NaN   \n",
       "272  Gentoo  Biscoe            46.8           14.3              215.0   \n",
       "273  Gentoo  Biscoe            50.4           15.7              222.0   \n",
       "274  Gentoo  Biscoe            45.2           14.8              212.0   \n",
       "275  Gentoo  Biscoe            49.9           16.1              213.0   \n",
       "\n",
       "     body_mass_g     sex  year  \n",
       "152       4500.0  female  2007  \n",
       "153       5700.0    male  2007  \n",
       "154       4450.0  female  2007  \n",
       "155       5700.0    male  2007  \n",
       "156       5400.0    male  2007  \n",
       "..           ...     ...   ...  \n",
       "271          NaN     NaN  2009  \n",
       "272       4850.0  female  2009  \n",
       "273       5750.0    male  2009  \n",
       "274       5200.0  female  2009  \n",
       "275       5400.0    male  2009  \n",
       "\n",
       "[124 rows x 8 columns]"
      ]
     },
     "execution_count": 11,
     "metadata": {},
     "output_type": "execute_result"
    }
   ],
   "source": [
    "penguin[penguin['species'] == \"Gentoo\"]"
   ]
  },
  {
   "cell_type": "markdown",
   "id": "781484c3-ee68-487e-b826-838ff3537838",
   "metadata": {},
   "source": [
    "<h1>Separating Data Frames</h1>"
   ]
  },
  {
   "cell_type": "code",
   "execution_count": 12,
   "id": "0a463281-4e40-41cd-8a9e-26e8e52a5210",
   "metadata": {},
   "outputs": [
    {
     "data": {
      "text/html": [
       "<div>\n",
       "<style scoped>\n",
       "    .dataframe tbody tr th:only-of-type {\n",
       "        vertical-align: middle;\n",
       "    }\n",
       "\n",
       "    .dataframe tbody tr th {\n",
       "        vertical-align: top;\n",
       "    }\n",
       "\n",
       "    .dataframe thead th {\n",
       "        text-align: right;\n",
       "    }\n",
       "</style>\n",
       "<table border=\"1\" class=\"dataframe\">\n",
       "  <thead>\n",
       "    <tr style=\"text-align: right;\">\n",
       "      <th></th>\n",
       "      <th>species</th>\n",
       "      <th>island</th>\n",
       "      <th>bill_length_mm</th>\n",
       "      <th>bill_depth_mm</th>\n",
       "      <th>flipper_length_mm</th>\n",
       "      <th>body_mass_g</th>\n",
       "      <th>sex</th>\n",
       "      <th>year</th>\n",
       "    </tr>\n",
       "  </thead>\n",
       "  <tbody>\n",
       "    <tr>\n",
       "      <th>152</th>\n",
       "      <td>Gentoo</td>\n",
       "      <td>Biscoe</td>\n",
       "      <td>46.1</td>\n",
       "      <td>13.2</td>\n",
       "      <td>211.0</td>\n",
       "      <td>4500.0</td>\n",
       "      <td>female</td>\n",
       "      <td>2007</td>\n",
       "    </tr>\n",
       "    <tr>\n",
       "      <th>153</th>\n",
       "      <td>Gentoo</td>\n",
       "      <td>Biscoe</td>\n",
       "      <td>50.0</td>\n",
       "      <td>16.3</td>\n",
       "      <td>230.0</td>\n",
       "      <td>5700.0</td>\n",
       "      <td>male</td>\n",
       "      <td>2007</td>\n",
       "    </tr>\n",
       "    <tr>\n",
       "      <th>154</th>\n",
       "      <td>Gentoo</td>\n",
       "      <td>Biscoe</td>\n",
       "      <td>48.7</td>\n",
       "      <td>14.1</td>\n",
       "      <td>210.0</td>\n",
       "      <td>4450.0</td>\n",
       "      <td>female</td>\n",
       "      <td>2007</td>\n",
       "    </tr>\n",
       "    <tr>\n",
       "      <th>155</th>\n",
       "      <td>Gentoo</td>\n",
       "      <td>Biscoe</td>\n",
       "      <td>50.0</td>\n",
       "      <td>15.2</td>\n",
       "      <td>218.0</td>\n",
       "      <td>5700.0</td>\n",
       "      <td>male</td>\n",
       "      <td>2007</td>\n",
       "    </tr>\n",
       "    <tr>\n",
       "      <th>156</th>\n",
       "      <td>Gentoo</td>\n",
       "      <td>Biscoe</td>\n",
       "      <td>47.6</td>\n",
       "      <td>14.5</td>\n",
       "      <td>215.0</td>\n",
       "      <td>5400.0</td>\n",
       "      <td>male</td>\n",
       "      <td>2007</td>\n",
       "    </tr>\n",
       "    <tr>\n",
       "      <th>...</th>\n",
       "      <td>...</td>\n",
       "      <td>...</td>\n",
       "      <td>...</td>\n",
       "      <td>...</td>\n",
       "      <td>...</td>\n",
       "      <td>...</td>\n",
       "      <td>...</td>\n",
       "      <td>...</td>\n",
       "    </tr>\n",
       "    <tr>\n",
       "      <th>271</th>\n",
       "      <td>Gentoo</td>\n",
       "      <td>Biscoe</td>\n",
       "      <td>NaN</td>\n",
       "      <td>NaN</td>\n",
       "      <td>NaN</td>\n",
       "      <td>NaN</td>\n",
       "      <td>NaN</td>\n",
       "      <td>2009</td>\n",
       "    </tr>\n",
       "    <tr>\n",
       "      <th>272</th>\n",
       "      <td>Gentoo</td>\n",
       "      <td>Biscoe</td>\n",
       "      <td>46.8</td>\n",
       "      <td>14.3</td>\n",
       "      <td>215.0</td>\n",
       "      <td>4850.0</td>\n",
       "      <td>female</td>\n",
       "      <td>2009</td>\n",
       "    </tr>\n",
       "    <tr>\n",
       "      <th>273</th>\n",
       "      <td>Gentoo</td>\n",
       "      <td>Biscoe</td>\n",
       "      <td>50.4</td>\n",
       "      <td>15.7</td>\n",
       "      <td>222.0</td>\n",
       "      <td>5750.0</td>\n",
       "      <td>male</td>\n",
       "      <td>2009</td>\n",
       "    </tr>\n",
       "    <tr>\n",
       "      <th>274</th>\n",
       "      <td>Gentoo</td>\n",
       "      <td>Biscoe</td>\n",
       "      <td>45.2</td>\n",
       "      <td>14.8</td>\n",
       "      <td>212.0</td>\n",
       "      <td>5200.0</td>\n",
       "      <td>female</td>\n",
       "      <td>2009</td>\n",
       "    </tr>\n",
       "    <tr>\n",
       "      <th>275</th>\n",
       "      <td>Gentoo</td>\n",
       "      <td>Biscoe</td>\n",
       "      <td>49.9</td>\n",
       "      <td>16.1</td>\n",
       "      <td>213.0</td>\n",
       "      <td>5400.0</td>\n",
       "      <td>male</td>\n",
       "      <td>2009</td>\n",
       "    </tr>\n",
       "  </tbody>\n",
       "</table>\n",
       "<p>124 rows × 8 columns</p>\n",
       "</div>"
      ],
      "text/plain": [
       "    species  island  bill_length_mm  bill_depth_mm  flipper_length_mm  \\\n",
       "152  Gentoo  Biscoe            46.1           13.2              211.0   \n",
       "153  Gentoo  Biscoe            50.0           16.3              230.0   \n",
       "154  Gentoo  Biscoe            48.7           14.1              210.0   \n",
       "155  Gentoo  Biscoe            50.0           15.2              218.0   \n",
       "156  Gentoo  Biscoe            47.6           14.5              215.0   \n",
       "..      ...     ...             ...            ...                ...   \n",
       "271  Gentoo  Biscoe             NaN            NaN                NaN   \n",
       "272  Gentoo  Biscoe            46.8           14.3              215.0   \n",
       "273  Gentoo  Biscoe            50.4           15.7              222.0   \n",
       "274  Gentoo  Biscoe            45.2           14.8              212.0   \n",
       "275  Gentoo  Biscoe            49.9           16.1              213.0   \n",
       "\n",
       "     body_mass_g     sex  year  \n",
       "152       4500.0  female  2007  \n",
       "153       5700.0    male  2007  \n",
       "154       4450.0  female  2007  \n",
       "155       5700.0    male  2007  \n",
       "156       5400.0    male  2007  \n",
       "..           ...     ...   ...  \n",
       "271          NaN     NaN  2009  \n",
       "272       4850.0  female  2009  \n",
       "273       5750.0    male  2009  \n",
       "274       5200.0  female  2009  \n",
       "275       5400.0    male  2009  \n",
       "\n",
       "[124 rows x 8 columns]"
      ]
     },
     "execution_count": 12,
     "metadata": {},
     "output_type": "execute_result"
    }
   ],
   "source": [
    "gentoo_df = penguin[penguin['species'] == \"Gentoo\"]\n",
    "gentoo_df"
   ]
  },
  {
   "cell_type": "code",
   "execution_count": 13,
   "id": "02efda3e-fc86-42b4-b6cb-98e0b434767b",
   "metadata": {},
   "outputs": [
    {
     "data": {
      "text/html": [
       "<div>\n",
       "<style scoped>\n",
       "    .dataframe tbody tr th:only-of-type {\n",
       "        vertical-align: middle;\n",
       "    }\n",
       "\n",
       "    .dataframe tbody tr th {\n",
       "        vertical-align: top;\n",
       "    }\n",
       "\n",
       "    .dataframe thead th {\n",
       "        text-align: right;\n",
       "    }\n",
       "</style>\n",
       "<table border=\"1\" class=\"dataframe\">\n",
       "  <thead>\n",
       "    <tr style=\"text-align: right;\">\n",
       "      <th></th>\n",
       "      <th>species</th>\n",
       "      <th>island</th>\n",
       "      <th>bill_length_mm</th>\n",
       "      <th>bill_depth_mm</th>\n",
       "      <th>flipper_length_mm</th>\n",
       "      <th>body_mass_g</th>\n",
       "      <th>sex</th>\n",
       "      <th>year</th>\n",
       "    </tr>\n",
       "  </thead>\n",
       "  <tbody>\n",
       "    <tr>\n",
       "      <th>0</th>\n",
       "      <td>Adelie</td>\n",
       "      <td>Torgersen</td>\n",
       "      <td>39.1</td>\n",
       "      <td>18.7</td>\n",
       "      <td>181.0</td>\n",
       "      <td>3750.0</td>\n",
       "      <td>male</td>\n",
       "      <td>2007</td>\n",
       "    </tr>\n",
       "    <tr>\n",
       "      <th>1</th>\n",
       "      <td>Adelie</td>\n",
       "      <td>Torgersen</td>\n",
       "      <td>39.5</td>\n",
       "      <td>17.4</td>\n",
       "      <td>186.0</td>\n",
       "      <td>3800.0</td>\n",
       "      <td>female</td>\n",
       "      <td>2007</td>\n",
       "    </tr>\n",
       "    <tr>\n",
       "      <th>2</th>\n",
       "      <td>Adelie</td>\n",
       "      <td>Torgersen</td>\n",
       "      <td>40.3</td>\n",
       "      <td>18.0</td>\n",
       "      <td>195.0</td>\n",
       "      <td>3250.0</td>\n",
       "      <td>female</td>\n",
       "      <td>2007</td>\n",
       "    </tr>\n",
       "    <tr>\n",
       "      <th>3</th>\n",
       "      <td>Adelie</td>\n",
       "      <td>Torgersen</td>\n",
       "      <td>NaN</td>\n",
       "      <td>NaN</td>\n",
       "      <td>NaN</td>\n",
       "      <td>NaN</td>\n",
       "      <td>NaN</td>\n",
       "      <td>2007</td>\n",
       "    </tr>\n",
       "    <tr>\n",
       "      <th>4</th>\n",
       "      <td>Adelie</td>\n",
       "      <td>Torgersen</td>\n",
       "      <td>36.7</td>\n",
       "      <td>19.3</td>\n",
       "      <td>193.0</td>\n",
       "      <td>3450.0</td>\n",
       "      <td>female</td>\n",
       "      <td>2007</td>\n",
       "    </tr>\n",
       "    <tr>\n",
       "      <th>...</th>\n",
       "      <td>...</td>\n",
       "      <td>...</td>\n",
       "      <td>...</td>\n",
       "      <td>...</td>\n",
       "      <td>...</td>\n",
       "      <td>...</td>\n",
       "      <td>...</td>\n",
       "      <td>...</td>\n",
       "    </tr>\n",
       "    <tr>\n",
       "      <th>147</th>\n",
       "      <td>Adelie</td>\n",
       "      <td>Dream</td>\n",
       "      <td>36.6</td>\n",
       "      <td>18.4</td>\n",
       "      <td>184.0</td>\n",
       "      <td>3475.0</td>\n",
       "      <td>female</td>\n",
       "      <td>2009</td>\n",
       "    </tr>\n",
       "    <tr>\n",
       "      <th>148</th>\n",
       "      <td>Adelie</td>\n",
       "      <td>Dream</td>\n",
       "      <td>36.0</td>\n",
       "      <td>17.8</td>\n",
       "      <td>195.0</td>\n",
       "      <td>3450.0</td>\n",
       "      <td>female</td>\n",
       "      <td>2009</td>\n",
       "    </tr>\n",
       "    <tr>\n",
       "      <th>149</th>\n",
       "      <td>Adelie</td>\n",
       "      <td>Dream</td>\n",
       "      <td>37.8</td>\n",
       "      <td>18.1</td>\n",
       "      <td>193.0</td>\n",
       "      <td>3750.0</td>\n",
       "      <td>male</td>\n",
       "      <td>2009</td>\n",
       "    </tr>\n",
       "    <tr>\n",
       "      <th>150</th>\n",
       "      <td>Adelie</td>\n",
       "      <td>Dream</td>\n",
       "      <td>36.0</td>\n",
       "      <td>17.1</td>\n",
       "      <td>187.0</td>\n",
       "      <td>3700.0</td>\n",
       "      <td>female</td>\n",
       "      <td>2009</td>\n",
       "    </tr>\n",
       "    <tr>\n",
       "      <th>151</th>\n",
       "      <td>Adelie</td>\n",
       "      <td>Dream</td>\n",
       "      <td>41.5</td>\n",
       "      <td>18.5</td>\n",
       "      <td>201.0</td>\n",
       "      <td>4000.0</td>\n",
       "      <td>male</td>\n",
       "      <td>2009</td>\n",
       "    </tr>\n",
       "  </tbody>\n",
       "</table>\n",
       "<p>152 rows × 8 columns</p>\n",
       "</div>"
      ],
      "text/plain": [
       "    species     island  bill_length_mm  bill_depth_mm  flipper_length_mm  \\\n",
       "0    Adelie  Torgersen            39.1           18.7              181.0   \n",
       "1    Adelie  Torgersen            39.5           17.4              186.0   \n",
       "2    Adelie  Torgersen            40.3           18.0              195.0   \n",
       "3    Adelie  Torgersen             NaN            NaN                NaN   \n",
       "4    Adelie  Torgersen            36.7           19.3              193.0   \n",
       "..      ...        ...             ...            ...                ...   \n",
       "147  Adelie      Dream            36.6           18.4              184.0   \n",
       "148  Adelie      Dream            36.0           17.8              195.0   \n",
       "149  Adelie      Dream            37.8           18.1              193.0   \n",
       "150  Adelie      Dream            36.0           17.1              187.0   \n",
       "151  Adelie      Dream            41.5           18.5              201.0   \n",
       "\n",
       "     body_mass_g     sex  year  \n",
       "0         3750.0    male  2007  \n",
       "1         3800.0  female  2007  \n",
       "2         3250.0  female  2007  \n",
       "3            NaN     NaN  2007  \n",
       "4         3450.0  female  2007  \n",
       "..           ...     ...   ...  \n",
       "147       3475.0  female  2009  \n",
       "148       3450.0  female  2009  \n",
       "149       3750.0    male  2009  \n",
       "150       3700.0  female  2009  \n",
       "151       4000.0    male  2009  \n",
       "\n",
       "[152 rows x 8 columns]"
      ]
     },
     "execution_count": 13,
     "metadata": {},
     "output_type": "execute_result"
    }
   ],
   "source": [
    "adelie_df = penguin[penguin['species'] == \"Adelie\"]\n",
    "adelie_df"
   ]
  },
  {
   "cell_type": "code",
   "execution_count": 14,
   "id": "988e29bd-b37f-4e70-bee9-fb9e003fdfd4",
   "metadata": {},
   "outputs": [
    {
     "data": {
      "text/html": [
       "<div>\n",
       "<style scoped>\n",
       "    .dataframe tbody tr th:only-of-type {\n",
       "        vertical-align: middle;\n",
       "    }\n",
       "\n",
       "    .dataframe tbody tr th {\n",
       "        vertical-align: top;\n",
       "    }\n",
       "\n",
       "    .dataframe thead th {\n",
       "        text-align: right;\n",
       "    }\n",
       "</style>\n",
       "<table border=\"1\" class=\"dataframe\">\n",
       "  <thead>\n",
       "    <tr style=\"text-align: right;\">\n",
       "      <th></th>\n",
       "      <th>species</th>\n",
       "      <th>island</th>\n",
       "      <th>bill_length_mm</th>\n",
       "      <th>bill_depth_mm</th>\n",
       "      <th>flipper_length_mm</th>\n",
       "      <th>body_mass_g</th>\n",
       "      <th>sex</th>\n",
       "      <th>year</th>\n",
       "    </tr>\n",
       "  </thead>\n",
       "  <tbody>\n",
       "    <tr>\n",
       "      <th>276</th>\n",
       "      <td>Chinstrap</td>\n",
       "      <td>Dream</td>\n",
       "      <td>46.5</td>\n",
       "      <td>17.9</td>\n",
       "      <td>192.0</td>\n",
       "      <td>3500.0</td>\n",
       "      <td>female</td>\n",
       "      <td>2007</td>\n",
       "    </tr>\n",
       "    <tr>\n",
       "      <th>277</th>\n",
       "      <td>Chinstrap</td>\n",
       "      <td>Dream</td>\n",
       "      <td>50.0</td>\n",
       "      <td>19.5</td>\n",
       "      <td>196.0</td>\n",
       "      <td>3900.0</td>\n",
       "      <td>male</td>\n",
       "      <td>2007</td>\n",
       "    </tr>\n",
       "    <tr>\n",
       "      <th>278</th>\n",
       "      <td>Chinstrap</td>\n",
       "      <td>Dream</td>\n",
       "      <td>51.3</td>\n",
       "      <td>19.2</td>\n",
       "      <td>193.0</td>\n",
       "      <td>3650.0</td>\n",
       "      <td>male</td>\n",
       "      <td>2007</td>\n",
       "    </tr>\n",
       "    <tr>\n",
       "      <th>279</th>\n",
       "      <td>Chinstrap</td>\n",
       "      <td>Dream</td>\n",
       "      <td>45.4</td>\n",
       "      <td>18.7</td>\n",
       "      <td>188.0</td>\n",
       "      <td>3525.0</td>\n",
       "      <td>female</td>\n",
       "      <td>2007</td>\n",
       "    </tr>\n",
       "    <tr>\n",
       "      <th>280</th>\n",
       "      <td>Chinstrap</td>\n",
       "      <td>Dream</td>\n",
       "      <td>52.7</td>\n",
       "      <td>19.8</td>\n",
       "      <td>197.0</td>\n",
       "      <td>3725.0</td>\n",
       "      <td>male</td>\n",
       "      <td>2007</td>\n",
       "    </tr>\n",
       "    <tr>\n",
       "      <th>...</th>\n",
       "      <td>...</td>\n",
       "      <td>...</td>\n",
       "      <td>...</td>\n",
       "      <td>...</td>\n",
       "      <td>...</td>\n",
       "      <td>...</td>\n",
       "      <td>...</td>\n",
       "      <td>...</td>\n",
       "    </tr>\n",
       "    <tr>\n",
       "      <th>339</th>\n",
       "      <td>Chinstrap</td>\n",
       "      <td>Dream</td>\n",
       "      <td>55.8</td>\n",
       "      <td>19.8</td>\n",
       "      <td>207.0</td>\n",
       "      <td>4000.0</td>\n",
       "      <td>male</td>\n",
       "      <td>2009</td>\n",
       "    </tr>\n",
       "    <tr>\n",
       "      <th>340</th>\n",
       "      <td>Chinstrap</td>\n",
       "      <td>Dream</td>\n",
       "      <td>43.5</td>\n",
       "      <td>18.1</td>\n",
       "      <td>202.0</td>\n",
       "      <td>3400.0</td>\n",
       "      <td>female</td>\n",
       "      <td>2009</td>\n",
       "    </tr>\n",
       "    <tr>\n",
       "      <th>341</th>\n",
       "      <td>Chinstrap</td>\n",
       "      <td>Dream</td>\n",
       "      <td>49.6</td>\n",
       "      <td>18.2</td>\n",
       "      <td>193.0</td>\n",
       "      <td>3775.0</td>\n",
       "      <td>male</td>\n",
       "      <td>2009</td>\n",
       "    </tr>\n",
       "    <tr>\n",
       "      <th>342</th>\n",
       "      <td>Chinstrap</td>\n",
       "      <td>Dream</td>\n",
       "      <td>50.8</td>\n",
       "      <td>19.0</td>\n",
       "      <td>210.0</td>\n",
       "      <td>4100.0</td>\n",
       "      <td>male</td>\n",
       "      <td>2009</td>\n",
       "    </tr>\n",
       "    <tr>\n",
       "      <th>343</th>\n",
       "      <td>Chinstrap</td>\n",
       "      <td>Dream</td>\n",
       "      <td>50.2</td>\n",
       "      <td>18.7</td>\n",
       "      <td>198.0</td>\n",
       "      <td>3775.0</td>\n",
       "      <td>female</td>\n",
       "      <td>2009</td>\n",
       "    </tr>\n",
       "  </tbody>\n",
       "</table>\n",
       "<p>68 rows × 8 columns</p>\n",
       "</div>"
      ],
      "text/plain": [
       "       species island  bill_length_mm  bill_depth_mm  flipper_length_mm  \\\n",
       "276  Chinstrap  Dream            46.5           17.9              192.0   \n",
       "277  Chinstrap  Dream            50.0           19.5              196.0   \n",
       "278  Chinstrap  Dream            51.3           19.2              193.0   \n",
       "279  Chinstrap  Dream            45.4           18.7              188.0   \n",
       "280  Chinstrap  Dream            52.7           19.8              197.0   \n",
       "..         ...    ...             ...            ...                ...   \n",
       "339  Chinstrap  Dream            55.8           19.8              207.0   \n",
       "340  Chinstrap  Dream            43.5           18.1              202.0   \n",
       "341  Chinstrap  Dream            49.6           18.2              193.0   \n",
       "342  Chinstrap  Dream            50.8           19.0              210.0   \n",
       "343  Chinstrap  Dream            50.2           18.7              198.0   \n",
       "\n",
       "     body_mass_g     sex  year  \n",
       "276       3500.0  female  2007  \n",
       "277       3900.0    male  2007  \n",
       "278       3650.0    male  2007  \n",
       "279       3525.0  female  2007  \n",
       "280       3725.0    male  2007  \n",
       "..           ...     ...   ...  \n",
       "339       4000.0    male  2009  \n",
       "340       3400.0  female  2009  \n",
       "341       3775.0    male  2009  \n",
       "342       4100.0    male  2009  \n",
       "343       3775.0  female  2009  \n",
       "\n",
       "[68 rows x 8 columns]"
      ]
     },
     "execution_count": 14,
     "metadata": {},
     "output_type": "execute_result"
    }
   ],
   "source": [
    "chinstrap_df = penguin[penguin['species'] == \"Chinstrap\"]\n",
    "chinstrap_df"
   ]
  },
  {
   "cell_type": "markdown",
   "id": "75fef109-e3f0-419e-b724-a4d760fb5da5",
   "metadata": {},
   "source": [
    "<h1>How many Chinstrap is weighting over 4000g</h1>"
   ]
  },
  {
   "cell_type": "code",
   "execution_count": 15,
   "id": "a3c054d2-9075-4103-9f82-7730ce1840b0",
   "metadata": {},
   "outputs": [
    {
     "data": {
      "text/plain": [
       "0      False\n",
       "1      False\n",
       "2      False\n",
       "3      False\n",
       "4      False\n",
       "       ...  \n",
       "339     True\n",
       "340     True\n",
       "341     True\n",
       "342     True\n",
       "343     True\n",
       "Name: species, Length: 344, dtype: bool"
      ]
     },
     "execution_count": 15,
     "metadata": {},
     "output_type": "execute_result"
    }
   ],
   "source": [
    "penguin['species'] == \"Chinstrap\""
   ]
  },
  {
   "cell_type": "code",
   "execution_count": 16,
   "id": "10d6a567-51b3-4204-a668-a1e03ac1ab68",
   "metadata": {},
   "outputs": [
    {
     "data": {
      "text/plain": [
       "0      False\n",
       "1      False\n",
       "2      False\n",
       "3      False\n",
       "4      False\n",
       "       ...  \n",
       "339     True\n",
       "340    False\n",
       "341    False\n",
       "342     True\n",
       "343    False\n",
       "Name: body_mass_g, Length: 344, dtype: bool"
      ]
     },
     "execution_count": 16,
     "metadata": {},
     "output_type": "execute_result"
    }
   ],
   "source": [
    "penguin['body_mass_g'] >= 4000"
   ]
  },
  {
   "cell_type": "code",
   "execution_count": 17,
   "id": "ad1d440b-8cbc-4378-9739-16dd9eba35e0",
   "metadata": {},
   "outputs": [
    {
     "data": {
      "text/html": [
       "<div>\n",
       "<style scoped>\n",
       "    .dataframe tbody tr th:only-of-type {\n",
       "        vertical-align: middle;\n",
       "    }\n",
       "\n",
       "    .dataframe tbody tr th {\n",
       "        vertical-align: top;\n",
       "    }\n",
       "\n",
       "    .dataframe thead th {\n",
       "        text-align: right;\n",
       "    }\n",
       "</style>\n",
       "<table border=\"1\" class=\"dataframe\">\n",
       "  <thead>\n",
       "    <tr style=\"text-align: right;\">\n",
       "      <th></th>\n",
       "      <th>species</th>\n",
       "      <th>island</th>\n",
       "      <th>bill_length_mm</th>\n",
       "      <th>bill_depth_mm</th>\n",
       "      <th>flipper_length_mm</th>\n",
       "      <th>body_mass_g</th>\n",
       "      <th>sex</th>\n",
       "      <th>year</th>\n",
       "    </tr>\n",
       "  </thead>\n",
       "  <tbody>\n",
       "    <tr>\n",
       "      <th>284</th>\n",
       "      <td>Chinstrap</td>\n",
       "      <td>Dream</td>\n",
       "      <td>46.0</td>\n",
       "      <td>18.9</td>\n",
       "      <td>195.0</td>\n",
       "      <td>4150.0</td>\n",
       "      <td>female</td>\n",
       "      <td>2007</td>\n",
       "    </tr>\n",
       "    <tr>\n",
       "      <th>289</th>\n",
       "      <td>Chinstrap</td>\n",
       "      <td>Dream</td>\n",
       "      <td>52.0</td>\n",
       "      <td>18.1</td>\n",
       "      <td>201.0</td>\n",
       "      <td>4050.0</td>\n",
       "      <td>male</td>\n",
       "      <td>2007</td>\n",
       "    </tr>\n",
       "    <tr>\n",
       "      <th>291</th>\n",
       "      <td>Chinstrap</td>\n",
       "      <td>Dream</td>\n",
       "      <td>50.5</td>\n",
       "      <td>19.6</td>\n",
       "      <td>201.0</td>\n",
       "      <td>4050.0</td>\n",
       "      <td>male</td>\n",
       "      <td>2007</td>\n",
       "    </tr>\n",
       "    <tr>\n",
       "      <th>295</th>\n",
       "      <td>Chinstrap</td>\n",
       "      <td>Dream</td>\n",
       "      <td>49.2</td>\n",
       "      <td>18.2</td>\n",
       "      <td>195.0</td>\n",
       "      <td>4400.0</td>\n",
       "      <td>male</td>\n",
       "      <td>2007</td>\n",
       "    </tr>\n",
       "    <tr>\n",
       "      <th>301</th>\n",
       "      <td>Chinstrap</td>\n",
       "      <td>Dream</td>\n",
       "      <td>52.0</td>\n",
       "      <td>19.0</td>\n",
       "      <td>197.0</td>\n",
       "      <td>4150.0</td>\n",
       "      <td>male</td>\n",
       "      <td>2007</td>\n",
       "    </tr>\n",
       "    <tr>\n",
       "      <th>305</th>\n",
       "      <td>Chinstrap</td>\n",
       "      <td>Dream</td>\n",
       "      <td>52.8</td>\n",
       "      <td>20.0</td>\n",
       "      <td>205.0</td>\n",
       "      <td>4550.0</td>\n",
       "      <td>male</td>\n",
       "      <td>2008</td>\n",
       "    </tr>\n",
       "    <tr>\n",
       "      <th>307</th>\n",
       "      <td>Chinstrap</td>\n",
       "      <td>Dream</td>\n",
       "      <td>54.2</td>\n",
       "      <td>20.8</td>\n",
       "      <td>201.0</td>\n",
       "      <td>4300.0</td>\n",
       "      <td>male</td>\n",
       "      <td>2008</td>\n",
       "    </tr>\n",
       "    <tr>\n",
       "      <th>309</th>\n",
       "      <td>Chinstrap</td>\n",
       "      <td>Dream</td>\n",
       "      <td>51.0</td>\n",
       "      <td>18.8</td>\n",
       "      <td>203.0</td>\n",
       "      <td>4100.0</td>\n",
       "      <td>male</td>\n",
       "      <td>2008</td>\n",
       "    </tr>\n",
       "    <tr>\n",
       "      <th>313</th>\n",
       "      <td>Chinstrap</td>\n",
       "      <td>Dream</td>\n",
       "      <td>52.0</td>\n",
       "      <td>20.7</td>\n",
       "      <td>210.0</td>\n",
       "      <td>4800.0</td>\n",
       "      <td>male</td>\n",
       "      <td>2008</td>\n",
       "    </tr>\n",
       "    <tr>\n",
       "      <th>315</th>\n",
       "      <td>Chinstrap</td>\n",
       "      <td>Dream</td>\n",
       "      <td>53.5</td>\n",
       "      <td>19.9</td>\n",
       "      <td>205.0</td>\n",
       "      <td>4500.0</td>\n",
       "      <td>male</td>\n",
       "      <td>2008</td>\n",
       "    </tr>\n",
       "    <tr>\n",
       "      <th>321</th>\n",
       "      <td>Chinstrap</td>\n",
       "      <td>Dream</td>\n",
       "      <td>50.8</td>\n",
       "      <td>18.5</td>\n",
       "      <td>201.0</td>\n",
       "      <td>4450.0</td>\n",
       "      <td>male</td>\n",
       "      <td>2009</td>\n",
       "    </tr>\n",
       "    <tr>\n",
       "      <th>323</th>\n",
       "      <td>Chinstrap</td>\n",
       "      <td>Dream</td>\n",
       "      <td>49.0</td>\n",
       "      <td>19.6</td>\n",
       "      <td>212.0</td>\n",
       "      <td>4300.0</td>\n",
       "      <td>male</td>\n",
       "      <td>2009</td>\n",
       "    </tr>\n",
       "    <tr>\n",
       "      <th>329</th>\n",
       "      <td>Chinstrap</td>\n",
       "      <td>Dream</td>\n",
       "      <td>50.7</td>\n",
       "      <td>19.7</td>\n",
       "      <td>203.0</td>\n",
       "      <td>4050.0</td>\n",
       "      <td>male</td>\n",
       "      <td>2009</td>\n",
       "    </tr>\n",
       "    <tr>\n",
       "      <th>333</th>\n",
       "      <td>Chinstrap</td>\n",
       "      <td>Dream</td>\n",
       "      <td>49.3</td>\n",
       "      <td>19.9</td>\n",
       "      <td>203.0</td>\n",
       "      <td>4050.0</td>\n",
       "      <td>male</td>\n",
       "      <td>2009</td>\n",
       "    </tr>\n",
       "    <tr>\n",
       "      <th>339</th>\n",
       "      <td>Chinstrap</td>\n",
       "      <td>Dream</td>\n",
       "      <td>55.8</td>\n",
       "      <td>19.8</td>\n",
       "      <td>207.0</td>\n",
       "      <td>4000.0</td>\n",
       "      <td>male</td>\n",
       "      <td>2009</td>\n",
       "    </tr>\n",
       "    <tr>\n",
       "      <th>342</th>\n",
       "      <td>Chinstrap</td>\n",
       "      <td>Dream</td>\n",
       "      <td>50.8</td>\n",
       "      <td>19.0</td>\n",
       "      <td>210.0</td>\n",
       "      <td>4100.0</td>\n",
       "      <td>male</td>\n",
       "      <td>2009</td>\n",
       "    </tr>\n",
       "  </tbody>\n",
       "</table>\n",
       "</div>"
      ],
      "text/plain": [
       "       species island  bill_length_mm  bill_depth_mm  flipper_length_mm  \\\n",
       "284  Chinstrap  Dream            46.0           18.9              195.0   \n",
       "289  Chinstrap  Dream            52.0           18.1              201.0   \n",
       "291  Chinstrap  Dream            50.5           19.6              201.0   \n",
       "295  Chinstrap  Dream            49.2           18.2              195.0   \n",
       "301  Chinstrap  Dream            52.0           19.0              197.0   \n",
       "305  Chinstrap  Dream            52.8           20.0              205.0   \n",
       "307  Chinstrap  Dream            54.2           20.8              201.0   \n",
       "309  Chinstrap  Dream            51.0           18.8              203.0   \n",
       "313  Chinstrap  Dream            52.0           20.7              210.0   \n",
       "315  Chinstrap  Dream            53.5           19.9              205.0   \n",
       "321  Chinstrap  Dream            50.8           18.5              201.0   \n",
       "323  Chinstrap  Dream            49.0           19.6              212.0   \n",
       "329  Chinstrap  Dream            50.7           19.7              203.0   \n",
       "333  Chinstrap  Dream            49.3           19.9              203.0   \n",
       "339  Chinstrap  Dream            55.8           19.8              207.0   \n",
       "342  Chinstrap  Dream            50.8           19.0              210.0   \n",
       "\n",
       "     body_mass_g     sex  year  \n",
       "284       4150.0  female  2007  \n",
       "289       4050.0    male  2007  \n",
       "291       4050.0    male  2007  \n",
       "295       4400.0    male  2007  \n",
       "301       4150.0    male  2007  \n",
       "305       4550.0    male  2008  \n",
       "307       4300.0    male  2008  \n",
       "309       4100.0    male  2008  \n",
       "313       4800.0    male  2008  \n",
       "315       4500.0    male  2008  \n",
       "321       4450.0    male  2009  \n",
       "323       4300.0    male  2009  \n",
       "329       4050.0    male  2009  \n",
       "333       4050.0    male  2009  \n",
       "339       4000.0    male  2009  \n",
       "342       4100.0    male  2009  "
      ]
     },
     "execution_count": 17,
     "metadata": {},
     "output_type": "execute_result"
    }
   ],
   "source": [
    "chinstrap_heavy = penguin[(penguin['species'] == \"Chinstrap\") & (penguin['body_mass_g'] >= 4000)]\n",
    "chinstrap_heavy"
   ]
  },
  {
   "cell_type": "code",
   "execution_count": 18,
   "id": "2a1fd996-bc67-4cdd-ad02-dfb2e42a801b",
   "metadata": {},
   "outputs": [
    {
     "name": "stdout",
     "output_type": "stream",
     "text": [
      "<class 'pandas.core.frame.DataFrame'>\n",
      "Index: 16 entries, 284 to 342\n",
      "Data columns (total 8 columns):\n",
      " #   Column             Non-Null Count  Dtype  \n",
      "---  ------             --------------  -----  \n",
      " 0   species            16 non-null     object \n",
      " 1   island             16 non-null     object \n",
      " 2   bill_length_mm     16 non-null     float64\n",
      " 3   bill_depth_mm      16 non-null     float64\n",
      " 4   flipper_length_mm  16 non-null     float64\n",
      " 5   body_mass_g        16 non-null     float64\n",
      " 6   sex                16 non-null     object \n",
      " 7   year               16 non-null     int64  \n",
      "dtypes: float64(4), int64(1), object(3)\n",
      "memory usage: 1.1+ KB\n"
     ]
    }
   ],
   "source": [
    "chinstrap_heavy.info()"
   ]
  },
  {
   "cell_type": "markdown",
   "id": "79102eb9-bd27-45d6-8fe9-110c76c343fb",
   "metadata": {},
   "source": [
    "<h1>Filling Up Missing Values</h1>"
   ]
  },
  {
   "cell_type": "code",
   "execution_count": 19,
   "id": "98231137-3557-4d39-b9b2-47bf030453de",
   "metadata": {},
   "outputs": [
    {
     "data": {
      "text/plain": [
       "species               0\n",
       "island                0\n",
       "bill_length_mm        2\n",
       "bill_depth_mm         2\n",
       "flipper_length_mm     2\n",
       "body_mass_g           2\n",
       "sex                  11\n",
       "year                  0\n",
       "dtype: int64"
      ]
     },
     "execution_count": 19,
     "metadata": {},
     "output_type": "execute_result"
    }
   ],
   "source": [
    "penguin.isnull().sum()"
   ]
  },
  {
   "cell_type": "code",
   "execution_count": 20,
   "id": "6126c0e3-d534-479b-a186-221370a53698",
   "metadata": {},
   "outputs": [
    {
     "data": {
      "text/plain": [
       "np.int64(2)"
      ]
     },
     "execution_count": 20,
     "metadata": {},
     "output_type": "execute_result"
    }
   ],
   "source": [
    "penguin[\"bill_length_mm\"].isnull().sum()"
   ]
  },
  {
   "cell_type": "code",
   "execution_count": 21,
   "id": "9aa0e1bf-aa91-4bb6-b986-c9b79c3c1573",
   "metadata": {},
   "outputs": [
    {
     "data": {
      "text/plain": [
       "np.float64(43.9219298245614)"
      ]
     },
     "execution_count": 21,
     "metadata": {},
     "output_type": "execute_result"
    }
   ],
   "source": [
    "penguin[\"bill_length_mm\"].mean()"
   ]
  },
  {
   "cell_type": "code",
   "execution_count": 22,
   "id": "4e3cd3b7-5f2d-4a04-9184-af6af197afb2",
   "metadata": {},
   "outputs": [],
   "source": [
    "penguin[\"bill_length_mm\"] = penguin[\"bill_length_mm\"].fillna(penguin[\"bill_length_mm\"].mean())"
   ]
  },
  {
   "cell_type": "code",
   "execution_count": 23,
   "id": "b099a026-a582-4042-a655-a82fe1bed562",
   "metadata": {},
   "outputs": [
    {
     "data": {
      "text/plain": [
       "species               0\n",
       "island                0\n",
       "bill_length_mm        0\n",
       "bill_depth_mm         2\n",
       "flipper_length_mm     2\n",
       "body_mass_g           2\n",
       "sex                  11\n",
       "year                  0\n",
       "dtype: int64"
      ]
     },
     "execution_count": 23,
     "metadata": {},
     "output_type": "execute_result"
    }
   ],
   "source": [
    "penguin.isnull().sum()"
   ]
  },
  {
   "cell_type": "code",
   "execution_count": 24,
   "id": "be7fd1ba-c646-48e1-a211-d54772dbe5ce",
   "metadata": {},
   "outputs": [
    {
     "data": {
      "text/plain": [
       "np.float64(17.151169590643274)"
      ]
     },
     "execution_count": 24,
     "metadata": {},
     "output_type": "execute_result"
    }
   ],
   "source": [
    "penguin[\"bill_depth_mm\"].mean()"
   ]
  },
  {
   "cell_type": "code",
   "execution_count": 25,
   "id": "5af2991c-35f4-4097-af2b-501706d0cf7c",
   "metadata": {},
   "outputs": [],
   "source": [
    "penguin[\"bill_depth_mm\"] = penguin[\"bill_depth_mm\"].fillna(penguin[\"bill_depth_mm\"].mean())"
   ]
  },
  {
   "cell_type": "code",
   "execution_count": 26,
   "id": "63501345-cd68-4728-aaed-e08cf13b45f7",
   "metadata": {},
   "outputs": [
    {
     "data": {
      "text/plain": [
       "species               0\n",
       "island                0\n",
       "bill_length_mm        0\n",
       "bill_depth_mm         0\n",
       "flipper_length_mm     2\n",
       "body_mass_g           2\n",
       "sex                  11\n",
       "year                  0\n",
       "dtype: int64"
      ]
     },
     "execution_count": 26,
     "metadata": {},
     "output_type": "execute_result"
    }
   ],
   "source": [
    "penguin.isnull().sum()"
   ]
  },
  {
   "cell_type": "code",
   "execution_count": 27,
   "id": "7b574d46-bf3b-4143-ba2c-3ae7a50eae44",
   "metadata": {},
   "outputs": [
    {
     "data": {
      "text/plain": [
       "np.float64(200.91520467836258)"
      ]
     },
     "execution_count": 27,
     "metadata": {},
     "output_type": "execute_result"
    }
   ],
   "source": [
    "penguin[\"flipper_length_mm\"].mean()"
   ]
  },
  {
   "cell_type": "code",
   "execution_count": 28,
   "id": "a70d4742-fb96-4810-a734-e3c2b2fc994f",
   "metadata": {},
   "outputs": [],
   "source": [
    "penguin[\"flipper_length_mm\"] = penguin[\"flipper_length_mm\"].fillna(penguin[\"flipper_length_mm\"].mean())"
   ]
  },
  {
   "cell_type": "code",
   "execution_count": 29,
   "id": "6fdadb3a-b95e-475c-ba35-86f7690ed99d",
   "metadata": {},
   "outputs": [
    {
     "data": {
      "text/plain": [
       "species               0\n",
       "island                0\n",
       "bill_length_mm        0\n",
       "bill_depth_mm         0\n",
       "flipper_length_mm     0\n",
       "body_mass_g           2\n",
       "sex                  11\n",
       "year                  0\n",
       "dtype: int64"
      ]
     },
     "execution_count": 29,
     "metadata": {},
     "output_type": "execute_result"
    }
   ],
   "source": [
    "penguin.isnull().sum()"
   ]
  },
  {
   "cell_type": "code",
   "execution_count": 30,
   "id": "f395711a-50d0-445f-99c3-c27f2e4984d3",
   "metadata": {},
   "outputs": [
    {
     "data": {
      "text/plain": [
       "np.float64(4201.754385964912)"
      ]
     },
     "execution_count": 30,
     "metadata": {},
     "output_type": "execute_result"
    }
   ],
   "source": [
    "penguin[\"body_mass_g\"].mean()"
   ]
  },
  {
   "cell_type": "code",
   "execution_count": 31,
   "id": "c69ea9c5-1158-4c55-8de7-f352b66002a2",
   "metadata": {},
   "outputs": [],
   "source": [
    "penguin[\"body_mass_g\"] = penguin[\"body_mass_g\"].fillna(penguin[\"body_mass_g\"].mean())"
   ]
  },
  {
   "cell_type": "code",
   "execution_count": 32,
   "id": "4b34aed3-a735-4ebe-8e11-3c1bacfc99f5",
   "metadata": {},
   "outputs": [
    {
     "data": {
      "text/plain": [
       "species               0\n",
       "island                0\n",
       "bill_length_mm        0\n",
       "bill_depth_mm         0\n",
       "flipper_length_mm     0\n",
       "body_mass_g           0\n",
       "sex                  11\n",
       "year                  0\n",
       "dtype: int64"
      ]
     },
     "execution_count": 32,
     "metadata": {},
     "output_type": "execute_result"
    }
   ],
   "source": [
    "penguin.isnull().sum()"
   ]
  },
  {
   "cell_type": "code",
   "execution_count": 33,
   "id": "63b310df-662a-4d2f-9038-5563982d1d70",
   "metadata": {},
   "outputs": [
    {
     "data": {
      "text/plain": [
       "0    male\n",
       "Name: sex, dtype: object"
      ]
     },
     "execution_count": 33,
     "metadata": {},
     "output_type": "execute_result"
    }
   ],
   "source": [
    "penguin[\"sex\"].mode()"
   ]
  },
  {
   "cell_type": "code",
   "execution_count": 34,
   "id": "ece193e2-90d1-4160-9cf4-a3ce35fcbd59",
   "metadata": {},
   "outputs": [],
   "source": [
    "penguin[\"sex\"] = penguin[\"sex\"].fillna(penguin[\"sex\"].mode()[0])"
   ]
  },
  {
   "cell_type": "code",
   "execution_count": 35,
   "id": "ae9cfd8b-3d73-46ff-9fa4-8e6258abdaf0",
   "metadata": {},
   "outputs": [
    {
     "data": {
      "text/plain": [
       "species              0\n",
       "island               0\n",
       "bill_length_mm       0\n",
       "bill_depth_mm        0\n",
       "flipper_length_mm    0\n",
       "body_mass_g          0\n",
       "sex                  0\n",
       "year                 0\n",
       "dtype: int64"
      ]
     },
     "execution_count": 35,
     "metadata": {},
     "output_type": "execute_result"
    }
   ],
   "source": [
    "penguin.isnull().sum()"
   ]
  },
  {
   "cell_type": "markdown",
   "id": "35758ffc-461b-434a-9040-5e2c2fb5b593",
   "metadata": {},
   "source": [
    "<h1>Changing Category</h1>"
   ]
  },
  {
   "cell_type": "code",
   "execution_count": 36,
   "id": "ca47d5ce-c33d-4ee1-9c0d-49a0b3f43896",
   "metadata": {},
   "outputs": [
    {
     "name": "stdout",
     "output_type": "stream",
     "text": [
      "<class 'pandas.core.frame.DataFrame'>\n",
      "RangeIndex: 344 entries, 0 to 343\n",
      "Data columns (total 8 columns):\n",
      " #   Column             Non-Null Count  Dtype  \n",
      "---  ------             --------------  -----  \n",
      " 0   species            344 non-null    object \n",
      " 1   island             344 non-null    object \n",
      " 2   bill_length_mm     344 non-null    float64\n",
      " 3   bill_depth_mm      344 non-null    float64\n",
      " 4   flipper_length_mm  344 non-null    float64\n",
      " 5   body_mass_g        344 non-null    float64\n",
      " 6   sex                344 non-null    object \n",
      " 7   year               344 non-null    int64  \n",
      "dtypes: float64(4), int64(1), object(3)\n",
      "memory usage: 21.6+ KB\n"
     ]
    }
   ],
   "source": [
    "penguin.info()"
   ]
  },
  {
   "cell_type": "code",
   "execution_count": 37,
   "id": "ac541c71-9a93-4ae6-83a4-584d5525dd03",
   "metadata": {},
   "outputs": [],
   "source": [
    "penguin[\"species\"] = penguin[\"species\"].astype(\"category\")\n",
    "penguin[\"island\"] = penguin[\"island\"].astype(\"category\")\n",
    "penguin[\"sex\"] = penguin[\"sex\"].astype(\"category\")\n",
    "penguin[\"year\"] = penguin[\"year\"].astype(\"category\")\n"
   ]
  },
  {
   "cell_type": "code",
   "execution_count": 38,
   "id": "d27b1790-2360-458d-baec-29acd80d9619",
   "metadata": {},
   "outputs": [
    {
     "name": "stdout",
     "output_type": "stream",
     "text": [
      "<class 'pandas.core.frame.DataFrame'>\n",
      "RangeIndex: 344 entries, 0 to 343\n",
      "Data columns (total 8 columns):\n",
      " #   Column             Non-Null Count  Dtype   \n",
      "---  ------             --------------  -----   \n",
      " 0   species            344 non-null    category\n",
      " 1   island             344 non-null    category\n",
      " 2   bill_length_mm     344 non-null    float64 \n",
      " 3   bill_depth_mm      344 non-null    float64 \n",
      " 4   flipper_length_mm  344 non-null    float64 \n",
      " 5   body_mass_g        344 non-null    float64 \n",
      " 6   sex                344 non-null    category\n",
      " 7   year               344 non-null    category\n",
      "dtypes: category(4), float64(4)\n",
      "memory usage: 12.7 KB\n"
     ]
    }
   ],
   "source": [
    "penguin.info()"
   ]
  },
  {
   "cell_type": "code",
   "execution_count": 39,
   "id": "a3ddf471-7df9-404b-9771-07b329463a29",
   "metadata": {},
   "outputs": [
    {
     "data": {
      "text/html": [
       "<div>\n",
       "<style scoped>\n",
       "    .dataframe tbody tr th:only-of-type {\n",
       "        vertical-align: middle;\n",
       "    }\n",
       "\n",
       "    .dataframe tbody tr th {\n",
       "        vertical-align: top;\n",
       "    }\n",
       "\n",
       "    .dataframe thead th {\n",
       "        text-align: right;\n",
       "    }\n",
       "</style>\n",
       "<table border=\"1\" class=\"dataframe\">\n",
       "  <thead>\n",
       "    <tr style=\"text-align: right;\">\n",
       "      <th></th>\n",
       "      <th>bill_length_mm</th>\n",
       "      <th>bill_depth_mm</th>\n",
       "      <th>flipper_length_mm</th>\n",
       "      <th>body_mass_g</th>\n",
       "    </tr>\n",
       "  </thead>\n",
       "  <tbody>\n",
       "    <tr>\n",
       "      <th>count</th>\n",
       "      <td>344.000000</td>\n",
       "      <td>344.000000</td>\n",
       "      <td>344.000000</td>\n",
       "      <td>344.000000</td>\n",
       "    </tr>\n",
       "    <tr>\n",
       "      <th>mean</th>\n",
       "      <td>43.921930</td>\n",
       "      <td>17.151170</td>\n",
       "      <td>200.915205</td>\n",
       "      <td>4201.754386</td>\n",
       "    </tr>\n",
       "    <tr>\n",
       "      <th>std</th>\n",
       "      <td>5.443643</td>\n",
       "      <td>1.969027</td>\n",
       "      <td>14.020657</td>\n",
       "      <td>799.613058</td>\n",
       "    </tr>\n",
       "    <tr>\n",
       "      <th>min</th>\n",
       "      <td>32.100000</td>\n",
       "      <td>13.100000</td>\n",
       "      <td>172.000000</td>\n",
       "      <td>2700.000000</td>\n",
       "    </tr>\n",
       "    <tr>\n",
       "      <th>25%</th>\n",
       "      <td>39.275000</td>\n",
       "      <td>15.600000</td>\n",
       "      <td>190.000000</td>\n",
       "      <td>3550.000000</td>\n",
       "    </tr>\n",
       "    <tr>\n",
       "      <th>50%</th>\n",
       "      <td>44.250000</td>\n",
       "      <td>17.300000</td>\n",
       "      <td>197.000000</td>\n",
       "      <td>4050.000000</td>\n",
       "    </tr>\n",
       "    <tr>\n",
       "      <th>75%</th>\n",
       "      <td>48.500000</td>\n",
       "      <td>18.700000</td>\n",
       "      <td>213.000000</td>\n",
       "      <td>4750.000000</td>\n",
       "    </tr>\n",
       "    <tr>\n",
       "      <th>max</th>\n",
       "      <td>59.600000</td>\n",
       "      <td>21.500000</td>\n",
       "      <td>231.000000</td>\n",
       "      <td>6300.000000</td>\n",
       "    </tr>\n",
       "  </tbody>\n",
       "</table>\n",
       "</div>"
      ],
      "text/plain": [
       "       bill_length_mm  bill_depth_mm  flipper_length_mm  body_mass_g\n",
       "count      344.000000     344.000000         344.000000   344.000000\n",
       "mean        43.921930      17.151170         200.915205  4201.754386\n",
       "std          5.443643       1.969027          14.020657   799.613058\n",
       "min         32.100000      13.100000         172.000000  2700.000000\n",
       "25%         39.275000      15.600000         190.000000  3550.000000\n",
       "50%         44.250000      17.300000         197.000000  4050.000000\n",
       "75%         48.500000      18.700000         213.000000  4750.000000\n",
       "max         59.600000      21.500000         231.000000  6300.000000"
      ]
     },
     "execution_count": 39,
     "metadata": {},
     "output_type": "execute_result"
    }
   ],
   "source": [
    "penguin.describe()"
   ]
  },
  {
   "cell_type": "markdown",
   "id": "4455038b-63e5-4f7c-a1da-de11b66178d1",
   "metadata": {},
   "source": [
    "<h1>Question 1</h1>\n",
    "<h2>which species has the heaviest body mass</h2>"
   ]
  },
  {
   "cell_type": "code",
   "execution_count": 40,
   "id": "04875ed8-609f-4492-9219-c000a7afe0cd",
   "metadata": {},
   "outputs": [
    {
     "data": {
      "text/plain": [
       "np.float64(4201.754385964912)"
      ]
     },
     "execution_count": 40,
     "metadata": {},
     "output_type": "execute_result"
    }
   ],
   "source": [
    "penguin['body_mass_g'].mean()"
   ]
  },
  {
   "cell_type": "code",
   "execution_count": 41,
   "id": "11acd6f4-b8e0-46b6-8152-c0323e392550",
   "metadata": {},
   "outputs": [],
   "source": [
    "gentoo_df = penguin[penguin['species'] == 'Gentoo']"
   ]
  },
  {
   "cell_type": "code",
   "execution_count": 42,
   "id": "0a8536c5-0ad2-4b81-905f-b6d2b686888b",
   "metadata": {},
   "outputs": [
    {
     "data": {
      "text/plain": [
       "np.float64(5068.965761177136)"
      ]
     },
     "execution_count": 42,
     "metadata": {},
     "output_type": "execute_result"
    }
   ],
   "source": [
    "gentoo_df['body_mass_g'].mean()"
   ]
  },
  {
   "cell_type": "code",
   "execution_count": 43,
   "id": "deca5ffd-22aa-4821-b247-557a784cb0d1",
   "metadata": {},
   "outputs": [],
   "source": [
    "chinstrap_df = penguin[penguin['species'] == 'Chinstrap']"
   ]
  },
  {
   "cell_type": "code",
   "execution_count": 44,
   "id": "0f81627e-4211-46a6-becf-c272948ab425",
   "metadata": {},
   "outputs": [
    {
     "data": {
      "text/plain": [
       "np.float64(3733.0882352941176)"
      ]
     },
     "execution_count": 44,
     "metadata": {},
     "output_type": "execute_result"
    }
   ],
   "source": [
    "chinstrap_df['body_mass_g'].mean()"
   ]
  },
  {
   "cell_type": "code",
   "execution_count": 45,
   "id": "7d4949bf-e436-4270-8142-823f4cf6318f",
   "metadata": {},
   "outputs": [],
   "source": [
    "adelie_df = penguin[penguin['species'] == 'Adelie']"
   ]
  },
  {
   "cell_type": "code",
   "execution_count": 46,
   "id": "028c4edd-21c6-47f3-bf61-714c8a604000",
   "metadata": {},
   "outputs": [
    {
     "data": {
      "text/plain": [
       "np.float64(3703.95891043398)"
      ]
     },
     "execution_count": 46,
     "metadata": {},
     "output_type": "execute_result"
    }
   ],
   "source": [
    "adelie_df['body_mass_g'].mean()"
   ]
  },
  {
   "cell_type": "markdown",
   "id": "1cdbf890-f38a-4cc1-9d3d-1797e3925f0c",
   "metadata": {},
   "source": [
    "<h1>Insight No.1</h1>\n",
    "<p>Gentoo has the heaviest average body mass</p>"
   ]
  },
  {
   "cell_type": "code",
   "execution_count": 47,
   "id": "d38f007c-a7a8-4558-a56b-941536a734c4",
   "metadata": {},
   "outputs": [],
   "source": [
    "penguin['mass_kg'] = np.round(penguin['body_mass_g'] / 1000,1)"
   ]
  },
  {
   "cell_type": "code",
   "execution_count": 48,
   "id": "101980ed-a737-4593-893b-e0e0c511fa8e",
   "metadata": {},
   "outputs": [
    {
     "data": {
      "text/html": [
       "<div>\n",
       "<style scoped>\n",
       "    .dataframe tbody tr th:only-of-type {\n",
       "        vertical-align: middle;\n",
       "    }\n",
       "\n",
       "    .dataframe tbody tr th {\n",
       "        vertical-align: top;\n",
       "    }\n",
       "\n",
       "    .dataframe thead th {\n",
       "        text-align: right;\n",
       "    }\n",
       "</style>\n",
       "<table border=\"1\" class=\"dataframe\">\n",
       "  <thead>\n",
       "    <tr style=\"text-align: right;\">\n",
       "      <th></th>\n",
       "      <th>species</th>\n",
       "      <th>island</th>\n",
       "      <th>bill_length_mm</th>\n",
       "      <th>bill_depth_mm</th>\n",
       "      <th>flipper_length_mm</th>\n",
       "      <th>body_mass_g</th>\n",
       "      <th>sex</th>\n",
       "      <th>year</th>\n",
       "      <th>mass_kg</th>\n",
       "    </tr>\n",
       "  </thead>\n",
       "  <tbody>\n",
       "    <tr>\n",
       "      <th>0</th>\n",
       "      <td>Adelie</td>\n",
       "      <td>Torgersen</td>\n",
       "      <td>39.10000</td>\n",
       "      <td>18.70000</td>\n",
       "      <td>181.000000</td>\n",
       "      <td>3750.000000</td>\n",
       "      <td>male</td>\n",
       "      <td>2007</td>\n",
       "      <td>3.8</td>\n",
       "    </tr>\n",
       "    <tr>\n",
       "      <th>1</th>\n",
       "      <td>Adelie</td>\n",
       "      <td>Torgersen</td>\n",
       "      <td>39.50000</td>\n",
       "      <td>17.40000</td>\n",
       "      <td>186.000000</td>\n",
       "      <td>3800.000000</td>\n",
       "      <td>female</td>\n",
       "      <td>2007</td>\n",
       "      <td>3.8</td>\n",
       "    </tr>\n",
       "    <tr>\n",
       "      <th>2</th>\n",
       "      <td>Adelie</td>\n",
       "      <td>Torgersen</td>\n",
       "      <td>40.30000</td>\n",
       "      <td>18.00000</td>\n",
       "      <td>195.000000</td>\n",
       "      <td>3250.000000</td>\n",
       "      <td>female</td>\n",
       "      <td>2007</td>\n",
       "      <td>3.2</td>\n",
       "    </tr>\n",
       "    <tr>\n",
       "      <th>3</th>\n",
       "      <td>Adelie</td>\n",
       "      <td>Torgersen</td>\n",
       "      <td>43.92193</td>\n",
       "      <td>17.15117</td>\n",
       "      <td>200.915205</td>\n",
       "      <td>4201.754386</td>\n",
       "      <td>male</td>\n",
       "      <td>2007</td>\n",
       "      <td>4.2</td>\n",
       "    </tr>\n",
       "    <tr>\n",
       "      <th>4</th>\n",
       "      <td>Adelie</td>\n",
       "      <td>Torgersen</td>\n",
       "      <td>36.70000</td>\n",
       "      <td>19.30000</td>\n",
       "      <td>193.000000</td>\n",
       "      <td>3450.000000</td>\n",
       "      <td>female</td>\n",
       "      <td>2007</td>\n",
       "      <td>3.4</td>\n",
       "    </tr>\n",
       "    <tr>\n",
       "      <th>...</th>\n",
       "      <td>...</td>\n",
       "      <td>...</td>\n",
       "      <td>...</td>\n",
       "      <td>...</td>\n",
       "      <td>...</td>\n",
       "      <td>...</td>\n",
       "      <td>...</td>\n",
       "      <td>...</td>\n",
       "      <td>...</td>\n",
       "    </tr>\n",
       "    <tr>\n",
       "      <th>339</th>\n",
       "      <td>Chinstrap</td>\n",
       "      <td>Dream</td>\n",
       "      <td>55.80000</td>\n",
       "      <td>19.80000</td>\n",
       "      <td>207.000000</td>\n",
       "      <td>4000.000000</td>\n",
       "      <td>male</td>\n",
       "      <td>2009</td>\n",
       "      <td>4.0</td>\n",
       "    </tr>\n",
       "    <tr>\n",
       "      <th>340</th>\n",
       "      <td>Chinstrap</td>\n",
       "      <td>Dream</td>\n",
       "      <td>43.50000</td>\n",
       "      <td>18.10000</td>\n",
       "      <td>202.000000</td>\n",
       "      <td>3400.000000</td>\n",
       "      <td>female</td>\n",
       "      <td>2009</td>\n",
       "      <td>3.4</td>\n",
       "    </tr>\n",
       "    <tr>\n",
       "      <th>341</th>\n",
       "      <td>Chinstrap</td>\n",
       "      <td>Dream</td>\n",
       "      <td>49.60000</td>\n",
       "      <td>18.20000</td>\n",
       "      <td>193.000000</td>\n",
       "      <td>3775.000000</td>\n",
       "      <td>male</td>\n",
       "      <td>2009</td>\n",
       "      <td>3.8</td>\n",
       "    </tr>\n",
       "    <tr>\n",
       "      <th>342</th>\n",
       "      <td>Chinstrap</td>\n",
       "      <td>Dream</td>\n",
       "      <td>50.80000</td>\n",
       "      <td>19.00000</td>\n",
       "      <td>210.000000</td>\n",
       "      <td>4100.000000</td>\n",
       "      <td>male</td>\n",
       "      <td>2009</td>\n",
       "      <td>4.1</td>\n",
       "    </tr>\n",
       "    <tr>\n",
       "      <th>343</th>\n",
       "      <td>Chinstrap</td>\n",
       "      <td>Dream</td>\n",
       "      <td>50.20000</td>\n",
       "      <td>18.70000</td>\n",
       "      <td>198.000000</td>\n",
       "      <td>3775.000000</td>\n",
       "      <td>female</td>\n",
       "      <td>2009</td>\n",
       "      <td>3.8</td>\n",
       "    </tr>\n",
       "  </tbody>\n",
       "</table>\n",
       "<p>344 rows × 9 columns</p>\n",
       "</div>"
      ],
      "text/plain": [
       "       species     island  bill_length_mm  bill_depth_mm  flipper_length_mm  \\\n",
       "0       Adelie  Torgersen        39.10000       18.70000         181.000000   \n",
       "1       Adelie  Torgersen        39.50000       17.40000         186.000000   \n",
       "2       Adelie  Torgersen        40.30000       18.00000         195.000000   \n",
       "3       Adelie  Torgersen        43.92193       17.15117         200.915205   \n",
       "4       Adelie  Torgersen        36.70000       19.30000         193.000000   \n",
       "..         ...        ...             ...            ...                ...   \n",
       "339  Chinstrap      Dream        55.80000       19.80000         207.000000   \n",
       "340  Chinstrap      Dream        43.50000       18.10000         202.000000   \n",
       "341  Chinstrap      Dream        49.60000       18.20000         193.000000   \n",
       "342  Chinstrap      Dream        50.80000       19.00000         210.000000   \n",
       "343  Chinstrap      Dream        50.20000       18.70000         198.000000   \n",
       "\n",
       "     body_mass_g     sex  year  mass_kg  \n",
       "0    3750.000000    male  2007      3.8  \n",
       "1    3800.000000  female  2007      3.8  \n",
       "2    3250.000000  female  2007      3.2  \n",
       "3    4201.754386    male  2007      4.2  \n",
       "4    3450.000000  female  2007      3.4  \n",
       "..           ...     ...   ...      ...  \n",
       "339  4000.000000    male  2009      4.0  \n",
       "340  3400.000000  female  2009      3.4  \n",
       "341  3775.000000    male  2009      3.8  \n",
       "342  4100.000000    male  2009      4.1  \n",
       "343  3775.000000  female  2009      3.8  \n",
       "\n",
       "[344 rows x 9 columns]"
      ]
     },
     "execution_count": 48,
     "metadata": {},
     "output_type": "execute_result"
    }
   ],
   "source": [
    "penguin"
   ]
  },
  {
   "cell_type": "markdown",
   "id": "637d63df-c326-45f1-a4ab-f7c0ce99e77c",
   "metadata": {},
   "source": [
    "<h1>How to create your own columns</h1>"
   ]
  },
  {
   "cell_type": "code",
   "execution_count": 49,
   "id": "bc332f8c-e3b7-453e-ab92-d5eaec8e0341",
   "metadata": {},
   "outputs": [
    {
     "name": "stdout",
     "output_type": "stream",
     "text": [
      "<class 'pandas.core.frame.DataFrame'>\n",
      "RangeIndex: 344 entries, 0 to 343\n",
      "Data columns (total 9 columns):\n",
      " #   Column             Non-Null Count  Dtype   \n",
      "---  ------             --------------  -----   \n",
      " 0   species            344 non-null    category\n",
      " 1   island             344 non-null    category\n",
      " 2   bill_length_mm     344 non-null    float64 \n",
      " 3   bill_depth_mm      344 non-null    float64 \n",
      " 4   flipper_length_mm  344 non-null    float64 \n",
      " 5   body_mass_g        344 non-null    float64 \n",
      " 6   sex                344 non-null    category\n",
      " 7   year               344 non-null    category\n",
      " 8   mass_kg            344 non-null    float64 \n",
      "dtypes: category(4), float64(5)\n",
      "memory usage: 15.4 KB\n"
     ]
    }
   ],
   "source": [
    "penguin.info()"
   ]
  },
  {
   "cell_type": "code",
   "execution_count": 50,
   "id": "ae409712-6a56-4e2c-a312-97981cc5f84f",
   "metadata": {},
   "outputs": [
    {
     "data": {
      "text/plain": [
       "Index(['species', 'island', 'bill_length_mm', 'bill_depth_mm',\n",
       "       'flipper_length_mm', 'body_mass_g', 'sex', 'year', 'mass_kg'],\n",
       "      dtype='object')"
      ]
     },
     "execution_count": 50,
     "metadata": {},
     "output_type": "execute_result"
    }
   ],
   "source": [
    "penguin.columns"
   ]
  },
  {
   "cell_type": "code",
   "execution_count": 51,
   "id": "a5388b5c-8f9c-49b1-8ad0-10c370ec290a",
   "metadata": {},
   "outputs": [
    {
     "data": {
      "text/plain": [
       "np.float64(2.7)"
      ]
     },
     "execution_count": 51,
     "metadata": {},
     "output_type": "execute_result"
    }
   ],
   "source": [
    "penguin['mass_kg'].min()"
   ]
  },
  {
   "cell_type": "code",
   "execution_count": 52,
   "id": "c0d56714-b485-4c73-968f-c20937bad66b",
   "metadata": {},
   "outputs": [
    {
     "data": {
      "text/html": [
       "<div>\n",
       "<style scoped>\n",
       "    .dataframe tbody tr th:only-of-type {\n",
       "        vertical-align: middle;\n",
       "    }\n",
       "\n",
       "    .dataframe tbody tr th {\n",
       "        vertical-align: top;\n",
       "    }\n",
       "\n",
       "    .dataframe thead th {\n",
       "        text-align: right;\n",
       "    }\n",
       "</style>\n",
       "<table border=\"1\" class=\"dataframe\">\n",
       "  <thead>\n",
       "    <tr style=\"text-align: right;\">\n",
       "      <th></th>\n",
       "      <th>species</th>\n",
       "      <th>island</th>\n",
       "      <th>bill_length_mm</th>\n",
       "      <th>bill_depth_mm</th>\n",
       "      <th>flipper_length_mm</th>\n",
       "      <th>body_mass_g</th>\n",
       "      <th>sex</th>\n",
       "      <th>year</th>\n",
       "      <th>mass_kg</th>\n",
       "    </tr>\n",
       "  </thead>\n",
       "  <tbody>\n",
       "    <tr>\n",
       "      <th>314</th>\n",
       "      <td>Chinstrap</td>\n",
       "      <td>Dream</td>\n",
       "      <td>46.9</td>\n",
       "      <td>16.6</td>\n",
       "      <td>192.0</td>\n",
       "      <td>2700.0</td>\n",
       "      <td>female</td>\n",
       "      <td>2008</td>\n",
       "      <td>2.7</td>\n",
       "    </tr>\n",
       "  </tbody>\n",
       "</table>\n",
       "</div>"
      ],
      "text/plain": [
       "       species island  bill_length_mm  bill_depth_mm  flipper_length_mm  \\\n",
       "314  Chinstrap  Dream            46.9           16.6              192.0   \n",
       "\n",
       "     body_mass_g     sex  year  mass_kg  \n",
       "314       2700.0  female  2008      2.7  "
      ]
     },
     "execution_count": 52,
     "metadata": {},
     "output_type": "execute_result"
    }
   ],
   "source": [
    "penguin[penguin['mass_kg'] == 2.7]"
   ]
  },
  {
   "cell_type": "markdown",
   "id": "54c63bf8-e070-4215-9bd0-b7f6d42363b1",
   "metadata": {},
   "source": [
    "<hr>\n",
    "<h1>Activity 1 - PALMER PENGUINS DATA ANALYTICS</h1>\n",
    "<hr>\n",
    "<h3>Analyst: Jessie O. Mompero Jr</h3>"
   ]
  },
  {
   "cell_type": "markdown",
   "id": "77cdc523-2afa-46ef-a4a2-8c9069a21855",
   "metadata": {},
   "source": [
    "<h1>Q1: What species poduce more female penguins?</h1>\n"
   ]
  },
  {
   "cell_type": "markdown",
   "id": "cc49de8e-3bb8-40df-b452-9e11cdd3d37b",
   "metadata": {},
   "source": [
    "<h5>Female Penguin Data Frame</h5>\n"
   ]
  },
  {
   "cell_type": "code",
   "execution_count": 53,
   "id": "8293bf9d-8829-4720-82c8-967e4630f9b4",
   "metadata": {},
   "outputs": [
    {
     "data": {
      "text/html": [
       "<div>\n",
       "<style scoped>\n",
       "    .dataframe tbody tr th:only-of-type {\n",
       "        vertical-align: middle;\n",
       "    }\n",
       "\n",
       "    .dataframe tbody tr th {\n",
       "        vertical-align: top;\n",
       "    }\n",
       "\n",
       "    .dataframe thead th {\n",
       "        text-align: right;\n",
       "    }\n",
       "</style>\n",
       "<table border=\"1\" class=\"dataframe\">\n",
       "  <thead>\n",
       "    <tr style=\"text-align: right;\">\n",
       "      <th></th>\n",
       "      <th>species</th>\n",
       "      <th>island</th>\n",
       "      <th>bill_length_mm</th>\n",
       "      <th>bill_depth_mm</th>\n",
       "      <th>flipper_length_mm</th>\n",
       "      <th>body_mass_g</th>\n",
       "      <th>sex</th>\n",
       "      <th>year</th>\n",
       "      <th>mass_kg</th>\n",
       "    </tr>\n",
       "  </thead>\n",
       "  <tbody>\n",
       "    <tr>\n",
       "      <th>1</th>\n",
       "      <td>Adelie</td>\n",
       "      <td>Torgersen</td>\n",
       "      <td>39.5</td>\n",
       "      <td>17.4</td>\n",
       "      <td>186.0</td>\n",
       "      <td>3800.0</td>\n",
       "      <td>female</td>\n",
       "      <td>2007</td>\n",
       "      <td>3.8</td>\n",
       "    </tr>\n",
       "    <tr>\n",
       "      <th>2</th>\n",
       "      <td>Adelie</td>\n",
       "      <td>Torgersen</td>\n",
       "      <td>40.3</td>\n",
       "      <td>18.0</td>\n",
       "      <td>195.0</td>\n",
       "      <td>3250.0</td>\n",
       "      <td>female</td>\n",
       "      <td>2007</td>\n",
       "      <td>3.2</td>\n",
       "    </tr>\n",
       "    <tr>\n",
       "      <th>4</th>\n",
       "      <td>Adelie</td>\n",
       "      <td>Torgersen</td>\n",
       "      <td>36.7</td>\n",
       "      <td>19.3</td>\n",
       "      <td>193.0</td>\n",
       "      <td>3450.0</td>\n",
       "      <td>female</td>\n",
       "      <td>2007</td>\n",
       "      <td>3.4</td>\n",
       "    </tr>\n",
       "    <tr>\n",
       "      <th>6</th>\n",
       "      <td>Adelie</td>\n",
       "      <td>Torgersen</td>\n",
       "      <td>38.9</td>\n",
       "      <td>17.8</td>\n",
       "      <td>181.0</td>\n",
       "      <td>3625.0</td>\n",
       "      <td>female</td>\n",
       "      <td>2007</td>\n",
       "      <td>3.6</td>\n",
       "    </tr>\n",
       "    <tr>\n",
       "      <th>12</th>\n",
       "      <td>Adelie</td>\n",
       "      <td>Torgersen</td>\n",
       "      <td>41.1</td>\n",
       "      <td>17.6</td>\n",
       "      <td>182.0</td>\n",
       "      <td>3200.0</td>\n",
       "      <td>female</td>\n",
       "      <td>2007</td>\n",
       "      <td>3.2</td>\n",
       "    </tr>\n",
       "    <tr>\n",
       "      <th>...</th>\n",
       "      <td>...</td>\n",
       "      <td>...</td>\n",
       "      <td>...</td>\n",
       "      <td>...</td>\n",
       "      <td>...</td>\n",
       "      <td>...</td>\n",
       "      <td>...</td>\n",
       "      <td>...</td>\n",
       "      <td>...</td>\n",
       "    </tr>\n",
       "    <tr>\n",
       "      <th>335</th>\n",
       "      <td>Chinstrap</td>\n",
       "      <td>Dream</td>\n",
       "      <td>45.6</td>\n",
       "      <td>19.4</td>\n",
       "      <td>194.0</td>\n",
       "      <td>3525.0</td>\n",
       "      <td>female</td>\n",
       "      <td>2009</td>\n",
       "      <td>3.5</td>\n",
       "    </tr>\n",
       "    <tr>\n",
       "      <th>337</th>\n",
       "      <td>Chinstrap</td>\n",
       "      <td>Dream</td>\n",
       "      <td>46.8</td>\n",
       "      <td>16.5</td>\n",
       "      <td>189.0</td>\n",
       "      <td>3650.0</td>\n",
       "      <td>female</td>\n",
       "      <td>2009</td>\n",
       "      <td>3.6</td>\n",
       "    </tr>\n",
       "    <tr>\n",
       "      <th>338</th>\n",
       "      <td>Chinstrap</td>\n",
       "      <td>Dream</td>\n",
       "      <td>45.7</td>\n",
       "      <td>17.0</td>\n",
       "      <td>195.0</td>\n",
       "      <td>3650.0</td>\n",
       "      <td>female</td>\n",
       "      <td>2009</td>\n",
       "      <td>3.6</td>\n",
       "    </tr>\n",
       "    <tr>\n",
       "      <th>340</th>\n",
       "      <td>Chinstrap</td>\n",
       "      <td>Dream</td>\n",
       "      <td>43.5</td>\n",
       "      <td>18.1</td>\n",
       "      <td>202.0</td>\n",
       "      <td>3400.0</td>\n",
       "      <td>female</td>\n",
       "      <td>2009</td>\n",
       "      <td>3.4</td>\n",
       "    </tr>\n",
       "    <tr>\n",
       "      <th>343</th>\n",
       "      <td>Chinstrap</td>\n",
       "      <td>Dream</td>\n",
       "      <td>50.2</td>\n",
       "      <td>18.7</td>\n",
       "      <td>198.0</td>\n",
       "      <td>3775.0</td>\n",
       "      <td>female</td>\n",
       "      <td>2009</td>\n",
       "      <td>3.8</td>\n",
       "    </tr>\n",
       "  </tbody>\n",
       "</table>\n",
       "<p>165 rows × 9 columns</p>\n",
       "</div>"
      ],
      "text/plain": [
       "       species     island  bill_length_mm  bill_depth_mm  flipper_length_mm  \\\n",
       "1       Adelie  Torgersen            39.5           17.4              186.0   \n",
       "2       Adelie  Torgersen            40.3           18.0              195.0   \n",
       "4       Adelie  Torgersen            36.7           19.3              193.0   \n",
       "6       Adelie  Torgersen            38.9           17.8              181.0   \n",
       "12      Adelie  Torgersen            41.1           17.6              182.0   \n",
       "..         ...        ...             ...            ...                ...   \n",
       "335  Chinstrap      Dream            45.6           19.4              194.0   \n",
       "337  Chinstrap      Dream            46.8           16.5              189.0   \n",
       "338  Chinstrap      Dream            45.7           17.0              195.0   \n",
       "340  Chinstrap      Dream            43.5           18.1              202.0   \n",
       "343  Chinstrap      Dream            50.2           18.7              198.0   \n",
       "\n",
       "     body_mass_g     sex  year  mass_kg  \n",
       "1         3800.0  female  2007      3.8  \n",
       "2         3250.0  female  2007      3.2  \n",
       "4         3450.0  female  2007      3.4  \n",
       "6         3625.0  female  2007      3.6  \n",
       "12        3200.0  female  2007      3.2  \n",
       "..           ...     ...   ...      ...  \n",
       "335       3525.0  female  2009      3.5  \n",
       "337       3650.0  female  2009      3.6  \n",
       "338       3650.0  female  2009      3.6  \n",
       "340       3400.0  female  2009      3.4  \n",
       "343       3775.0  female  2009      3.8  \n",
       "\n",
       "[165 rows x 9 columns]"
      ]
     },
     "execution_count": 53,
     "metadata": {},
     "output_type": "execute_result"
    }
   ],
   "source": [
    "female_penguin_df = penguin[penguin['sex'] == 'female']\n",
    "female_penguin_df"
   ]
  },
  {
   "cell_type": "markdown",
   "id": "1a68cde7-f16e-4bf8-bbf6-eab7c162de25",
   "metadata": {},
   "source": [
    "<h5>Number of females from each species</h5>"
   ]
  },
  {
   "cell_type": "code",
   "execution_count": 54,
   "id": "977ce36b-d43e-4857-8bc2-8dcea23bafbd",
   "metadata": {},
   "outputs": [
    {
     "data": {
      "text/plain": [
       "species\n",
       "Adelie       73\n",
       "Gentoo       58\n",
       "Chinstrap    34\n",
       "Name: count, dtype: int64"
      ]
     },
     "execution_count": 54,
     "metadata": {},
     "output_type": "execute_result"
    }
   ],
   "source": [
    "female_penguin_df['species'].value_counts()"
   ]
  },
  {
   "cell_type": "markdown",
   "id": "ff4fd35f-c8f9-45d8-8c33-c28ea9a51cf3",
   "metadata": {},
   "source": [
    "<h2>Insight No. 1</h2>\n",
    "<p>Adelie species produce more female penguins compared to Gentoo and Chinstrap species. </p>\n",
    "<hr>"
   ]
  },
  {
   "cell_type": "markdown",
   "id": "4f9e5a5f-2b4f-415c-aa74-5c9f1faad120",
   "metadata": {},
   "source": [
    "<h1>Q2: Does the sex(male or female) of the penguin affect their bill depth?</h1>"
   ]
  },
  {
   "cell_type": "markdown",
   "id": "403d8a0e-016d-48df-bd7d-85dd2b844002",
   "metadata": {},
   "source": [
    "<h5>Female Penguin Data Frame</h5>"
   ]
  },
  {
   "cell_type": "code",
   "execution_count": 55,
   "id": "50cf69ee-9bf7-4d10-8a5f-7c9beecc05d6",
   "metadata": {},
   "outputs": [
    {
     "data": {
      "text/html": [
       "<div>\n",
       "<style scoped>\n",
       "    .dataframe tbody tr th:only-of-type {\n",
       "        vertical-align: middle;\n",
       "    }\n",
       "\n",
       "    .dataframe tbody tr th {\n",
       "        vertical-align: top;\n",
       "    }\n",
       "\n",
       "    .dataframe thead th {\n",
       "        text-align: right;\n",
       "    }\n",
       "</style>\n",
       "<table border=\"1\" class=\"dataframe\">\n",
       "  <thead>\n",
       "    <tr style=\"text-align: right;\">\n",
       "      <th></th>\n",
       "      <th>species</th>\n",
       "      <th>island</th>\n",
       "      <th>bill_length_mm</th>\n",
       "      <th>bill_depth_mm</th>\n",
       "      <th>flipper_length_mm</th>\n",
       "      <th>body_mass_g</th>\n",
       "      <th>sex</th>\n",
       "      <th>year</th>\n",
       "      <th>mass_kg</th>\n",
       "    </tr>\n",
       "  </thead>\n",
       "  <tbody>\n",
       "    <tr>\n",
       "      <th>1</th>\n",
       "      <td>Adelie</td>\n",
       "      <td>Torgersen</td>\n",
       "      <td>39.5</td>\n",
       "      <td>17.4</td>\n",
       "      <td>186.0</td>\n",
       "      <td>3800.0</td>\n",
       "      <td>female</td>\n",
       "      <td>2007</td>\n",
       "      <td>3.8</td>\n",
       "    </tr>\n",
       "    <tr>\n",
       "      <th>2</th>\n",
       "      <td>Adelie</td>\n",
       "      <td>Torgersen</td>\n",
       "      <td>40.3</td>\n",
       "      <td>18.0</td>\n",
       "      <td>195.0</td>\n",
       "      <td>3250.0</td>\n",
       "      <td>female</td>\n",
       "      <td>2007</td>\n",
       "      <td>3.2</td>\n",
       "    </tr>\n",
       "    <tr>\n",
       "      <th>4</th>\n",
       "      <td>Adelie</td>\n",
       "      <td>Torgersen</td>\n",
       "      <td>36.7</td>\n",
       "      <td>19.3</td>\n",
       "      <td>193.0</td>\n",
       "      <td>3450.0</td>\n",
       "      <td>female</td>\n",
       "      <td>2007</td>\n",
       "      <td>3.4</td>\n",
       "    </tr>\n",
       "    <tr>\n",
       "      <th>6</th>\n",
       "      <td>Adelie</td>\n",
       "      <td>Torgersen</td>\n",
       "      <td>38.9</td>\n",
       "      <td>17.8</td>\n",
       "      <td>181.0</td>\n",
       "      <td>3625.0</td>\n",
       "      <td>female</td>\n",
       "      <td>2007</td>\n",
       "      <td>3.6</td>\n",
       "    </tr>\n",
       "    <tr>\n",
       "      <th>12</th>\n",
       "      <td>Adelie</td>\n",
       "      <td>Torgersen</td>\n",
       "      <td>41.1</td>\n",
       "      <td>17.6</td>\n",
       "      <td>182.0</td>\n",
       "      <td>3200.0</td>\n",
       "      <td>female</td>\n",
       "      <td>2007</td>\n",
       "      <td>3.2</td>\n",
       "    </tr>\n",
       "    <tr>\n",
       "      <th>...</th>\n",
       "      <td>...</td>\n",
       "      <td>...</td>\n",
       "      <td>...</td>\n",
       "      <td>...</td>\n",
       "      <td>...</td>\n",
       "      <td>...</td>\n",
       "      <td>...</td>\n",
       "      <td>...</td>\n",
       "      <td>...</td>\n",
       "    </tr>\n",
       "    <tr>\n",
       "      <th>335</th>\n",
       "      <td>Chinstrap</td>\n",
       "      <td>Dream</td>\n",
       "      <td>45.6</td>\n",
       "      <td>19.4</td>\n",
       "      <td>194.0</td>\n",
       "      <td>3525.0</td>\n",
       "      <td>female</td>\n",
       "      <td>2009</td>\n",
       "      <td>3.5</td>\n",
       "    </tr>\n",
       "    <tr>\n",
       "      <th>337</th>\n",
       "      <td>Chinstrap</td>\n",
       "      <td>Dream</td>\n",
       "      <td>46.8</td>\n",
       "      <td>16.5</td>\n",
       "      <td>189.0</td>\n",
       "      <td>3650.0</td>\n",
       "      <td>female</td>\n",
       "      <td>2009</td>\n",
       "      <td>3.6</td>\n",
       "    </tr>\n",
       "    <tr>\n",
       "      <th>338</th>\n",
       "      <td>Chinstrap</td>\n",
       "      <td>Dream</td>\n",
       "      <td>45.7</td>\n",
       "      <td>17.0</td>\n",
       "      <td>195.0</td>\n",
       "      <td>3650.0</td>\n",
       "      <td>female</td>\n",
       "      <td>2009</td>\n",
       "      <td>3.6</td>\n",
       "    </tr>\n",
       "    <tr>\n",
       "      <th>340</th>\n",
       "      <td>Chinstrap</td>\n",
       "      <td>Dream</td>\n",
       "      <td>43.5</td>\n",
       "      <td>18.1</td>\n",
       "      <td>202.0</td>\n",
       "      <td>3400.0</td>\n",
       "      <td>female</td>\n",
       "      <td>2009</td>\n",
       "      <td>3.4</td>\n",
       "    </tr>\n",
       "    <tr>\n",
       "      <th>343</th>\n",
       "      <td>Chinstrap</td>\n",
       "      <td>Dream</td>\n",
       "      <td>50.2</td>\n",
       "      <td>18.7</td>\n",
       "      <td>198.0</td>\n",
       "      <td>3775.0</td>\n",
       "      <td>female</td>\n",
       "      <td>2009</td>\n",
       "      <td>3.8</td>\n",
       "    </tr>\n",
       "  </tbody>\n",
       "</table>\n",
       "<p>165 rows × 9 columns</p>\n",
       "</div>"
      ],
      "text/plain": [
       "       species     island  bill_length_mm  bill_depth_mm  flipper_length_mm  \\\n",
       "1       Adelie  Torgersen            39.5           17.4              186.0   \n",
       "2       Adelie  Torgersen            40.3           18.0              195.0   \n",
       "4       Adelie  Torgersen            36.7           19.3              193.0   \n",
       "6       Adelie  Torgersen            38.9           17.8              181.0   \n",
       "12      Adelie  Torgersen            41.1           17.6              182.0   \n",
       "..         ...        ...             ...            ...                ...   \n",
       "335  Chinstrap      Dream            45.6           19.4              194.0   \n",
       "337  Chinstrap      Dream            46.8           16.5              189.0   \n",
       "338  Chinstrap      Dream            45.7           17.0              195.0   \n",
       "340  Chinstrap      Dream            43.5           18.1              202.0   \n",
       "343  Chinstrap      Dream            50.2           18.7              198.0   \n",
       "\n",
       "     body_mass_g     sex  year  mass_kg  \n",
       "1         3800.0  female  2007      3.8  \n",
       "2         3250.0  female  2007      3.2  \n",
       "4         3450.0  female  2007      3.4  \n",
       "6         3625.0  female  2007      3.6  \n",
       "12        3200.0  female  2007      3.2  \n",
       "..           ...     ...   ...      ...  \n",
       "335       3525.0  female  2009      3.5  \n",
       "337       3650.0  female  2009      3.6  \n",
       "338       3650.0  female  2009      3.6  \n",
       "340       3400.0  female  2009      3.4  \n",
       "343       3775.0  female  2009      3.8  \n",
       "\n",
       "[165 rows x 9 columns]"
      ]
     },
     "execution_count": 55,
     "metadata": {},
     "output_type": "execute_result"
    }
   ],
   "source": [
    "f_penguin = penguin[penguin['sex'] == 'female']\n",
    "f_penguin"
   ]
  },
  {
   "cell_type": "markdown",
   "id": "30ff40d0-00ec-47ab-8b22-8bf21240ee85",
   "metadata": {},
   "source": [
    "<h5>Female Penguin Average Bill Depth</h5>"
   ]
  },
  {
   "cell_type": "code",
   "execution_count": 56,
   "id": "8ce0e4af-fd38-49b5-a3e4-386d0025d0f8",
   "metadata": {},
   "outputs": [
    {
     "data": {
      "text/plain": [
       "np.float64(16.4)"
      ]
     },
     "execution_count": 56,
     "metadata": {},
     "output_type": "execute_result"
    }
   ],
   "source": [
    "np.round(f_penguin['bill_depth_mm'].mean(),1)"
   ]
  },
  {
   "cell_type": "markdown",
   "id": "e628e351-29cc-4702-ac40-7b141a927d36",
   "metadata": {},
   "source": [
    "<h5>Male Penguin Data Frame</h5>"
   ]
  },
  {
   "cell_type": "code",
   "execution_count": 57,
   "id": "d8d2076e-911f-4035-a3df-52b2cc24ec53",
   "metadata": {},
   "outputs": [
    {
     "data": {
      "text/html": [
       "<div>\n",
       "<style scoped>\n",
       "    .dataframe tbody tr th:only-of-type {\n",
       "        vertical-align: middle;\n",
       "    }\n",
       "\n",
       "    .dataframe tbody tr th {\n",
       "        vertical-align: top;\n",
       "    }\n",
       "\n",
       "    .dataframe thead th {\n",
       "        text-align: right;\n",
       "    }\n",
       "</style>\n",
       "<table border=\"1\" class=\"dataframe\">\n",
       "  <thead>\n",
       "    <tr style=\"text-align: right;\">\n",
       "      <th></th>\n",
       "      <th>species</th>\n",
       "      <th>island</th>\n",
       "      <th>bill_length_mm</th>\n",
       "      <th>bill_depth_mm</th>\n",
       "      <th>flipper_length_mm</th>\n",
       "      <th>body_mass_g</th>\n",
       "      <th>sex</th>\n",
       "      <th>year</th>\n",
       "      <th>mass_kg</th>\n",
       "    </tr>\n",
       "  </thead>\n",
       "  <tbody>\n",
       "    <tr>\n",
       "      <th>0</th>\n",
       "      <td>Adelie</td>\n",
       "      <td>Torgersen</td>\n",
       "      <td>39.10000</td>\n",
       "      <td>18.70000</td>\n",
       "      <td>181.000000</td>\n",
       "      <td>3750.000000</td>\n",
       "      <td>male</td>\n",
       "      <td>2007</td>\n",
       "      <td>3.8</td>\n",
       "    </tr>\n",
       "    <tr>\n",
       "      <th>3</th>\n",
       "      <td>Adelie</td>\n",
       "      <td>Torgersen</td>\n",
       "      <td>43.92193</td>\n",
       "      <td>17.15117</td>\n",
       "      <td>200.915205</td>\n",
       "      <td>4201.754386</td>\n",
       "      <td>male</td>\n",
       "      <td>2007</td>\n",
       "      <td>4.2</td>\n",
       "    </tr>\n",
       "    <tr>\n",
       "      <th>5</th>\n",
       "      <td>Adelie</td>\n",
       "      <td>Torgersen</td>\n",
       "      <td>39.30000</td>\n",
       "      <td>20.60000</td>\n",
       "      <td>190.000000</td>\n",
       "      <td>3650.000000</td>\n",
       "      <td>male</td>\n",
       "      <td>2007</td>\n",
       "      <td>3.6</td>\n",
       "    </tr>\n",
       "    <tr>\n",
       "      <th>7</th>\n",
       "      <td>Adelie</td>\n",
       "      <td>Torgersen</td>\n",
       "      <td>39.20000</td>\n",
       "      <td>19.60000</td>\n",
       "      <td>195.000000</td>\n",
       "      <td>4675.000000</td>\n",
       "      <td>male</td>\n",
       "      <td>2007</td>\n",
       "      <td>4.7</td>\n",
       "    </tr>\n",
       "    <tr>\n",
       "      <th>8</th>\n",
       "      <td>Adelie</td>\n",
       "      <td>Torgersen</td>\n",
       "      <td>34.10000</td>\n",
       "      <td>18.10000</td>\n",
       "      <td>193.000000</td>\n",
       "      <td>3475.000000</td>\n",
       "      <td>male</td>\n",
       "      <td>2007</td>\n",
       "      <td>3.5</td>\n",
       "    </tr>\n",
       "    <tr>\n",
       "      <th>...</th>\n",
       "      <td>...</td>\n",
       "      <td>...</td>\n",
       "      <td>...</td>\n",
       "      <td>...</td>\n",
       "      <td>...</td>\n",
       "      <td>...</td>\n",
       "      <td>...</td>\n",
       "      <td>...</td>\n",
       "      <td>...</td>\n",
       "    </tr>\n",
       "    <tr>\n",
       "      <th>334</th>\n",
       "      <td>Chinstrap</td>\n",
       "      <td>Dream</td>\n",
       "      <td>50.20000</td>\n",
       "      <td>18.80000</td>\n",
       "      <td>202.000000</td>\n",
       "      <td>3800.000000</td>\n",
       "      <td>male</td>\n",
       "      <td>2009</td>\n",
       "      <td>3.8</td>\n",
       "    </tr>\n",
       "    <tr>\n",
       "      <th>336</th>\n",
       "      <td>Chinstrap</td>\n",
       "      <td>Dream</td>\n",
       "      <td>51.90000</td>\n",
       "      <td>19.50000</td>\n",
       "      <td>206.000000</td>\n",
       "      <td>3950.000000</td>\n",
       "      <td>male</td>\n",
       "      <td>2009</td>\n",
       "      <td>4.0</td>\n",
       "    </tr>\n",
       "    <tr>\n",
       "      <th>339</th>\n",
       "      <td>Chinstrap</td>\n",
       "      <td>Dream</td>\n",
       "      <td>55.80000</td>\n",
       "      <td>19.80000</td>\n",
       "      <td>207.000000</td>\n",
       "      <td>4000.000000</td>\n",
       "      <td>male</td>\n",
       "      <td>2009</td>\n",
       "      <td>4.0</td>\n",
       "    </tr>\n",
       "    <tr>\n",
       "      <th>341</th>\n",
       "      <td>Chinstrap</td>\n",
       "      <td>Dream</td>\n",
       "      <td>49.60000</td>\n",
       "      <td>18.20000</td>\n",
       "      <td>193.000000</td>\n",
       "      <td>3775.000000</td>\n",
       "      <td>male</td>\n",
       "      <td>2009</td>\n",
       "      <td>3.8</td>\n",
       "    </tr>\n",
       "    <tr>\n",
       "      <th>342</th>\n",
       "      <td>Chinstrap</td>\n",
       "      <td>Dream</td>\n",
       "      <td>50.80000</td>\n",
       "      <td>19.00000</td>\n",
       "      <td>210.000000</td>\n",
       "      <td>4100.000000</td>\n",
       "      <td>male</td>\n",
       "      <td>2009</td>\n",
       "      <td>4.1</td>\n",
       "    </tr>\n",
       "  </tbody>\n",
       "</table>\n",
       "<p>179 rows × 9 columns</p>\n",
       "</div>"
      ],
      "text/plain": [
       "       species     island  bill_length_mm  bill_depth_mm  flipper_length_mm  \\\n",
       "0       Adelie  Torgersen        39.10000       18.70000         181.000000   \n",
       "3       Adelie  Torgersen        43.92193       17.15117         200.915205   \n",
       "5       Adelie  Torgersen        39.30000       20.60000         190.000000   \n",
       "7       Adelie  Torgersen        39.20000       19.60000         195.000000   \n",
       "8       Adelie  Torgersen        34.10000       18.10000         193.000000   \n",
       "..         ...        ...             ...            ...                ...   \n",
       "334  Chinstrap      Dream        50.20000       18.80000         202.000000   \n",
       "336  Chinstrap      Dream        51.90000       19.50000         206.000000   \n",
       "339  Chinstrap      Dream        55.80000       19.80000         207.000000   \n",
       "341  Chinstrap      Dream        49.60000       18.20000         193.000000   \n",
       "342  Chinstrap      Dream        50.80000       19.00000         210.000000   \n",
       "\n",
       "     body_mass_g   sex  year  mass_kg  \n",
       "0    3750.000000  male  2007      3.8  \n",
       "3    4201.754386  male  2007      4.2  \n",
       "5    3650.000000  male  2007      3.6  \n",
       "7    4675.000000  male  2007      4.7  \n",
       "8    3475.000000  male  2007      3.5  \n",
       "..           ...   ...   ...      ...  \n",
       "334  3800.000000  male  2009      3.8  \n",
       "336  3950.000000  male  2009      4.0  \n",
       "339  4000.000000  male  2009      4.0  \n",
       "341  3775.000000  male  2009      3.8  \n",
       "342  4100.000000  male  2009      4.1  \n",
       "\n",
       "[179 rows x 9 columns]"
      ]
     },
     "execution_count": 57,
     "metadata": {},
     "output_type": "execute_result"
    }
   ],
   "source": [
    "m_penguin = penguin[penguin['sex'] == 'male']\n",
    "m_penguin"
   ]
  },
  {
   "cell_type": "markdown",
   "id": "d59c2d50-69df-4294-9a99-867279ea0035",
   "metadata": {},
   "source": [
    "<h5>Male Penguin  Average Bill Depth</h5>"
   ]
  },
  {
   "cell_type": "code",
   "execution_count": 58,
   "id": "f3f36932-e94d-4e4b-af6d-53fbf325cf06",
   "metadata": {},
   "outputs": [
    {
     "data": {
      "text/plain": [
       "np.float64(17.8)"
      ]
     },
     "execution_count": 58,
     "metadata": {},
     "output_type": "execute_result"
    }
   ],
   "source": [
    "np.round(m_penguin['bill_depth_mm'].mean(),1)"
   ]
  },
  {
   "cell_type": "markdown",
   "id": "f2e8923b-5e27-455e-aa8f-d31c71232535",
   "metadata": {},
   "source": [
    "<h2>Insight No. 2</h2>\n",
    "<p>Male penguins have depper average bill depth compared to Female penguins</p>\n",
    "<hr>"
   ]
  },
  {
   "cell_type": "markdown",
   "id": "9bee9d65-7f46-449f-bbc2-60956419ae70",
   "metadata": {},
   "source": [
    "<h1>Q3: Does the island that penguin lived in affect their body weight?</h1>"
   ]
  },
  {
   "cell_type": "markdown",
   "id": "a5263f4f-c221-4120-a785-44d0498d8039",
   "metadata": {},
   "source": [
    "<h5>Torsergen Island Penguin Average Weight</h5>"
   ]
  },
  {
   "cell_type": "code",
   "execution_count": 59,
   "id": "a0ed19c9-d9c8-4e3d-8c8c-e326b1f9c297",
   "metadata": {},
   "outputs": [
    {
     "data": {
      "text/plain": [
       "np.float64(3.7)"
      ]
     },
     "execution_count": 59,
     "metadata": {},
     "output_type": "execute_result"
    }
   ],
   "source": [
    "torsergen_penguin = penguin[penguin['island'] == \"Torgersen\"]\n",
    "np.round(torsergen_penguin['mass_kg'].mean(), 1)"
   ]
  },
  {
   "cell_type": "markdown",
   "id": "54ec9514-8da1-40d9-abf8-d43f40054dd4",
   "metadata": {},
   "source": [
    "<h5>Dream Island Penguin Average Weight</h5>"
   ]
  },
  {
   "cell_type": "code",
   "execution_count": 60,
   "id": "94d5df84-783c-4acc-bf08-6492189d4b40",
   "metadata": {},
   "outputs": [
    {
     "data": {
      "text/plain": [
       "np.float64(3.7)"
      ]
     },
     "execution_count": 60,
     "metadata": {},
     "output_type": "execute_result"
    }
   ],
   "source": [
    "dream_penguin = penguin[penguin['island'] == \"Dream\"]\n",
    "np.round(dream_penguin['mass_kg'].mean(),1)"
   ]
  },
  {
   "cell_type": "markdown",
   "id": "b64827b7-5595-4fee-a307-be1c0ddd0c95",
   "metadata": {},
   "source": [
    "<h5>Biscoe Island Penguin Average Weight</h5>"
   ]
  },
  {
   "cell_type": "code",
   "execution_count": 61,
   "id": "120ad9fc-7a3f-407f-a8cf-b5924cd83480",
   "metadata": {},
   "outputs": [
    {
     "data": {
      "text/plain": [
       "np.float64(4.7)"
      ]
     },
     "execution_count": 61,
     "metadata": {},
     "output_type": "execute_result"
    }
   ],
   "source": [
    "biscoe_penguin = penguin[penguin['island'] == \"Biscoe\"]\n",
    "np.round(biscoe_penguin['mass_kg'].mean(),1)"
   ]
  },
  {
   "cell_type": "markdown",
   "id": "8fad9902-404b-4317-ab72-053437216778",
   "metadata": {},
   "source": [
    "<h2>Insight No. 3</h2>\n",
    "<p>Penguins from Biscoe Isaland are much heavier on average than thos from Torsersen and Dream Island, which both have the same average weight. </p>\n",
    "<hr>"
   ]
  },
  {
   "cell_type": "markdown",
   "id": "4acb9b9c-4b5d-44ad-b7ea-8532e2d67eed",
   "metadata": {},
   "source": [
    "<h1>Q4: What are the average flipper length of each species?</h1>"
   ]
  },
  {
   "cell_type": "markdown",
   "id": "d6d72e62-caa9-457b-ab67-b741de416174",
   "metadata": {},
   "source": [
    "<h5>Adelie Penguin Species Average Flipper Length </h5>"
   ]
  },
  {
   "cell_type": "code",
   "execution_count": 62,
   "id": "1e7b58cb-f94f-4496-8f9e-61a98c8c2bc7",
   "metadata": {},
   "outputs": [
    {
     "data": {
      "text/plain": [
       "np.float64(190.0)"
      ]
     },
     "execution_count": 62,
     "metadata": {},
     "output_type": "execute_result"
    }
   ],
   "source": [
    "adelie_df = penguin[penguin['species'] == 'Adelie']\n",
    "np.round(adelie_df['flipper_length_mm'].mean(),1)"
   ]
  },
  {
   "cell_type": "markdown",
   "id": "aa968ae3-d4a1-4843-80af-1dc3b5c0b240",
   "metadata": {},
   "source": [
    "<h5>Gentoo Penguin Species Average Flipper Length </h5>"
   ]
  },
  {
   "cell_type": "code",
   "execution_count": 63,
   "id": "61ecce07-a960-4f53-bb9b-bccb1df459f7",
   "metadata": {},
   "outputs": [
    {
     "data": {
      "text/plain": [
       "np.float64(217.1)"
      ]
     },
     "execution_count": 63,
     "metadata": {},
     "output_type": "execute_result"
    }
   ],
   "source": [
    "gentoo_df = penguin[penguin['species'] == 'Gentoo']\n",
    "np.round(gentoo_df['flipper_length_mm'].mean(),1)"
   ]
  },
  {
   "cell_type": "markdown",
   "id": "f4bd28d2-62ad-4ec1-9f95-d138d892fa9e",
   "metadata": {},
   "source": [
    "<h5>Chinstrap Penguin Species Average Flipper Length </h5>"
   ]
  },
  {
   "cell_type": "code",
   "execution_count": 64,
   "id": "b37efee0-8914-4753-902e-73e9e46558db",
   "metadata": {},
   "outputs": [
    {
     "data": {
      "text/plain": [
       "np.float64(195.8)"
      ]
     },
     "execution_count": 64,
     "metadata": {},
     "output_type": "execute_result"
    }
   ],
   "source": [
    "chinstrap_df = penguin[penguin['species'] == 'Chinstrap']\n",
    "np.round(chinstrap_df['flipper_length_mm'].mean(),1)"
   ]
  },
  {
   "cell_type": "markdown",
   "id": "074f8d65-550e-4741-98c0-3caf02c63a0f",
   "metadata": {},
   "source": [
    "<h2>Insight No. 4</h2>\n",
    "<p>Gentoo Penguins have the average flipper length of 217mm which is longer than other species, Chinstrap followed with average flipper length of 195mm while Adelie comes last with average flipper length of 190mm.</p>\n",
    "<hr>"
   ]
  },
  {
   "cell_type": "markdown",
   "id": "1bfd3e78-371d-42dd-ac2d-174f2f560842",
   "metadata": {},
   "source": [
    "<h1>Q5: What happened to the average body mass (kg) of the Adelie species from 2007 to 2009?</h1>"
   ]
  },
  {
   "cell_type": "code",
   "execution_count": 65,
   "id": "b885ddb3-de87-485a-8d5d-c5435c594fa5",
   "metadata": {},
   "outputs": [],
   "source": [
    "adelie_df = penguin[penguin['species'] == 'Adelie']"
   ]
  },
  {
   "cell_type": "markdown",
   "id": "265403b2-92a9-4d54-a690-fd315ee75654",
   "metadata": {},
   "source": [
    "<h5>Adelie species average body mass(kg) record in 2007</h5>"
   ]
  },
  {
   "cell_type": "code",
   "execution_count": 66,
   "id": "ea00f723-6ad1-40c1-8cfc-7f7d1b01bf91",
   "metadata": {},
   "outputs": [
    {
     "data": {
      "text/plain": [
       "np.float64(3.71)"
      ]
     },
     "execution_count": 66,
     "metadata": {},
     "output_type": "execute_result"
    }
   ],
   "source": [
    "adelie_seven_df = adelie_df[adelie_df['year'] == 2007]\n",
    "np.round(adelie_seven_df['mass_kg'].mean(),2)"
   ]
  },
  {
   "cell_type": "markdown",
   "id": "671a7509-daf4-4cbb-84f6-18b59a09b39d",
   "metadata": {},
   "source": [
    "<h5>Adelie species average body mass(kg) record in 2008</h5>"
   ]
  },
  {
   "cell_type": "code",
   "execution_count": 67,
   "id": "43342f96-768b-425c-8ff5-b130afb6a2fe",
   "metadata": {},
   "outputs": [
    {
     "data": {
      "text/plain": [
       "np.float64(3.75)"
      ]
     },
     "execution_count": 67,
     "metadata": {},
     "output_type": "execute_result"
    }
   ],
   "source": [
    "adelie_eight_df = adelie_df[adelie_df['year'] == 2008]\n",
    "np.round(adelie_eight_df['mass_kg'].mean(),2)"
   ]
  },
  {
   "cell_type": "markdown",
   "id": "7e334513-6aeb-41cd-89d7-6dc01577670b",
   "metadata": {},
   "source": [
    "<h5>Adelie species average body mass(kg) record in 2009</h5>"
   ]
  },
  {
   "cell_type": "code",
   "execution_count": 68,
   "id": "d576981c-608f-45bc-8bcf-f73cd0eaa0e1",
   "metadata": {},
   "outputs": [
    {
     "data": {
      "text/plain": [
       "np.float64(3.66)"
      ]
     },
     "execution_count": 68,
     "metadata": {},
     "output_type": "execute_result"
    }
   ],
   "source": [
    "adelie_nine_df = adelie_df[adelie_df['year'] == 2009]\n",
    "np.round(adelie_nine_df['mass_kg'].mean(),2)"
   ]
  },
  {
   "cell_type": "markdown",
   "id": "fbe944b1-4c2a-41d9-921e-71feed090a87",
   "metadata": {},
   "source": [
    "<h2>Insight No. 5</h2>\n",
    "<p>In 2008, the Adelie species mark their heaviest average body mass(kg) with 3.75kg. But following the year 2009, the average body mass(kg) drop with 3.66kg, even lower than the year 2007 with average body mass(kg) with 3.71kg </p>\n",
    "<hr>"
   ]
  },
  {
   "cell_type": "markdown",
   "id": "a3aab58e-3e95-4718-84b2-0d06ded78a54",
   "metadata": {},
   "source": [
    "<h1>Q6: Which species had the lowest recorded average body mass (kg) in 2009?</h1>"
   ]
  },
  {
   "cell_type": "markdown",
   "id": "80d97476-c925-443c-82e1-b0b730aecc3f",
   "metadata": {},
   "source": [
    "<h5>Body Mass(kg) record in 2009</h5>"
   ]
  },
  {
   "cell_type": "code",
   "execution_count": 69,
   "id": "51927425-e14b-49ef-8ec4-b322e1834da6",
   "metadata": {},
   "outputs": [
    {
     "data": {
      "text/plain": [
       "np.float64(2.9)"
      ]
     },
     "execution_count": 69,
     "metadata": {},
     "output_type": "execute_result"
    }
   ],
   "source": [
    "year_nine = penguin[penguin['year'] == 2009]\n",
    "year_nine['mass_kg'].min()"
   ]
  },
  {
   "cell_type": "markdown",
   "id": "409c953a-9101-4bd2-8eaf-9216d96a4151",
   "metadata": {},
   "source": [
    "<h5>Filtering the result</h5>"
   ]
  },
  {
   "cell_type": "code",
   "execution_count": 70,
   "id": "23a9489b-3078-47fb-beb5-7e05c516d3f6",
   "metadata": {},
   "outputs": [
    {
     "data": {
      "text/html": [
       "<div>\n",
       "<style scoped>\n",
       "    .dataframe tbody tr th:only-of-type {\n",
       "        vertical-align: middle;\n",
       "    }\n",
       "\n",
       "    .dataframe tbody tr th {\n",
       "        vertical-align: top;\n",
       "    }\n",
       "\n",
       "    .dataframe thead th {\n",
       "        text-align: right;\n",
       "    }\n",
       "</style>\n",
       "<table border=\"1\" class=\"dataframe\">\n",
       "  <thead>\n",
       "    <tr style=\"text-align: right;\">\n",
       "      <th></th>\n",
       "      <th>species</th>\n",
       "      <th>island</th>\n",
       "      <th>bill_length_mm</th>\n",
       "      <th>bill_depth_mm</th>\n",
       "      <th>flipper_length_mm</th>\n",
       "      <th>body_mass_g</th>\n",
       "      <th>sex</th>\n",
       "      <th>year</th>\n",
       "      <th>mass_kg</th>\n",
       "    </tr>\n",
       "  </thead>\n",
       "  <tbody>\n",
       "    <tr>\n",
       "      <th>104</th>\n",
       "      <td>Adelie</td>\n",
       "      <td>Biscoe</td>\n",
       "      <td>37.9</td>\n",
       "      <td>18.6</td>\n",
       "      <td>193.0</td>\n",
       "      <td>2925.0</td>\n",
       "      <td>female</td>\n",
       "      <td>2009</td>\n",
       "      <td>2.9</td>\n",
       "    </tr>\n",
       "    <tr>\n",
       "      <th>116</th>\n",
       "      <td>Adelie</td>\n",
       "      <td>Torgersen</td>\n",
       "      <td>38.6</td>\n",
       "      <td>17.0</td>\n",
       "      <td>188.0</td>\n",
       "      <td>2900.0</td>\n",
       "      <td>female</td>\n",
       "      <td>2009</td>\n",
       "      <td>2.9</td>\n",
       "    </tr>\n",
       "  </tbody>\n",
       "</table>\n",
       "</div>"
      ],
      "text/plain": [
       "    species     island  bill_length_mm  bill_depth_mm  flipper_length_mm  \\\n",
       "104  Adelie     Biscoe            37.9           18.6              193.0   \n",
       "116  Adelie  Torgersen            38.6           17.0              188.0   \n",
       "\n",
       "     body_mass_g     sex  year  mass_kg  \n",
       "104       2925.0  female  2009      2.9  \n",
       "116       2900.0  female  2009      2.9  "
      ]
     },
     "execution_count": 70,
     "metadata": {},
     "output_type": "execute_result"
    }
   ],
   "source": [
    "heavy = year_nine[year_nine['mass_kg'] == 2.9]\n",
    "heavy"
   ]
  },
  {
   "cell_type": "markdown",
   "id": "65582f25-c762-4a76-a336-194ed401a57d",
   "metadata": {},
   "source": [
    "<h2>Insight No. 6</h2>\n",
    "<p>The Adelie species had the lowest recorded avarage body mass(kg) of 2.9kgm in the year 2009, there is 2 recorded penguin which is both female. </p>\n",
    "<hr>"
   ]
  },
  {
   "cell_type": "markdown",
   "id": "f07eac37-2567-4cce-97d6-966e84b4c77d",
   "metadata": {},
   "source": [
    "<h1>Q7: Does sex (male or female) in the Gentoo species affect bill length? </h1>"
   ]
  },
  {
   "cell_type": "code",
   "execution_count": 71,
   "id": "3180c2bf-190c-42d1-b120-2eaa406b88db",
   "metadata": {},
   "outputs": [],
   "source": [
    "gentoo_df = penguin[penguin['species'] == \"Gentoo\"]\n",
    "gentoo_male_df = gentoo_df[gentoo_df['sex'] == 'male']\n",
    "gentoo_female_df = gentoo_df[gentoo_df['sex'] == 'female']"
   ]
  },
  {
   "cell_type": "markdown",
   "id": "cb11744b-9752-4030-920d-c5150c0f039a",
   "metadata": {},
   "source": [
    "<h5>Male Gentoo Penguin average bill length</h5>"
   ]
  },
  {
   "cell_type": "code",
   "execution_count": 72,
   "id": "7188cf77-c9b0-4db8-85e6-1b8bcb6ecbe4",
   "metadata": {},
   "outputs": [
    {
     "data": {
      "text/plain": [
       "np.float64(49.15639287612972)"
      ]
     },
     "execution_count": 72,
     "metadata": {},
     "output_type": "execute_result"
    }
   ],
   "source": [
    "gentoo_male_df['bill_length_mm'].mean()"
   ]
  },
  {
   "cell_type": "markdown",
   "id": "66ca0e7a-8c2f-41b6-b9c9-5a42ce0e4380",
   "metadata": {},
   "source": [
    "<h5>Female Gentoo Penguin average bill length</h5>"
   ]
  },
  {
   "cell_type": "code",
   "execution_count": 73,
   "id": "8894d4c3-f354-4dcb-b0b3-47944be98dbd",
   "metadata": {},
   "outputs": [
    {
     "data": {
      "text/plain": [
       "np.float64(45.563793103448276)"
      ]
     },
     "execution_count": 73,
     "metadata": {},
     "output_type": "execute_result"
    }
   ],
   "source": [
    "gentoo_female_df['bill_length_mm'].mean()"
   ]
  },
  {
   "cell_type": "markdown",
   "id": "ed27c3e9-9a01-4ff2-9d07-e7fe87df8c25",
   "metadata": {},
   "source": [
    "<h2>Insight No. 7</h2>\n",
    "<p>Male Gentoo penguins had longer bill lenght compared to Female Gentoo penguins, giving us the answer that sex from the Gentoo species affect their bill lenght<p>"
   ]
  }
 ],
 "metadata": {
  "kernelspec": {
   "display_name": "Python 3 (ipykernel)",
   "language": "python",
   "name": "python3"
  },
  "language_info": {
   "codemirror_mode": {
    "name": "ipython",
    "version": 3
   },
   "file_extension": ".py",
   "mimetype": "text/x-python",
   "name": "python",
   "nbconvert_exporter": "python",
   "pygments_lexer": "ipython3",
   "version": "3.13.5"
  }
 },
 "nbformat": 4,
 "nbformat_minor": 5
}
