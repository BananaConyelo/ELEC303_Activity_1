{
 "cells": [
  {
   "cell_type": "markdown",
   "id": "1f4777ae-f2aa-407e-ab78-0b55ec8a766f",
   "metadata": {},
   "source": [
    "\n",
    "<h1>Activity 2 - UK ROAD ACCIDENT DATA ANALYTICS</h1>\n",
    "<hr>\n",
    "<h3>Analyst: Jessie O. Mompero Jr</h3>"
   ]
  },
  {
   "cell_type": "code",
   "execution_count": 1,
   "id": "7ae2b28a-b1e6-495f-ae11-8c429fa32d48",
   "metadata": {},
   "outputs": [],
   "source": [
    "import pandas as pd\n",
    "import numpy as np\n",
    "import matplotlib.pyplot as plt\n",
    "import warnings\n",
    "warnings.filterwarnings('ignore')\n",
    "from scipy.stats import f_oneway"
   ]
  },
  {
   "cell_type": "markdown",
   "id": "cf59d3ff-3bb4-487c-bcd1-cebb8ee375df",
   "metadata": {},
   "source": [
    "<h2>DATABASE</h2>"
   ]
  },
  {
   "cell_type": "code",
   "execution_count": 2,
   "id": "ef4a2f26-0cb0-4eb2-a8b6-a3615412aa13",
   "metadata": {},
   "outputs": [],
   "source": [
    "accident_df = pd.read_csv('datasets\\\\uk_road_accident.csv')"
   ]
  },
  {
   "cell_type": "code",
   "execution_count": 3,
   "id": "ba6e1454-0598-4431-8bec-3f618d3cc3a5",
   "metadata": {},
   "outputs": [
    {
     "data": {
      "text/html": [
       "<div>\n",
       "<style scoped>\n",
       "    .dataframe tbody tr th:only-of-type {\n",
       "        vertical-align: middle;\n",
       "    }\n",
       "\n",
       "    .dataframe tbody tr th {\n",
       "        vertical-align: top;\n",
       "    }\n",
       "\n",
       "    .dataframe thead th {\n",
       "        text-align: right;\n",
       "    }\n",
       "</style>\n",
       "<table border=\"1\" class=\"dataframe\">\n",
       "  <thead>\n",
       "    <tr style=\"text-align: right;\">\n",
       "      <th></th>\n",
       "      <th>Index</th>\n",
       "      <th>Accident_Severity</th>\n",
       "      <th>Accident Date</th>\n",
       "      <th>Latitude</th>\n",
       "      <th>Light_Conditions</th>\n",
       "      <th>District Area</th>\n",
       "      <th>Longitude</th>\n",
       "      <th>Number_of_Casualties</th>\n",
       "      <th>Number_of_Vehicles</th>\n",
       "      <th>Road_Surface_Conditions</th>\n",
       "      <th>Road_Type</th>\n",
       "      <th>Urban_or_Rural_Area</th>\n",
       "      <th>Weather_Conditions</th>\n",
       "      <th>Vehicle_Type</th>\n",
       "    </tr>\n",
       "  </thead>\n",
       "  <tbody>\n",
       "    <tr>\n",
       "      <th>0</th>\n",
       "      <td>200701BS64157</td>\n",
       "      <td>Serious</td>\n",
       "      <td>5/6/2019</td>\n",
       "      <td>51.506187</td>\n",
       "      <td>Darkness - lights lit</td>\n",
       "      <td>Kensington and Chelsea</td>\n",
       "      <td>-0.209082</td>\n",
       "      <td>1</td>\n",
       "      <td>2</td>\n",
       "      <td>Dry</td>\n",
       "      <td>Single carriageway</td>\n",
       "      <td>Urban</td>\n",
       "      <td>Fine no high winds</td>\n",
       "      <td>Car</td>\n",
       "    </tr>\n",
       "    <tr>\n",
       "      <th>1</th>\n",
       "      <td>200701BS65737</td>\n",
       "      <td>Serious</td>\n",
       "      <td>2/7/2019</td>\n",
       "      <td>51.495029</td>\n",
       "      <td>Daylight</td>\n",
       "      <td>Kensington and Chelsea</td>\n",
       "      <td>-0.173647</td>\n",
       "      <td>1</td>\n",
       "      <td>2</td>\n",
       "      <td>Wet or damp</td>\n",
       "      <td>Single carriageway</td>\n",
       "      <td>Urban</td>\n",
       "      <td>Raining no high winds</td>\n",
       "      <td>Car</td>\n",
       "    </tr>\n",
       "    <tr>\n",
       "      <th>2</th>\n",
       "      <td>200701BS66127</td>\n",
       "      <td>Serious</td>\n",
       "      <td>26-08-2019</td>\n",
       "      <td>51.517715</td>\n",
       "      <td>Darkness - lighting unknown</td>\n",
       "      <td>Kensington and Chelsea</td>\n",
       "      <td>-0.210215</td>\n",
       "      <td>1</td>\n",
       "      <td>3</td>\n",
       "      <td>Dry</td>\n",
       "      <td>NaN</td>\n",
       "      <td>Urban</td>\n",
       "      <td>NaN</td>\n",
       "      <td>Taxi/Private hire car</td>\n",
       "    </tr>\n",
       "    <tr>\n",
       "      <th>3</th>\n",
       "      <td>200701BS66128</td>\n",
       "      <td>Serious</td>\n",
       "      <td>16-08-2019</td>\n",
       "      <td>51.495478</td>\n",
       "      <td>Daylight</td>\n",
       "      <td>Kensington and Chelsea</td>\n",
       "      <td>-0.202731</td>\n",
       "      <td>1</td>\n",
       "      <td>4</td>\n",
       "      <td>Dry</td>\n",
       "      <td>Single carriageway</td>\n",
       "      <td>Urban</td>\n",
       "      <td>Fine no high winds</td>\n",
       "      <td>Bus or coach (17 or more pass seats)</td>\n",
       "    </tr>\n",
       "    <tr>\n",
       "      <th>4</th>\n",
       "      <td>200701BS66837</td>\n",
       "      <td>Slight</td>\n",
       "      <td>3/9/2019</td>\n",
       "      <td>51.488576</td>\n",
       "      <td>Darkness - lights lit</td>\n",
       "      <td>Kensington and Chelsea</td>\n",
       "      <td>-0.192487</td>\n",
       "      <td>1</td>\n",
       "      <td>2</td>\n",
       "      <td>Dry</td>\n",
       "      <td>NaN</td>\n",
       "      <td>Urban</td>\n",
       "      <td>NaN</td>\n",
       "      <td>Other vehicle</td>\n",
       "    </tr>\n",
       "    <tr>\n",
       "      <th>...</th>\n",
       "      <td>...</td>\n",
       "      <td>...</td>\n",
       "      <td>...</td>\n",
       "      <td>...</td>\n",
       "      <td>...</td>\n",
       "      <td>...</td>\n",
       "      <td>...</td>\n",
       "      <td>...</td>\n",
       "      <td>...</td>\n",
       "      <td>...</td>\n",
       "      <td>...</td>\n",
       "      <td>...</td>\n",
       "      <td>...</td>\n",
       "      <td>...</td>\n",
       "    </tr>\n",
       "    <tr>\n",
       "      <th>660674</th>\n",
       "      <td>201091NM01760</td>\n",
       "      <td>Slight</td>\n",
       "      <td>18-02-2022</td>\n",
       "      <td>57.374005</td>\n",
       "      <td>Daylight</td>\n",
       "      <td>Highland</td>\n",
       "      <td>-3.467828</td>\n",
       "      <td>2</td>\n",
       "      <td>1</td>\n",
       "      <td>Dry</td>\n",
       "      <td>Single carriageway</td>\n",
       "      <td>Rural</td>\n",
       "      <td>Fine no high winds</td>\n",
       "      <td>Car</td>\n",
       "    </tr>\n",
       "    <tr>\n",
       "      <th>660675</th>\n",
       "      <td>201091NM01881</td>\n",
       "      <td>Slight</td>\n",
       "      <td>21-02-2022</td>\n",
       "      <td>57.232273</td>\n",
       "      <td>Darkness - no lighting</td>\n",
       "      <td>Highland</td>\n",
       "      <td>-3.809281</td>\n",
       "      <td>1</td>\n",
       "      <td>1</td>\n",
       "      <td>Frost or ice</td>\n",
       "      <td>Single carriageway</td>\n",
       "      <td>Rural</td>\n",
       "      <td>Fine no high winds</td>\n",
       "      <td>Car</td>\n",
       "    </tr>\n",
       "    <tr>\n",
       "      <th>660676</th>\n",
       "      <td>201091NM01935</td>\n",
       "      <td>Slight</td>\n",
       "      <td>23-02-2022</td>\n",
       "      <td>57.585044</td>\n",
       "      <td>Daylight</td>\n",
       "      <td>Highland</td>\n",
       "      <td>-3.862727</td>\n",
       "      <td>1</td>\n",
       "      <td>3</td>\n",
       "      <td>Frost or ice</td>\n",
       "      <td>Single carriageway</td>\n",
       "      <td>Rural</td>\n",
       "      <td>Fine no high winds</td>\n",
       "      <td>Car</td>\n",
       "    </tr>\n",
       "    <tr>\n",
       "      <th>660677</th>\n",
       "      <td>201091NM01964</td>\n",
       "      <td>Serious</td>\n",
       "      <td>23-02-2022</td>\n",
       "      <td>57.214898</td>\n",
       "      <td>Darkness - no lighting</td>\n",
       "      <td>Highland</td>\n",
       "      <td>-3.823997</td>\n",
       "      <td>1</td>\n",
       "      <td>2</td>\n",
       "      <td>Wet or damp</td>\n",
       "      <td>Single carriageway</td>\n",
       "      <td>Rural</td>\n",
       "      <td>Fine no high winds</td>\n",
       "      <td>Motorcycle over 500cc</td>\n",
       "    </tr>\n",
       "    <tr>\n",
       "      <th>660678</th>\n",
       "      <td>201091NM02142</td>\n",
       "      <td>Serious</td>\n",
       "      <td>28-02-2022</td>\n",
       "      <td>57.575210</td>\n",
       "      <td>Daylight</td>\n",
       "      <td>Highland</td>\n",
       "      <td>-3.895673</td>\n",
       "      <td>1</td>\n",
       "      <td>1</td>\n",
       "      <td>Wet or damp</td>\n",
       "      <td>Dual carriageway</td>\n",
       "      <td>Rural</td>\n",
       "      <td>Snowing no high winds</td>\n",
       "      <td>Car</td>\n",
       "    </tr>\n",
       "  </tbody>\n",
       "</table>\n",
       "<p>660679 rows × 14 columns</p>\n",
       "</div>"
      ],
      "text/plain": [
       "                Index Accident_Severity Accident Date   Latitude  \\\n",
       "0       200701BS64157           Serious      5/6/2019  51.506187   \n",
       "1       200701BS65737           Serious      2/7/2019  51.495029   \n",
       "2       200701BS66127           Serious    26-08-2019  51.517715   \n",
       "3       200701BS66128           Serious    16-08-2019  51.495478   \n",
       "4       200701BS66837            Slight      3/9/2019  51.488576   \n",
       "...               ...               ...           ...        ...   \n",
       "660674  201091NM01760            Slight    18-02-2022  57.374005   \n",
       "660675  201091NM01881            Slight    21-02-2022  57.232273   \n",
       "660676  201091NM01935            Slight    23-02-2022  57.585044   \n",
       "660677  201091NM01964           Serious    23-02-2022  57.214898   \n",
       "660678  201091NM02142           Serious    28-02-2022  57.575210   \n",
       "\n",
       "                   Light_Conditions           District Area  Longitude  \\\n",
       "0             Darkness - lights lit  Kensington and Chelsea  -0.209082   \n",
       "1                          Daylight  Kensington and Chelsea  -0.173647   \n",
       "2       Darkness - lighting unknown  Kensington and Chelsea  -0.210215   \n",
       "3                          Daylight  Kensington and Chelsea  -0.202731   \n",
       "4             Darkness - lights lit  Kensington and Chelsea  -0.192487   \n",
       "...                             ...                     ...        ...   \n",
       "660674                     Daylight                Highland  -3.467828   \n",
       "660675       Darkness - no lighting                Highland  -3.809281   \n",
       "660676                     Daylight                Highland  -3.862727   \n",
       "660677       Darkness - no lighting                Highland  -3.823997   \n",
       "660678                     Daylight                Highland  -3.895673   \n",
       "\n",
       "        Number_of_Casualties  Number_of_Vehicles Road_Surface_Conditions  \\\n",
       "0                          1                   2                     Dry   \n",
       "1                          1                   2             Wet or damp   \n",
       "2                          1                   3                     Dry   \n",
       "3                          1                   4                     Dry   \n",
       "4                          1                   2                     Dry   \n",
       "...                      ...                 ...                     ...   \n",
       "660674                     2                   1                     Dry   \n",
       "660675                     1                   1            Frost or ice   \n",
       "660676                     1                   3            Frost or ice   \n",
       "660677                     1                   2             Wet or damp   \n",
       "660678                     1                   1             Wet or damp   \n",
       "\n",
       "                 Road_Type Urban_or_Rural_Area     Weather_Conditions  \\\n",
       "0       Single carriageway               Urban     Fine no high winds   \n",
       "1       Single carriageway               Urban  Raining no high winds   \n",
       "2                      NaN               Urban                    NaN   \n",
       "3       Single carriageway               Urban     Fine no high winds   \n",
       "4                      NaN               Urban                    NaN   \n",
       "...                    ...                 ...                    ...   \n",
       "660674  Single carriageway               Rural     Fine no high winds   \n",
       "660675  Single carriageway               Rural     Fine no high winds   \n",
       "660676  Single carriageway               Rural     Fine no high winds   \n",
       "660677  Single carriageway               Rural     Fine no high winds   \n",
       "660678    Dual carriageway               Rural  Snowing no high winds   \n",
       "\n",
       "                                Vehicle_Type  \n",
       "0                                        Car  \n",
       "1                                        Car  \n",
       "2                      Taxi/Private hire car  \n",
       "3       Bus or coach (17 or more pass seats)  \n",
       "4                              Other vehicle  \n",
       "...                                      ...  \n",
       "660674                                   Car  \n",
       "660675                                   Car  \n",
       "660676                                   Car  \n",
       "660677                 Motorcycle over 500cc  \n",
       "660678                                   Car  \n",
       "\n",
       "[660679 rows x 14 columns]"
      ]
     },
     "execution_count": 3,
     "metadata": {},
     "output_type": "execute_result"
    }
   ],
   "source": [
    "accident_df"
   ]
  },
  {
   "cell_type": "markdown",
   "id": "44945e27-2655-45fb-86eb-dd9ce327c396",
   "metadata": {},
   "source": [
    "<h2>FILLING NULL VALUES</h2>"
   ]
  },
  {
   "cell_type": "code",
   "execution_count": 4,
   "id": "175b2150-cef4-476e-86c0-9abde7daf130",
   "metadata": {},
   "outputs": [
    {
     "data": {
      "text/plain": [
       "Index                          0\n",
       "Accident_Severity              0\n",
       "Accident Date                  0\n",
       "Latitude                      25\n",
       "Light_Conditions               0\n",
       "District Area                  0\n",
       "Longitude                     26\n",
       "Number_of_Casualties           0\n",
       "Number_of_Vehicles             0\n",
       "Road_Surface_Conditions      726\n",
       "Road_Type                   4520\n",
       "Urban_or_Rural_Area           15\n",
       "Weather_Conditions         14128\n",
       "Vehicle_Type                   0\n",
       "dtype: int64"
      ]
     },
     "execution_count": 4,
     "metadata": {},
     "output_type": "execute_result"
    }
   ],
   "source": [
    "accident_df.isnull().sum()"
   ]
  },
  {
   "cell_type": "code",
   "execution_count": 5,
   "id": "b25d9816-5b04-4572-acd4-57f37474f30f",
   "metadata": {},
   "outputs": [
    {
     "data": {
      "text/plain": [
       "Index                      0\n",
       "Accident_Severity          0\n",
       "Accident Date              0\n",
       "Latitude                   0\n",
       "Light_Conditions           0\n",
       "District Area              0\n",
       "Longitude                  0\n",
       "Number_of_Casualties       0\n",
       "Number_of_Vehicles         0\n",
       "Road_Surface_Conditions    0\n",
       "Road_Type                  0\n",
       "Urban_or_Rural_Area        0\n",
       "Weather_Conditions         0\n",
       "Vehicle_Type               0\n",
       "dtype: int64"
      ]
     },
     "execution_count": 5,
     "metadata": {},
     "output_type": "execute_result"
    }
   ],
   "source": [
    "accident_df['Latitude'] = accident_df['Latitude'].fillna(accident_df['Latitude'].mean())\n",
    "accident_df['Longitude'] = accident_df['Longitude'].fillna(accident_df['Longitude'].mean())\n",
    "accident_df['Road_Surface_Conditions'] = accident_df['Road_Surface_Conditions'].fillna(accident_df['Road_Surface_Conditions'].mode()[0])\n",
    "accident_df['Road_Type'] = accident_df['Road_Type'].fillna(accident_df['Road_Type'].mode()[0])\n",
    "accident_df['Urban_or_Rural_Area'] = accident_df['Urban_or_Rural_Area'].fillna(accident_df['Urban_or_Rural_Area'].mode()[0])\n",
    "accident_df['Weather_Conditions'] = accident_df['Weather_Conditions'].fillna(accident_df['Weather_Conditions'].mode()[0])\n",
    "accident_df.isnull().sum()"
   ]
  },
  {
   "cell_type": "markdown",
   "id": "d8351610-34c2-4278-978d-ff9dad22dfa9",
   "metadata": {},
   "source": [
    "<h2>CORRECTING DATA TYPES</h2>"
   ]
  },
  {
   "cell_type": "code",
   "execution_count": 6,
   "id": "5febed6e-a1ba-420b-bf52-be926ff2599c",
   "metadata": {},
   "outputs": [
    {
     "name": "stdout",
     "output_type": "stream",
     "text": [
      "<class 'pandas.core.frame.DataFrame'>\n",
      "RangeIndex: 660679 entries, 0 to 660678\n",
      "Data columns (total 14 columns):\n",
      " #   Column                   Non-Null Count   Dtype  \n",
      "---  ------                   --------------   -----  \n",
      " 0   Index                    660679 non-null  object \n",
      " 1   Accident_Severity        660679 non-null  object \n",
      " 2   Accident Date            660679 non-null  object \n",
      " 3   Latitude                 660679 non-null  float64\n",
      " 4   Light_Conditions         660679 non-null  object \n",
      " 5   District Area            660679 non-null  object \n",
      " 6   Longitude                660679 non-null  float64\n",
      " 7   Number_of_Casualties     660679 non-null  int64  \n",
      " 8   Number_of_Vehicles       660679 non-null  int64  \n",
      " 9   Road_Surface_Conditions  660679 non-null  object \n",
      " 10  Road_Type                660679 non-null  object \n",
      " 11  Urban_or_Rural_Area      660679 non-null  object \n",
      " 12  Weather_Conditions       660679 non-null  object \n",
      " 13  Vehicle_Type             660679 non-null  object \n",
      "dtypes: float64(2), int64(2), object(10)\n",
      "memory usage: 70.6+ MB\n"
     ]
    }
   ],
   "source": [
    "accident_df.info()"
   ]
  },
  {
   "cell_type": "code",
   "execution_count": 7,
   "id": "9a5bce38-ffcc-4d67-bd94-2f7af9b79be3",
   "metadata": {},
   "outputs": [
    {
     "name": "stdout",
     "output_type": "stream",
     "text": [
      "<class 'pandas.core.frame.DataFrame'>\n",
      "RangeIndex: 660679 entries, 0 to 660678\n",
      "Data columns (total 14 columns):\n",
      " #   Column                   Non-Null Count   Dtype   \n",
      "---  ------                   --------------   -----   \n",
      " 0   Index                    660679 non-null  category\n",
      " 1   Accident_Severity        660679 non-null  category\n",
      " 2   Accident Date            660679 non-null  object  \n",
      " 3   Latitude                 660679 non-null  category\n",
      " 4   Light_Conditions         660679 non-null  category\n",
      " 5   District Area            660679 non-null  category\n",
      " 6   Longitude                660679 non-null  float64 \n",
      " 7   Number_of_Casualties     660679 non-null  int64   \n",
      " 8   Number_of_Vehicles       660679 non-null  int64   \n",
      " 9   Road_Surface_Conditions  660679 non-null  category\n",
      " 10  Road_Type                660679 non-null  category\n",
      " 11  Urban_or_Rural_Area      660679 non-null  category\n",
      " 12  Weather_Conditions       660679 non-null  category\n",
      " 13  Vehicle_Type             660679 non-null  category\n",
      "dtypes: category(10), float64(1), int64(2), object(1)\n",
      "memory usage: 70.3+ MB\n"
     ]
    }
   ],
   "source": [
    "accident_df['Index'] = accident_df['Index'].astype('category')\n",
    "accident_df['Accident_Severity'] = accident_df['Accident_Severity'].astype('category')\n",
    "accident_df['Accident Date'] = accident_df['Accident Date'].astype('category')\n",
    "accident_df['Latitude'] = accident_df['Latitude'].astype('category')\n",
    "accident_df['Light_Conditions'] = accident_df['Light_Conditions'].astype('category')\n",
    "accident_df['District Area'] = accident_df['District Area'].astype('category')\n",
    "accident_df['Road_Surface_Conditions'] = accident_df['Road_Surface_Conditions'].astype('category')\n",
    "accident_df['Road_Type'] = accident_df['Road_Type'].astype('category')\n",
    "accident_df['Urban_or_Rural_Area'] = accident_df['Urban_or_Rural_Area'].astype('category')\n",
    "accident_df['Weather_Conditions'] = accident_df['Weather_Conditions'].astype('category')\n",
    "accident_df['Vehicle_Type'] = accident_df['Vehicle_Type'].astype('category')\n",
    "accident_df.info()"
   ]
  },
  {
   "cell_type": "markdown",
   "id": "9a835cb9-f880-4b33-9525-7ac822dfb7ad",
   "metadata": {},
   "source": [
    "<h1>1. What district area has the most accident?</h1>"
   ]
  },
  {
   "cell_type": "code",
   "execution_count": 8,
   "id": "86c40e22-57f5-450b-9186-67ab8aa8eeba",
   "metadata": {},
   "outputs": [
    {
     "data": {
      "text/plain": [
       "District Area\n",
       "Birmingham            13491\n",
       "Leeds                  8898\n",
       "Manchester             6720\n",
       "Bradford               6212\n",
       "Sheffield              5710\n",
       "                      ...  \n",
       "Berwick-upon-Tweed      153\n",
       "Teesdale                142\n",
       "Shetland Islands        133\n",
       "Orkney Islands          117\n",
       "Clackmannanshire         91\n",
       "Name: count, Length: 422, dtype: int64"
      ]
     },
     "execution_count": 8,
     "metadata": {},
     "output_type": "execute_result"
    }
   ],
   "source": [
    "accident_df['District Area'].value_counts()"
   ]
  },
  {
   "cell_type": "markdown",
   "id": "035a73aa-6dfc-4441-b738-f0ac0350030c",
   "metadata": {},
   "source": [
    "<h2>Insight No 1</h2>\n",
    "Insight: The Birmingham district has the most recorded accident with 13491 accident while the least is the Clackmannanshire with 91 accident."
   ]
  },
  {
   "cell_type": "markdown",
   "id": "d4df49c1-1219-48d0-a401-eab6543affc3",
   "metadata": {},
   "source": [
    "<h1>2. Which district and what vehicle type has the highest average number of casualties per accident?</h1>"
   ]
  },
  {
   "cell_type": "code",
   "execution_count": 9,
   "id": "87a46192-a56d-464f-9cd3-d6511b1b4060",
   "metadata": {},
   "outputs": [
    {
     "data": {
      "text/plain": [
       "District Area  Vehicle_Type                \n",
       "Birmingham     Car                             9600\n",
       "Leeds          Car                             6875\n",
       "Manchester     Car                             5248\n",
       "Bradford       Car                             4749\n",
       "Sheffield      Car                             4306\n",
       "                                               ... \n",
       "Lincoln        Pedal cycle                        0\n",
       "               Ridden horse                       0\n",
       "Liverpool      Data missing or out of range       0\n",
       "Teignbridge    Data missing or out of range       0\n",
       "Harborough     Data missing or out of range       0\n",
       "Name: Number_of_Casualties, Length: 6752, dtype: int64"
      ]
     },
     "execution_count": 9,
     "metadata": {},
     "output_type": "execute_result"
    }
   ],
   "source": [
    "accident_df.groupby(['District Area', 'Vehicle_Type'])['Number_of_Casualties'].size().sort_values(ascending=False)"
   ]
  },
  {
   "cell_type": "markdown",
   "id": "fe652d5b-58af-47fd-a0c2-411304e419f8",
   "metadata": {},
   "source": [
    "<h2>Insight No 2</h2>\n",
    "Insight: The Birmingham district with the car as vehicle type has the highest average number of casualties per accident."
   ]
  },
  {
   "cell_type": "markdown",
   "id": "08f5d0af-fe21-49c0-b290-78c0bb9e0d6e",
   "metadata": {},
   "source": [
    "<h1>3. What weather conditions has the most accident?</h1>"
   ]
  },
  {
   "cell_type": "code",
   "execution_count": 10,
   "id": "c91be734-eafe-477f-b707-301d3b05b6b4",
   "metadata": {},
   "outputs": [
    {
     "data": {
      "text/plain": [
       "Weather_Conditions\n",
       "Fine no high winds       535013\n",
       "Raining no high winds     79696\n",
       "Other                     17150\n",
       "Raining + high winds       9615\n",
       "Fine + high winds          8554\n",
       "Snowing no high winds      6238\n",
       "Fog or mist                3528\n",
       "Snowing + high winds        885\n",
       "Name: count, dtype: int64"
      ]
     },
     "execution_count": 10,
     "metadata": {},
     "output_type": "execute_result"
    }
   ],
   "source": [
    "accident_df['Weather_Conditions'].value_counts()"
   ]
  },
  {
   "cell_type": "markdown",
   "id": "bd34fe57-7f9c-4153-bb9f-e0ac9e094180",
   "metadata": {},
   "source": [
    "<h2>Insight No 3</h2>\n",
    "Insight: The weather conditions that recorded with the most accident is fine no high winds, which means that the weather is fine and not even high winds with 535013 records."
   ]
  },
  {
   "cell_type": "markdown",
   "id": "0cebecdd-e5dd-4120-a5a7-330c849c519e",
   "metadata": {},
   "source": [
    "<h1>4. Do accidents with more vehicles tend to occur in urban or rural areas?</h1>"
   ]
  },
  {
   "cell_type": "code",
   "execution_count": 11,
   "id": "e74c2524-e101-4893-a67e-4da0d08eb16a",
   "metadata": {},
   "outputs": [
    {
     "data": {
      "text/plain": [
       "Urban_or_Rural_Area\n",
       "Urban          421678\n",
       "Rural          238990\n",
       "Unallocated        11\n",
       "Name: Number_of_Vehicles, dtype: int64"
      ]
     },
     "execution_count": 11,
     "metadata": {},
     "output_type": "execute_result"
    }
   ],
   "source": [
    "accident_df.groupby(['Urban_or_Rural_Area'])['Number_of_Vehicles'].size().sort_values(ascending=False)"
   ]
  },
  {
   "cell_type": "markdown",
   "id": "f4e7ced4-b0b5-427b-b96a-1ce6ccba99a9",
   "metadata": {},
   "source": [
    "<h2>Insight No 4</h2>\n",
    "Insight: The Urban ares has more vehicle accident with 421678 record compared to Rural areas with only 238990 record."
   ]
  },
  {
   "cell_type": "markdown",
   "id": "54ee2278-b314-4f65-abf2-6d74a870b318",
   "metadata": {},
   "source": [
    "<h1>5. What vehicle type has the most accident?</h1>"
   ]
  },
  {
   "cell_type": "code",
   "execution_count": 12,
   "id": "2fe52a31-b13d-4b89-88d7-6fec141ace87",
   "metadata": {},
   "outputs": [
    {
     "data": {
      "text/plain": [
       "Vehicle_Type\n",
       "Car                                      497992\n",
       "Van / Goods 3.5 tonnes mgw or under       34160\n",
       "Bus or coach (17 or more pass seats)      25878\n",
       "Motorcycle over 500cc                     25657\n",
       "Goods 7.5 tonnes mgw and over             17307\n",
       "Motorcycle 125cc and under                15269\n",
       "Taxi/Private hire car                     13294\n",
       "Motorcycle over 125cc and up to 500cc      7656\n",
       "Motorcycle 50cc and under                  7603\n",
       "Goods over 3.5t. and under 7.5t            6096\n",
       "Other vehicle                              5637\n",
       "Minibus (8 - 16 passenger seats)           1976\n",
       "Agricultural vehicle                       1947\n",
       "Pedal cycle                                 197\n",
       "Data missing or out of range                  6\n",
       "Ridden horse                                  4\n",
       "Name: count, dtype: int64"
      ]
     },
     "execution_count": 12,
     "metadata": {},
     "output_type": "execute_result"
    }
   ],
   "source": [
    "accident_df['Vehicle_Type'].value_counts()"
   ]
  },
  {
   "cell_type": "markdown",
   "id": "101791ed-5811-46f4-a931-2010cad3b5d9",
   "metadata": {},
   "source": [
    "<h2>Insight No 5</h2>\n",
    "Insight: The vehicle type with the most recorded accident is the Car, with its 497992 record which is so far away from the second one Van with only 34160."
   ]
  },
  {
   "cell_type": "markdown",
   "id": "0f37979d-cddf-4240-9b95-836cc63be77a",
   "metadata": {},
   "source": [
    "<h1>6. Which road type is most associated with fatal accidents?</h1>"
   ]
  },
  {
   "cell_type": "code",
   "execution_count": 13,
   "id": "ff0b91bf-c93c-4293-b705-f14789c4bf50",
   "metadata": {},
   "outputs": [
    {
     "data": {
      "text/plain": [
       "Road_Type\n",
       "Single carriageway    6560\n",
       "Dual carriageway      1815\n",
       "Roundabout             142\n",
       "One way street          95\n",
       "Slip road               49\n",
       "Name: count, dtype: int64"
      ]
     },
     "execution_count": 13,
     "metadata": {},
     "output_type": "execute_result"
    }
   ],
   "source": [
    "accident_df[accident_df['Accident_Severity'] == 'Fatal']['Road_Type'].value_counts()"
   ]
  },
  {
   "cell_type": "markdown",
   "id": "0cf4a747-8ebc-41dd-9afb-0ae6437d4d0a",
   "metadata": {},
   "source": [
    "<h2>Insight No 6</h2>\n",
    "Insight: The road type that is most associated with the fatal accidents is Single carriageway with 6560 recorded."
   ]
  },
  {
   "cell_type": "markdown",
   "id": "9e17595a-1c86-45e9-9b06-550dc2b2360a",
   "metadata": {},
   "source": [
    "<h1>7. Is there a correlation between weather conditions and accident severity?</h1>"
   ]
  },
  {
   "cell_type": "code",
   "execution_count": 14,
   "id": "4884d562-13e3-477d-9824-c4b42f2db967",
   "metadata": {},
   "outputs": [
    {
     "data": {
      "text/plain": [
       "np.float64(0.22888886126927563)"
      ]
     },
     "execution_count": 14,
     "metadata": {},
     "output_type": "execute_result"
    }
   ],
   "source": [
    "accident_df['Number_of_Casualties'].corr(accident_df['Number_of_Vehicles'])"
   ]
  },
  {
   "cell_type": "markdown",
   "id": "9c9f8577-2fa3-4b5a-9a15-84736d66aef1",
   "metadata": {},
   "source": [
    "<h2>Insight No 7</h2>\n",
    "Insight: The result is below 0.5 which suggest that there are low possibility correlation between of weather conditions and accident severity."
   ]
  },
  {
   "cell_type": "markdown",
   "id": "f6f27145-910f-4895-91cc-fc19c997862f",
   "metadata": {},
   "source": [
    "<h1>8. What road surface condition has the most recorded accident?</h1>"
   ]
  },
  {
   "cell_type": "code",
   "execution_count": 15,
   "id": "a2731c8c-48de-4c49-97dc-6eaaf4571f1d",
   "metadata": {},
   "outputs": [
    {
     "data": {
      "text/plain": [
       "Road_Surface_Conditions\n",
       "Dry                     448547\n",
       "Wet or damp             186708\n",
       "Frost or ice             18517\n",
       "Snow                      5890\n",
       "Flood over 3cm. deep      1017\n",
       "Name: count, dtype: int64"
      ]
     },
     "execution_count": 15,
     "metadata": {},
     "output_type": "execute_result"
    }
   ],
   "source": [
    "accident_df['Road_Surface_Conditions'].value_counts()"
   ]
  },
  {
   "cell_type": "markdown",
   "id": "8cf0d115-0cad-49cf-8be2-185b2f999924",
   "metadata": {},
   "source": [
    "<h2>Insight No 8</h2>\n",
    "Insight: The road surface condition that has the most recorded accident is Dry."
   ]
  },
  {
   "cell_type": "markdown",
   "id": "5c93628e-326b-4e2b-8028-f1c32ea83cc8",
   "metadata": {},
   "source": [
    "<h1>9. Which light condition is most common in serious accidents?</h1>"
   ]
  },
  {
   "cell_type": "code",
   "execution_count": 16,
   "id": "93ad2d01-f1ac-464b-bbea-c65ac404dee8",
   "metadata": {},
   "outputs": [
    {
     "data": {
      "text/plain": [
       "Light_Conditions             Accident_Severity\n",
       "Darkness - lighting unknown  Fatal                    68\n",
       "                             Serious                 794\n",
       "                             Slight                 5622\n",
       "Darkness - lights lit        Fatal                  1860\n",
       "                             Serious               19130\n",
       "                             Slight               108345\n",
       "Darkness - lights unlit      Fatal                    45\n",
       "                             Serious                 360\n",
       "                             Slight                 2138\n",
       "Darkness - no lighting       Fatal                  1612\n",
       "                             Serious                7174\n",
       "                             Slight                28651\n",
       "Daylight                     Fatal                  5076\n",
       "                             Serious               60759\n",
       "                             Slight               419045\n",
       "dtype: int64"
      ]
     },
     "execution_count": 16,
     "metadata": {},
     "output_type": "execute_result"
    }
   ],
   "source": [
    "accident_df.groupby(['Light_Conditions', 'Accident_Severity']).size()"
   ]
  },
  {
   "cell_type": "code",
   "execution_count": 17,
   "id": "7537d83d-102e-4095-93c9-cb6892fae574",
   "metadata": {},
   "outputs": [
    {
     "data": {
      "text/plain": [
       "0    Daylight\n",
       "Name: Light_Conditions, dtype: category\n",
       "Categories (5, object): ['Darkness - lighting unknown', 'Darkness - lights lit', 'Darkness - lights unlit', 'Darkness - no lighting', 'Daylight']"
      ]
     },
     "execution_count": 17,
     "metadata": {},
     "output_type": "execute_result"
    }
   ],
   "source": [
    "accident_df[accident_df['Accident_Severity'] == 'Serious']['Light_Conditions'].mode()"
   ]
  },
  {
   "cell_type": "markdown",
   "id": "183061ad-a57b-49f2-ad1f-1d7008407d20",
   "metadata": {},
   "source": [
    "<h2>Insight No 9</h2>\n",
    "Insight: The light codition with the most serious accidents is Daylight."
   ]
  },
  {
   "cell_type": "markdown",
   "id": "2f172aa3-840d-40f8-9a25-472ea1dbd232",
   "metadata": {},
   "source": [
    "<h1>10. What road type has the most accident?</h1>"
   ]
  },
  {
   "cell_type": "code",
   "execution_count": 18,
   "id": "1be201b2-8c69-4c64-9a54-30401b2d48ae",
   "metadata": {},
   "outputs": [
    {
     "data": {
      "text/plain": [
       "Road_Type\n",
       "Single carriageway    496663\n",
       "Dual carriageway       99424\n",
       "Roundabout             43992\n",
       "One way street         13559\n",
       "Slip road               7041\n",
       "Name: count, dtype: int64"
      ]
     },
     "execution_count": 18,
     "metadata": {},
     "output_type": "execute_result"
    }
   ],
   "source": [
    "accident_df['Road_Type'].value_counts()"
   ]
  },
  {
   "cell_type": "markdown",
   "id": "a3b40f31-6be3-4092-bfec-5838a2bb04dd",
   "metadata": {},
   "source": [
    "<h2>Insight No 10</h2>\n",
    "Insight: The road type with the most record accident is Single carriageway."
   ]
  },
  {
   "cell_type": "markdown",
   "id": "3ab440bb-278f-463a-826c-7c46cac1ac2f",
   "metadata": {},
   "source": [
    "<h1>11. What weather condition does car have the most accident?</h1>"
   ]
  },
  {
   "cell_type": "code",
   "execution_count": 19,
   "id": "eb4677c9-9917-4090-9226-560b36d3332c",
   "metadata": {},
   "outputs": [
    {
     "data": {
      "text/plain": [
       "Weather_Conditions\n",
       "Fine no high winds       403324\n",
       "Raining no high winds     59940\n",
       "Other                     12993\n",
       "Raining + high winds       7206\n",
       "Fine + high winds          6463\n",
       "Snowing no high winds      4748\n",
       "Fog or mist                2641\n",
       "Snowing + high winds        677\n",
       "Name: count, dtype: int64"
      ]
     },
     "execution_count": 19,
     "metadata": {},
     "output_type": "execute_result"
    }
   ],
   "source": [
    "accident_df[accident_df['Vehicle_Type'] == 'Car']['Weather_Conditions'].value_counts()"
   ]
  },
  {
   "cell_type": "markdown",
   "id": "fa37ec24-1cd7-433f-ad75-bf4d7a9a1133",
   "metadata": {},
   "source": [
    "<h2>Insight No 11</h2>\n",
    "Insight: The weather condition that car has most accident is Fine no high winds."
   ]
  },
  {
   "cell_type": "markdown",
   "id": "69805321-71dc-47dc-bdaa-849b7b91836b",
   "metadata": {},
   "source": [
    "<h1>12. Are fatal accidents more likely to occur during daylight or darkness?</h1>"
   ]
  },
  {
   "cell_type": "code",
   "execution_count": 20,
   "id": "38c62767-fff5-405c-ae5c-649dada737cb",
   "metadata": {},
   "outputs": [
    {
     "data": {
      "text/plain": [
       "Accident_Severity  Light_Conditions           \n",
       "Fatal              Darkness - lighting unknown        68\n",
       "                   Darkness - lights lit            1860\n",
       "                   Darkness - lights unlit            45\n",
       "                   Darkness - no lighting           1612\n",
       "                   Daylight                         5076\n",
       "Serious            Darkness - lighting unknown       794\n",
       "                   Darkness - lights lit           19130\n",
       "                   Darkness - lights unlit           360\n",
       "                   Darkness - no lighting           7174\n",
       "                   Daylight                        60759\n",
       "Slight             Darkness - lighting unknown      5622\n",
       "                   Darkness - lights lit          108345\n",
       "                   Darkness - lights unlit          2138\n",
       "                   Darkness - no lighting          28651\n",
       "                   Daylight                       419045\n",
       "dtype: int64"
      ]
     },
     "execution_count": 20,
     "metadata": {},
     "output_type": "execute_result"
    }
   ],
   "source": [
    "accident_df.groupby(['Accident_Severity','Light_Conditions']).size()"
   ]
  },
  {
   "cell_type": "markdown",
   "id": "2ddf91ac-10be-4833-b708-f09d341e8883",
   "metadata": {},
   "source": [
    "<h2>Insight No 12</h2>\n",
    "Insight: The result shows that Fatal accidents are more likely to occur during daylight with 5076 recorded supassing all the darkness even combined."
   ]
  },
  {
   "cell_type": "markdown",
   "id": "7b620edf-6bc9-4a95-ae62-ebbb37ae7020",
   "metadata": {},
   "source": [
    "<h1>13. What is the exact date with the most number of vehicle accident?</h1>"
   ]
  },
  {
   "cell_type": "code",
   "execution_count": 21,
   "id": "4049898b-be96-411c-b88f-d408c27aa295",
   "metadata": {},
   "outputs": [
    {
     "data": {
      "text/plain": [
       "np.int64(32)"
      ]
     },
     "execution_count": 21,
     "metadata": {},
     "output_type": "execute_result"
    }
   ],
   "source": [
    "accident_df['Number_of_Vehicles'].max()"
   ]
  },
  {
   "cell_type": "code",
   "execution_count": 22,
   "id": "4809fab1-4aed-4cf9-a4f3-95f36a770401",
   "metadata": {},
   "outputs": [
    {
     "data": {
      "text/html": [
       "<div>\n",
       "<style scoped>\n",
       "    .dataframe tbody tr th:only-of-type {\n",
       "        vertical-align: middle;\n",
       "    }\n",
       "\n",
       "    .dataframe tbody tr th {\n",
       "        vertical-align: top;\n",
       "    }\n",
       "\n",
       "    .dataframe thead th {\n",
       "        text-align: right;\n",
       "    }\n",
       "</style>\n",
       "<table border=\"1\" class=\"dataframe\">\n",
       "  <thead>\n",
       "    <tr style=\"text-align: right;\">\n",
       "      <th></th>\n",
       "      <th>Index</th>\n",
       "      <th>Accident_Severity</th>\n",
       "      <th>Accident Date</th>\n",
       "      <th>Latitude</th>\n",
       "      <th>Light_Conditions</th>\n",
       "      <th>District Area</th>\n",
       "      <th>Longitude</th>\n",
       "      <th>Number_of_Casualties</th>\n",
       "      <th>Number_of_Vehicles</th>\n",
       "      <th>Road_Surface_Conditions</th>\n",
       "      <th>Road_Type</th>\n",
       "      <th>Urban_or_Rural_Area</th>\n",
       "      <th>Weather_Conditions</th>\n",
       "      <th>Vehicle_Type</th>\n",
       "    </tr>\n",
       "  </thead>\n",
       "  <tbody>\n",
       "    <tr>\n",
       "      <th>497581</th>\n",
       "      <td>2009559D05333</td>\n",
       "      <td>Slight</td>\n",
       "      <td>23-12-2021</td>\n",
       "      <td>50.752096</td>\n",
       "      <td>Daylight</td>\n",
       "      <td>Purbeck</td>\n",
       "      <td>-2.254705</td>\n",
       "      <td>5</td>\n",
       "      <td>32</td>\n",
       "      <td>Frost or ice</td>\n",
       "      <td>Dual carriageway</td>\n",
       "      <td>Rural</td>\n",
       "      <td>Fine no high winds</td>\n",
       "      <td>Car</td>\n",
       "    </tr>\n",
       "  </tbody>\n",
       "</table>\n",
       "</div>"
      ],
      "text/plain": [
       "                Index Accident_Severity Accident Date   Latitude  \\\n",
       "497581  2009559D05333            Slight    23-12-2021  50.752096   \n",
       "\n",
       "       Light_Conditions District Area  Longitude  Number_of_Casualties  \\\n",
       "497581         Daylight       Purbeck  -2.254705                     5   \n",
       "\n",
       "        Number_of_Vehicles Road_Surface_Conditions         Road_Type  \\\n",
       "497581                  32            Frost or ice  Dual carriageway   \n",
       "\n",
       "       Urban_or_Rural_Area  Weather_Conditions Vehicle_Type  \n",
       "497581               Rural  Fine no high winds          Car  "
      ]
     },
     "execution_count": 22,
     "metadata": {},
     "output_type": "execute_result"
    }
   ],
   "source": [
    "accident_df[accident_df['Number_of_Vehicles'] == 32]"
   ]
  },
  {
   "cell_type": "markdown",
   "id": "de95b511-518f-4605-b25a-f4c767d22805",
   "metadata": {},
   "source": [
    "<h2>Insight No 13</h2>\n",
    "Insight: On 23-12-2021 mark the record of most number of vehicle accident with 32 recorded accident."
   ]
  },
  {
   "cell_type": "markdown",
   "id": "4b7bdf3d-5761-4a7d-bad7-11a12865f04d",
   "metadata": {},
   "source": [
    "<h1>14. Which vehicle type is most involved in accidents during icy road conditions?</h1>"
   ]
  },
  {
   "cell_type": "code",
   "execution_count": 23,
   "id": "a741e8c3-d8b2-478d-8515-40490a4e32d3",
   "metadata": {},
   "outputs": [
    {
     "data": {
      "text/plain": [
       "Vehicle_Type\n",
       "Car                                      14108\n",
       "Van / Goods 3.5 tonnes mgw or under        972\n",
       "Motorcycle over 500cc                      689\n",
       "Bus or coach (17 or more pass seats)       646\n",
       "Goods 7.5 tonnes mgw and over              432\n",
       "Motorcycle 125cc and under                 420\n",
       "Taxi/Private hire car                      384\n",
       "Motorcycle 50cc and under                  224\n",
       "Motorcycle over 125cc and up to 500cc      204\n",
       "Other vehicle                              166\n",
       "Goods over 3.5t. and under 7.5t            162\n",
       "Agricultural vehicle                        59\n",
       "Minibus (8 - 16 passenger seats)            40\n",
       "Pedal cycle                                 10\n",
       "Data missing or out of range                 1\n",
       "Ridden horse                                 0\n",
       "Name: count, dtype: int64"
      ]
     },
     "execution_count": 23,
     "metadata": {},
     "output_type": "execute_result"
    }
   ],
   "source": [
    "accident_df[accident_df['Road_Surface_Conditions'] == 'Frost or ice']['Vehicle_Type'].value_counts()"
   ]
  },
  {
   "cell_type": "markdown",
   "id": "1e36afce-6082-4eed-9f1d-634c1bb4e551",
   "metadata": {},
   "source": [
    "<h2>Insight No 14</h2>\n",
    "Insight: During icy road conditions, the vehicle type that is most involved in accidents are Cars."
   ]
  },
  {
   "cell_type": "markdown",
   "id": "eb05e012-868e-4d26-b3c5-4d7210fa1f5d",
   "metadata": {},
   "source": [
    "<h1>15. What accident severity has the most record?</h1>"
   ]
  },
  {
   "cell_type": "code",
   "execution_count": 24,
   "id": "6d49d4ae-7431-491b-b4f0-92760b09178e",
   "metadata": {},
   "outputs": [
    {
     "data": {
      "text/plain": [
       "Accident_Severity\n",
       "Slight     563801\n",
       "Serious     88217\n",
       "Fatal        8661\n",
       "Name: count, dtype: int64"
      ]
     },
     "execution_count": 24,
     "metadata": {},
     "output_type": "execute_result"
    }
   ],
   "source": [
    "accident_df['Accident_Severity'].value_counts()"
   ]
  },
  {
   "cell_type": "markdown",
   "id": "083f6441-bc9b-4ed9-b660-5741b7af5e5e",
   "metadata": {},
   "source": [
    "<h2>Insight No 15</h2>\n",
    "Insight: The accident severity with the most record is Slight."
   ]
  },
  {
   "cell_type": "markdown",
   "id": "ca62bacf-da3a-42a4-86c1-ac87e2ad2576",
   "metadata": {},
   "source": [
    "<h1>16. What is the most common accident severity for each weather condition?</h1>"
   ]
  },
  {
   "cell_type": "code",
   "execution_count": 25,
   "id": "a798af36-113a-45cc-adf5-bd67c272f056",
   "metadata": {},
   "outputs": [
    {
     "data": {
      "text/plain": [
       "Weather_Conditions     Accident_Severity\n",
       "Fine + high winds      Fatal                   175\n",
       "                       Serious                1245\n",
       "                       Slight                 7134\n",
       "Fine no high winds     Fatal                  7207\n",
       "                       Serious               73285\n",
       "                       Slight               454521\n",
       "Fog or mist            Fatal                    82\n",
       "                       Serious                 483\n",
       "                       Slight                 2963\n",
       "Other                  Fatal                   165\n",
       "                       Serious                1801\n",
       "                       Slight                15184\n",
       "Raining + high winds   Fatal                   145\n",
       "                       Serious                1261\n",
       "                       Slight                 8209\n",
       "Raining no high winds  Fatal                   848\n",
       "                       Serious                9468\n",
       "                       Slight                69380\n",
       "Snowing + high winds   Fatal                     3\n",
       "                       Serious                 109\n",
       "                       Slight                  773\n",
       "Snowing no high winds  Fatal                    36\n",
       "                       Serious                 565\n",
       "                       Slight                 5637\n",
       "dtype: int64"
      ]
     },
     "execution_count": 25,
     "metadata": {},
     "output_type": "execute_result"
    }
   ],
   "source": [
    "accident_df.groupby(['Weather_Conditions','Accident_Severity']).size()"
   ]
  },
  {
   "cell_type": "markdown",
   "id": "5f1bf1b4-2339-44bf-9c55-6a42d00db1e5",
   "metadata": {},
   "source": [
    "<h2>Insight No 16</h2>\n",
    "Insight: Across all weather conditions, Slight is the most common accident severity, indicating that most incidents result in minor injuries."
   ]
  },
  {
   "cell_type": "markdown",
   "id": "a3ea4ebf-f3ca-4aba-98bb-6dfb2c0b1166",
   "metadata": {},
   "source": [
    "<h1>17. Does accident severity has correlation with the number of casualties??</h1>"
   ]
  },
  {
   "cell_type": "code",
   "execution_count": 26,
   "id": "afea4f31-d974-422b-be03-46bb70470293",
   "metadata": {},
   "outputs": [],
   "source": [
    "any, p_value = f_oneway(accident_df[accident_df['Accident_Severity'] == 'Slight']['Number_of_Casualties'],accident_df[accident_df['Accident_Severity'] == 'Serious']['Number_of_Casualties'],accident_df[accident_df['Accident_Severity'] == 'Fatal']['Number_of_Casualties'])"
   ]
  },
  {
   "cell_type": "code",
   "execution_count": 27,
   "id": "67a1251e-5740-4b11-bc05-dae87cdfb9fe",
   "metadata": {},
   "outputs": [
    {
     "data": {
      "text/plain": [
       "np.float64(0.0)"
      ]
     },
     "execution_count": 27,
     "metadata": {},
     "output_type": "execute_result"
    }
   ],
   "source": [
    "p_value"
   ]
  },
  {
   "cell_type": "code",
   "execution_count": 28,
   "id": "9f664a7b-1f60-4502-ab84-238976836f70",
   "metadata": {},
   "outputs": [
    {
     "data": {
      "text/html": [
       "<div>\n",
       "<style scoped>\n",
       "    .dataframe tbody tr th:only-of-type {\n",
       "        vertical-align: middle;\n",
       "    }\n",
       "\n",
       "    .dataframe tbody tr th {\n",
       "        vertical-align: top;\n",
       "    }\n",
       "\n",
       "    .dataframe thead th {\n",
       "        text-align: right;\n",
       "    }\n",
       "</style>\n",
       "<table border=\"1\" class=\"dataframe\">\n",
       "  <thead>\n",
       "    <tr style=\"text-align: right;\">\n",
       "      <th>Number_of_Casualties</th>\n",
       "      <th>1</th>\n",
       "      <th>2</th>\n",
       "      <th>3</th>\n",
       "      <th>4</th>\n",
       "      <th>5</th>\n",
       "      <th>6</th>\n",
       "      <th>7</th>\n",
       "      <th>8</th>\n",
       "      <th>9</th>\n",
       "      <th>10</th>\n",
       "      <th>...</th>\n",
       "      <th>29</th>\n",
       "      <th>32</th>\n",
       "      <th>40</th>\n",
       "      <th>42</th>\n",
       "      <th>43</th>\n",
       "      <th>45</th>\n",
       "      <th>47</th>\n",
       "      <th>48</th>\n",
       "      <th>62</th>\n",
       "      <th>68</th>\n",
       "    </tr>\n",
       "    <tr>\n",
       "      <th>Accident_Severity</th>\n",
       "      <th></th>\n",
       "      <th></th>\n",
       "      <th></th>\n",
       "      <th></th>\n",
       "      <th></th>\n",
       "      <th></th>\n",
       "      <th></th>\n",
       "      <th></th>\n",
       "      <th></th>\n",
       "      <th></th>\n",
       "      <th></th>\n",
       "      <th></th>\n",
       "      <th></th>\n",
       "      <th></th>\n",
       "      <th></th>\n",
       "      <th></th>\n",
       "      <th></th>\n",
       "      <th></th>\n",
       "      <th></th>\n",
       "      <th></th>\n",
       "      <th></th>\n",
       "    </tr>\n",
       "  </thead>\n",
       "  <tbody>\n",
       "    <tr>\n",
       "      <th>Fatal</th>\n",
       "      <td>0.009608</td>\n",
       "      <td>0.018570</td>\n",
       "      <td>0.028789</td>\n",
       "      <td>0.040516</td>\n",
       "      <td>0.058210</td>\n",
       "      <td>0.080000</td>\n",
       "      <td>0.100186</td>\n",
       "      <td>0.079439</td>\n",
       "      <td>0.116071</td>\n",
       "      <td>0.120690</td>\n",
       "      <td>...</td>\n",
       "      <td>0.000000</td>\n",
       "      <td>0.0</td>\n",
       "      <td>0.5</td>\n",
       "      <td>0.5</td>\n",
       "      <td>0.0</td>\n",
       "      <td>0.0</td>\n",
       "      <td>0.0</td>\n",
       "      <td>1.0</td>\n",
       "      <td>1.0</td>\n",
       "      <td>1.0</td>\n",
       "    </tr>\n",
       "    <tr>\n",
       "      <th>Serious</th>\n",
       "      <td>0.127511</td>\n",
       "      <td>0.134249</td>\n",
       "      <td>0.171107</td>\n",
       "      <td>0.211276</td>\n",
       "      <td>0.251516</td>\n",
       "      <td>0.300984</td>\n",
       "      <td>0.291280</td>\n",
       "      <td>0.317757</td>\n",
       "      <td>0.294643</td>\n",
       "      <td>0.293103</td>\n",
       "      <td>...</td>\n",
       "      <td>0.666667</td>\n",
       "      <td>0.0</td>\n",
       "      <td>0.0</td>\n",
       "      <td>0.5</td>\n",
       "      <td>0.0</td>\n",
       "      <td>1.0</td>\n",
       "      <td>0.0</td>\n",
       "      <td>0.0</td>\n",
       "      <td>0.0</td>\n",
       "      <td>0.0</td>\n",
       "    </tr>\n",
       "    <tr>\n",
       "      <th>Slight</th>\n",
       "      <td>0.862880</td>\n",
       "      <td>0.847181</td>\n",
       "      <td>0.800104</td>\n",
       "      <td>0.748207</td>\n",
       "      <td>0.690274</td>\n",
       "      <td>0.619016</td>\n",
       "      <td>0.608534</td>\n",
       "      <td>0.602804</td>\n",
       "      <td>0.589286</td>\n",
       "      <td>0.586207</td>\n",
       "      <td>...</td>\n",
       "      <td>0.333333</td>\n",
       "      <td>1.0</td>\n",
       "      <td>0.5</td>\n",
       "      <td>0.0</td>\n",
       "      <td>1.0</td>\n",
       "      <td>0.0</td>\n",
       "      <td>1.0</td>\n",
       "      <td>0.0</td>\n",
       "      <td>0.0</td>\n",
       "      <td>0.0</td>\n",
       "    </tr>\n",
       "  </tbody>\n",
       "</table>\n",
       "<p>3 rows × 36 columns</p>\n",
       "</div>"
      ],
      "text/plain": [
       "Number_of_Casualties        1         2         3         4         5   \\\n",
       "Accident_Severity                                                        \n",
       "Fatal                 0.009608  0.018570  0.028789  0.040516  0.058210   \n",
       "Serious               0.127511  0.134249  0.171107  0.211276  0.251516   \n",
       "Slight                0.862880  0.847181  0.800104  0.748207  0.690274   \n",
       "\n",
       "Number_of_Casualties        6         7         8         9         10  ...  \\\n",
       "Accident_Severity                                                       ...   \n",
       "Fatal                 0.080000  0.100186  0.079439  0.116071  0.120690  ...   \n",
       "Serious               0.300984  0.291280  0.317757  0.294643  0.293103  ...   \n",
       "Slight                0.619016  0.608534  0.602804  0.589286  0.586207  ...   \n",
       "\n",
       "Number_of_Casualties        29   32   40   42   43   45   47   48   62   68  \n",
       "Accident_Severity                                                            \n",
       "Fatal                 0.000000  0.0  0.5  0.5  0.0  0.0  0.0  1.0  1.0  1.0  \n",
       "Serious               0.666667  0.0  0.0  0.5  0.0  1.0  0.0  0.0  0.0  0.0  \n",
       "Slight                0.333333  1.0  0.5  0.0  1.0  0.0  1.0  0.0  0.0  0.0  \n",
       "\n",
       "[3 rows x 36 columns]"
      ]
     },
     "execution_count": 28,
     "metadata": {},
     "output_type": "execute_result"
    }
   ],
   "source": [
    "pd.crosstab(accident_df['Accident_Severity'], accident_df['Number_of_Casualties'], normalize='columns')\n"
   ]
  },
  {
   "cell_type": "markdown",
   "id": "94196bd9-f7c9-4139-8c8f-90e238146bf7",
   "metadata": {},
   "source": [
    "<h2>Insight No 17</h2>\n",
    "Insight: The result is negative suggesting that there is no correlation between accident severity and number of casualties."
   ]
  },
  {
   "cell_type": "markdown",
   "id": "779fa72c-2a8c-44b6-9052-7ca553738901",
   "metadata": {},
   "source": [
    "<h1>18. Which combination of road type and light condition results in the highest number of serious accidents?</h1>"
   ]
  },
  {
   "cell_type": "code",
   "execution_count": 29,
   "id": "78401931-fcd3-4ba3-94aa-ded0f9d6a15d",
   "metadata": {},
   "outputs": [
    {
     "data": {
      "text/plain": [
       "Accident_Severity  Road_Type           Light_Conditions           \n",
       "Slight             Single carriageway  Daylight                       313828\n",
       "                                       Darkness - lights lit           77808\n",
       "                   Dual carriageway    Daylight                        61799\n",
       "Serious            Single carriageway  Daylight                        48956\n",
       "Slight             Roundabout          Daylight                        29895\n",
       "                                                                       ...  \n",
       "Fatal              One way street      Darkness - lighting unknown         1\n",
       "                   Slip road           Darkness - lights unlit             0\n",
       "                   Roundabout          Darkness - lights unlit             0\n",
       "                                       Darkness - lighting unknown         0\n",
       "                   One way street      Darkness - lights unlit             0\n",
       "Length: 75, dtype: int64"
      ]
     },
     "execution_count": 29,
     "metadata": {},
     "output_type": "execute_result"
    }
   ],
   "source": [
    "accident_df.groupby(['Accident_Severity','Road_Type', 'Light_Conditions']).size().sort_values(ascending=False)"
   ]
  },
  {
   "cell_type": "markdown",
   "id": "4a94e2f1-a3fc-43b8-b1a0-e8f718af70e5",
   "metadata": {},
   "source": [
    "<h2>Insight No 18</h2>\n",
    "Insight: The combination of light condition of daylight and road type of roundasbout causes the highest number of serious accidents with 48956 recorded ."
   ]
  },
  {
   "cell_type": "markdown",
   "id": "71b09750-77c4-4575-8534-ffa6ab801f62",
   "metadata": {},
   "source": [
    "<h1>19. Which combination of weather and road surface conditions leads to the highest number of fatal accidents?</h1>"
   ]
  },
  {
   "cell_type": "code",
   "execution_count": 30,
   "id": "f68246fd-cef6-49dd-8e65-6a3c49ac1ae4",
   "metadata": {
    "scrolled": true
   },
   "outputs": [
    {
     "data": {
      "text/plain": [
       "Weather_Conditions     Road_Surface_Conditions\n",
       "Fine no high winds     Dry                        5653\n",
       "                       Wet or damp                1409\n",
       "Raining no high winds  Wet or damp                 829\n",
       "Raining + high winds   Wet or damp                 139\n",
       "Fine no high winds     Frost or ice                125\n",
       "Other                  Wet or damp                 109\n",
       "Fine + high winds      Dry                         103\n",
       "                       Wet or damp                  68\n",
       "Fog or mist            Wet or damp                  56\n",
       "Other                  Frost or ice                 43\n",
       "Fog or mist            Dry                          18\n",
       "Snowing no high winds  Snow                         17\n",
       "Fine no high winds     Snow                         14\n",
       "Other                  Dry                          12\n",
       "Raining no high winds  Flood over 3cm. deep         11\n",
       "Snowing no high winds  Wet or damp                   9\n",
       "Fog or mist            Frost or ice                  8\n",
       "Snowing no high winds  Frost or ice                  8\n",
       "Fine no high winds     Flood over 3cm. deep          6\n",
       "Raining + high winds   Flood over 3cm. deep          5\n",
       "Raining no high winds  Frost or ice                  5\n",
       "Fine + high winds      Frost or ice                  3\n",
       "Raining no high winds  Dry                           2\n",
       "Snowing no high winds  Dry                           2\n",
       "Snowing + high winds   Snow                          2\n",
       "Raining no high winds  Snow                          1\n",
       "Other                  Snow                          1\n",
       "Fine + high winds      Flood over 3cm. deep          1\n",
       "Raining + high winds   Frost or ice                  1\n",
       "Snowing + high winds   Wet or damp                   1\n",
       "                       Frost or ice                  0\n",
       "Snowing no high winds  Flood over 3cm. deep          0\n",
       "Other                  Flood over 3cm. deep          0\n",
       "Snowing + high winds   Flood over 3cm. deep          0\n",
       "                       Dry                           0\n",
       "Fine + high winds      Snow                          0\n",
       "Fog or mist            Snow                          0\n",
       "                       Flood over 3cm. deep          0\n",
       "Raining + high winds   Snow                          0\n",
       "                       Dry                           0\n",
       "dtype: int64"
      ]
     },
     "execution_count": 30,
     "metadata": {},
     "output_type": "execute_result"
    }
   ],
   "source": [
    "accident_df[accident_df['Accident_Severity'] == 'Fatal'].groupby(['Weather_Conditions', 'Road_Surface_Conditions']).size().sort_values(ascending=False)"
   ]
  },
  {
   "cell_type": "markdown",
   "id": "e3a0a2f4-f260-44d0-bdcd-905a2b6bfe9b",
   "metadata": {},
   "source": [
    "<h2>Insight No 19</h2>\n",
    "Insight: The combination of weather condition of fine no high winds and road surface condition of dry causes the highest number of fatal accidents with 5653 recorded ."
   ]
  },
  {
   "cell_type": "markdown",
   "id": "72d68e77-ce38-4f7c-a1b1-479bb83c5cce",
   "metadata": {},
   "source": [
    "<h1>20. Do accidents involving more vehicles correlate or  tend to result in more casualties??</h1>"
   ]
  },
  {
   "cell_type": "code",
   "execution_count": 31,
   "id": "3a4a7d23-6ce0-4420-a3f8-6ee77643f32b",
   "metadata": {},
   "outputs": [
    {
     "data": {
      "text/plain": [
       "np.float64(0.22888886126927563)"
      ]
     },
     "execution_count": 31,
     "metadata": {},
     "output_type": "execute_result"
    }
   ],
   "source": [
    "accident_df['Number_of_Casualties'].corr(accident_df['Number_of_Vehicles'])"
   ]
  },
  {
   "cell_type": "markdown",
   "id": "0b952502-6055-42b8-adea-bfcc4a748b40",
   "metadata": {},
   "source": [
    "<h2>Insight No 20</h2>\n",
    "Insight: The result is below 0.5 suggesting that there is no correlation between the number of casualties and number of vehicles."
   ]
  },
  {
   "cell_type": "code",
   "execution_count": null,
   "id": "524d3316-b776-466a-81c2-26eedc13b093",
   "metadata": {},
   "outputs": [],
   "source": []
  }
 ],
 "metadata": {
  "kernelspec": {
   "display_name": "Python 3 (ipykernel)",
   "language": "python",
   "name": "python3"
  },
  "language_info": {
   "codemirror_mode": {
    "name": "ipython",
    "version": 3
   },
   "file_extension": ".py",
   "mimetype": "text/x-python",
   "name": "python",
   "nbconvert_exporter": "python",
   "pygments_lexer": "ipython3",
   "version": "3.13.5"
  }
 },
 "nbformat": 4,
 "nbformat_minor": 5
}
