{
 "cells": [
  {
   "cell_type": "markdown",
   "id": "1f4777ae-f2aa-407e-ab78-0b55ec8a766f",
   "metadata": {},
   "source": [
    "\n",
    "<h1>Activity 2 - UK ROAD ACCIDENT DATA ANALYTICS</h1>\n",
    "<hr>\n",
    "<h3>Analyst: Jessie O. Mompero Jr</h3>"
   ]
  },
  {
   "cell_type": "code",
   "execution_count": 1,
   "id": "7ae2b28a-b1e6-495f-ae11-8c429fa32d48",
   "metadata": {},
   "outputs": [],
   "source": [
    "import pandas as pd\n",
    "import numpy as np\n",
    "import matplotlib.pyplot as plt\n",
    "import warnings\n",
    "warnings.filterwarnings('ignore')\n",
    "from scipy.stats import f_oneway"
   ]
  },
  {
   "cell_type": "markdown",
   "id": "cf59d3ff-3bb4-487c-bcd1-cebb8ee375df",
   "metadata": {},
   "source": [
    "<h2>DATABASE</h2>"
   ]
  },
  {
   "cell_type": "code",
   "execution_count": 2,
   "id": "ef4a2f26-0cb0-4eb2-a8b6-a3615412aa13",
   "metadata": {},
   "outputs": [],
   "source": [
    "accident_df = pd.read_csv('datasets\\\\uk_road_accident.csv')"
   ]
  },
  {
   "cell_type": "code",
   "execution_count": 3,
   "id": "ba6e1454-0598-4431-8bec-3f618d3cc3a5",
   "metadata": {},
   "outputs": [
    {
     "data": {
      "text/html": [
       "<div>\n",
       "<style scoped>\n",
       "    .dataframe tbody tr th:only-of-type {\n",
       "        vertical-align: middle;\n",
       "    }\n",
       "\n",
       "    .dataframe tbody tr th {\n",
       "        vertical-align: top;\n",
       "    }\n",
       "\n",
       "    .dataframe thead th {\n",
       "        text-align: right;\n",
       "    }\n",
       "</style>\n",
       "<table border=\"1\" class=\"dataframe\">\n",
       "  <thead>\n",
       "    <tr style=\"text-align: right;\">\n",
       "      <th></th>\n",
       "      <th>Index</th>\n",
       "      <th>Accident_Severity</th>\n",
       "      <th>Accident Date</th>\n",
       "      <th>Latitude</th>\n",
       "      <th>Light_Conditions</th>\n",
       "      <th>District Area</th>\n",
       "      <th>Longitude</th>\n",
       "      <th>Number_of_Casualties</th>\n",
       "      <th>Number_of_Vehicles</th>\n",
       "      <th>Road_Surface_Conditions</th>\n",
       "      <th>Road_Type</th>\n",
       "      <th>Urban_or_Rural_Area</th>\n",
       "      <th>Weather_Conditions</th>\n",
       "      <th>Vehicle_Type</th>\n",
       "    </tr>\n",
       "  </thead>\n",
       "  <tbody>\n",
       "    <tr>\n",
       "      <th>0</th>\n",
       "      <td>200701BS64157</td>\n",
       "      <td>Serious</td>\n",
       "      <td>5/6/2019</td>\n",
       "      <td>51.506187</td>\n",
       "      <td>Darkness - lights lit</td>\n",
       "      <td>Kensington and Chelsea</td>\n",
       "      <td>-0.209082</td>\n",
       "      <td>1</td>\n",
       "      <td>2</td>\n",
       "      <td>Dry</td>\n",
       "      <td>Single carriageway</td>\n",
       "      <td>Urban</td>\n",
       "      <td>Fine no high winds</td>\n",
       "      <td>Car</td>\n",
       "    </tr>\n",
       "    <tr>\n",
       "      <th>1</th>\n",
       "      <td>200701BS65737</td>\n",
       "      <td>Serious</td>\n",
       "      <td>2/7/2019</td>\n",
       "      <td>51.495029</td>\n",
       "      <td>Daylight</td>\n",
       "      <td>Kensington and Chelsea</td>\n",
       "      <td>-0.173647</td>\n",
       "      <td>1</td>\n",
       "      <td>2</td>\n",
       "      <td>Wet or damp</td>\n",
       "      <td>Single carriageway</td>\n",
       "      <td>Urban</td>\n",
       "      <td>Raining no high winds</td>\n",
       "      <td>Car</td>\n",
       "    </tr>\n",
       "    <tr>\n",
       "      <th>2</th>\n",
       "      <td>200701BS66127</td>\n",
       "      <td>Serious</td>\n",
       "      <td>26-08-2019</td>\n",
       "      <td>51.517715</td>\n",
       "      <td>Darkness - lighting unknown</td>\n",
       "      <td>Kensington and Chelsea</td>\n",
       "      <td>-0.210215</td>\n",
       "      <td>1</td>\n",
       "      <td>3</td>\n",
       "      <td>Dry</td>\n",
       "      <td>NaN</td>\n",
       "      <td>Urban</td>\n",
       "      <td>NaN</td>\n",
       "      <td>Taxi/Private hire car</td>\n",
       "    </tr>\n",
       "    <tr>\n",
       "      <th>3</th>\n",
       "      <td>200701BS66128</td>\n",
       "      <td>Serious</td>\n",
       "      <td>16-08-2019</td>\n",
       "      <td>51.495478</td>\n",
       "      <td>Daylight</td>\n",
       "      <td>Kensington and Chelsea</td>\n",
       "      <td>-0.202731</td>\n",
       "      <td>1</td>\n",
       "      <td>4</td>\n",
       "      <td>Dry</td>\n",
       "      <td>Single carriageway</td>\n",
       "      <td>Urban</td>\n",
       "      <td>Fine no high winds</td>\n",
       "      <td>Bus or coach (17 or more pass seats)</td>\n",
       "    </tr>\n",
       "    <tr>\n",
       "      <th>4</th>\n",
       "      <td>200701BS66837</td>\n",
       "      <td>Slight</td>\n",
       "      <td>3/9/2019</td>\n",
       "      <td>51.488576</td>\n",
       "      <td>Darkness - lights lit</td>\n",
       "      <td>Kensington and Chelsea</td>\n",
       "      <td>-0.192487</td>\n",
       "      <td>1</td>\n",
       "      <td>2</td>\n",
       "      <td>Dry</td>\n",
       "      <td>NaN</td>\n",
       "      <td>Urban</td>\n",
       "      <td>NaN</td>\n",
       "      <td>Other vehicle</td>\n",
       "    </tr>\n",
       "    <tr>\n",
       "      <th>...</th>\n",
       "      <td>...</td>\n",
       "      <td>...</td>\n",
       "      <td>...</td>\n",
       "      <td>...</td>\n",
       "      <td>...</td>\n",
       "      <td>...</td>\n",
       "      <td>...</td>\n",
       "      <td>...</td>\n",
       "      <td>...</td>\n",
       "      <td>...</td>\n",
       "      <td>...</td>\n",
       "      <td>...</td>\n",
       "      <td>...</td>\n",
       "      <td>...</td>\n",
       "    </tr>\n",
       "    <tr>\n",
       "      <th>660674</th>\n",
       "      <td>201091NM01760</td>\n",
       "      <td>Slight</td>\n",
       "      <td>18-02-2022</td>\n",
       "      <td>57.374005</td>\n",
       "      <td>Daylight</td>\n",
       "      <td>Highland</td>\n",
       "      <td>-3.467828</td>\n",
       "      <td>2</td>\n",
       "      <td>1</td>\n",
       "      <td>Dry</td>\n",
       "      <td>Single carriageway</td>\n",
       "      <td>Rural</td>\n",
       "      <td>Fine no high winds</td>\n",
       "      <td>Car</td>\n",
       "    </tr>\n",
       "    <tr>\n",
       "      <th>660675</th>\n",
       "      <td>201091NM01881</td>\n",
       "      <td>Slight</td>\n",
       "      <td>21-02-2022</td>\n",
       "      <td>57.232273</td>\n",
       "      <td>Darkness - no lighting</td>\n",
       "      <td>Highland</td>\n",
       "      <td>-3.809281</td>\n",
       "      <td>1</td>\n",
       "      <td>1</td>\n",
       "      <td>Frost or ice</td>\n",
       "      <td>Single carriageway</td>\n",
       "      <td>Rural</td>\n",
       "      <td>Fine no high winds</td>\n",
       "      <td>Car</td>\n",
       "    </tr>\n",
       "    <tr>\n",
       "      <th>660676</th>\n",
       "      <td>201091NM01935</td>\n",
       "      <td>Slight</td>\n",
       "      <td>23-02-2022</td>\n",
       "      <td>57.585044</td>\n",
       "      <td>Daylight</td>\n",
       "      <td>Highland</td>\n",
       "      <td>-3.862727</td>\n",
       "      <td>1</td>\n",
       "      <td>3</td>\n",
       "      <td>Frost or ice</td>\n",
       "      <td>Single carriageway</td>\n",
       "      <td>Rural</td>\n",
       "      <td>Fine no high winds</td>\n",
       "      <td>Car</td>\n",
       "    </tr>\n",
       "    <tr>\n",
       "      <th>660677</th>\n",
       "      <td>201091NM01964</td>\n",
       "      <td>Serious</td>\n",
       "      <td>23-02-2022</td>\n",
       "      <td>57.214898</td>\n",
       "      <td>Darkness - no lighting</td>\n",
       "      <td>Highland</td>\n",
       "      <td>-3.823997</td>\n",
       "      <td>1</td>\n",
       "      <td>2</td>\n",
       "      <td>Wet or damp</td>\n",
       "      <td>Single carriageway</td>\n",
       "      <td>Rural</td>\n",
       "      <td>Fine no high winds</td>\n",
       "      <td>Motorcycle over 500cc</td>\n",
       "    </tr>\n",
       "    <tr>\n",
       "      <th>660678</th>\n",
       "      <td>201091NM02142</td>\n",
       "      <td>Serious</td>\n",
       "      <td>28-02-2022</td>\n",
       "      <td>57.575210</td>\n",
       "      <td>Daylight</td>\n",
       "      <td>Highland</td>\n",
       "      <td>-3.895673</td>\n",
       "      <td>1</td>\n",
       "      <td>1</td>\n",
       "      <td>Wet or damp</td>\n",
       "      <td>Dual carriageway</td>\n",
       "      <td>Rural</td>\n",
       "      <td>Snowing no high winds</td>\n",
       "      <td>Car</td>\n",
       "    </tr>\n",
       "  </tbody>\n",
       "</table>\n",
       "<p>660679 rows × 14 columns</p>\n",
       "</div>"
      ],
      "text/plain": [
       "                Index Accident_Severity Accident Date   Latitude  \\\n",
       "0       200701BS64157           Serious      5/6/2019  51.506187   \n",
       "1       200701BS65737           Serious      2/7/2019  51.495029   \n",
       "2       200701BS66127           Serious    26-08-2019  51.517715   \n",
       "3       200701BS66128           Serious    16-08-2019  51.495478   \n",
       "4       200701BS66837            Slight      3/9/2019  51.488576   \n",
       "...               ...               ...           ...        ...   \n",
       "660674  201091NM01760            Slight    18-02-2022  57.374005   \n",
       "660675  201091NM01881            Slight    21-02-2022  57.232273   \n",
       "660676  201091NM01935            Slight    23-02-2022  57.585044   \n",
       "660677  201091NM01964           Serious    23-02-2022  57.214898   \n",
       "660678  201091NM02142           Serious    28-02-2022  57.575210   \n",
       "\n",
       "                   Light_Conditions           District Area  Longitude  \\\n",
       "0             Darkness - lights lit  Kensington and Chelsea  -0.209082   \n",
       "1                          Daylight  Kensington and Chelsea  -0.173647   \n",
       "2       Darkness - lighting unknown  Kensington and Chelsea  -0.210215   \n",
       "3                          Daylight  Kensington and Chelsea  -0.202731   \n",
       "4             Darkness - lights lit  Kensington and Chelsea  -0.192487   \n",
       "...                             ...                     ...        ...   \n",
       "660674                     Daylight                Highland  -3.467828   \n",
       "660675       Darkness - no lighting                Highland  -3.809281   \n",
       "660676                     Daylight                Highland  -3.862727   \n",
       "660677       Darkness - no lighting                Highland  -3.823997   \n",
       "660678                     Daylight                Highland  -3.895673   \n",
       "\n",
       "        Number_of_Casualties  Number_of_Vehicles Road_Surface_Conditions  \\\n",
       "0                          1                   2                     Dry   \n",
       "1                          1                   2             Wet or damp   \n",
       "2                          1                   3                     Dry   \n",
       "3                          1                   4                     Dry   \n",
       "4                          1                   2                     Dry   \n",
       "...                      ...                 ...                     ...   \n",
       "660674                     2                   1                     Dry   \n",
       "660675                     1                   1            Frost or ice   \n",
       "660676                     1                   3            Frost or ice   \n",
       "660677                     1                   2             Wet or damp   \n",
       "660678                     1                   1             Wet or damp   \n",
       "\n",
       "                 Road_Type Urban_or_Rural_Area     Weather_Conditions  \\\n",
       "0       Single carriageway               Urban     Fine no high winds   \n",
       "1       Single carriageway               Urban  Raining no high winds   \n",
       "2                      NaN               Urban                    NaN   \n",
       "3       Single carriageway               Urban     Fine no high winds   \n",
       "4                      NaN               Urban                    NaN   \n",
       "...                    ...                 ...                    ...   \n",
       "660674  Single carriageway               Rural     Fine no high winds   \n",
       "660675  Single carriageway               Rural     Fine no high winds   \n",
       "660676  Single carriageway               Rural     Fine no high winds   \n",
       "660677  Single carriageway               Rural     Fine no high winds   \n",
       "660678    Dual carriageway               Rural  Snowing no high winds   \n",
       "\n",
       "                                Vehicle_Type  \n",
       "0                                        Car  \n",
       "1                                        Car  \n",
       "2                      Taxi/Private hire car  \n",
       "3       Bus or coach (17 or more pass seats)  \n",
       "4                              Other vehicle  \n",
       "...                                      ...  \n",
       "660674                                   Car  \n",
       "660675                                   Car  \n",
       "660676                                   Car  \n",
       "660677                 Motorcycle over 500cc  \n",
       "660678                                   Car  \n",
       "\n",
       "[660679 rows x 14 columns]"
      ]
     },
     "execution_count": 3,
     "metadata": {},
     "output_type": "execute_result"
    }
   ],
   "source": [
    "accident_df"
   ]
  },
  {
   "cell_type": "markdown",
   "id": "44945e27-2655-45fb-86eb-dd9ce327c396",
   "metadata": {},
   "source": [
    "<h2>FILLING NULL VALUES</h2>"
   ]
  },
  {
   "cell_type": "code",
   "execution_count": 4,
   "id": "175b2150-cef4-476e-86c0-9abde7daf130",
   "metadata": {},
   "outputs": [
    {
     "data": {
      "text/plain": [
       "Index                          0\n",
       "Accident_Severity              0\n",
       "Accident Date                  0\n",
       "Latitude                      25\n",
       "Light_Conditions               0\n",
       "District Area                  0\n",
       "Longitude                     26\n",
       "Number_of_Casualties           0\n",
       "Number_of_Vehicles             0\n",
       "Road_Surface_Conditions      726\n",
       "Road_Type                   4520\n",
       "Urban_or_Rural_Area           15\n",
       "Weather_Conditions         14128\n",
       "Vehicle_Type                   0\n",
       "dtype: int64"
      ]
     },
     "execution_count": 4,
     "metadata": {},
     "output_type": "execute_result"
    }
   ],
   "source": [
    "accident_df.isnull().sum()"
   ]
  },
  {
   "cell_type": "code",
   "execution_count": 5,
   "id": "b25d9816-5b04-4572-acd4-57f37474f30f",
   "metadata": {},
   "outputs": [
    {
     "data": {
      "text/plain": [
       "Index                      0\n",
       "Accident_Severity          0\n",
       "Accident Date              0\n",
       "Latitude                   0\n",
       "Light_Conditions           0\n",
       "District Area              0\n",
       "Longitude                  0\n",
       "Number_of_Casualties       0\n",
       "Number_of_Vehicles         0\n",
       "Road_Surface_Conditions    0\n",
       "Road_Type                  0\n",
       "Urban_or_Rural_Area        0\n",
       "Weather_Conditions         0\n",
       "Vehicle_Type               0\n",
       "dtype: int64"
      ]
     },
     "execution_count": 5,
     "metadata": {},
     "output_type": "execute_result"
    }
   ],
   "source": [
    "accident_df['Latitude'] = accident_df['Latitude'].fillna(accident_df['Latitude'].mean())\n",
    "accident_df['Longitude'] = accident_df['Longitude'].fillna(accident_df['Longitude'].mean())\n",
    "accident_df['Road_Surface_Conditions'] = accident_df['Road_Surface_Conditions'].fillna('unaccounted')\n",
    "accident_df['Road_Type'] = accident_df['Road_Type'].fillna('unaccounted')\n",
    "accident_df['Urban_or_Rural_Area'] = accident_df['Urban_or_Rural_Area'].fillna(accident_df['Urban_or_Rural_Area'].mode()[0])\n",
    "accident_df['Weather_Conditions'] = accident_df['Weather_Conditions'].fillna('unaccounted')\n",
    "accident_df.isnull().sum()"
   ]
  },
  {
   "cell_type": "markdown",
   "id": "d8351610-34c2-4278-978d-ff9dad22dfa9",
   "metadata": {},
   "source": [
    "<h2>CORRECTING DATA TYPES</h2>"
   ]
  },
  {
   "cell_type": "code",
   "execution_count": 6,
   "id": "5febed6e-a1ba-420b-bf52-be926ff2599c",
   "metadata": {},
   "outputs": [
    {
     "name": "stdout",
     "output_type": "stream",
     "text": [
      "<class 'pandas.core.frame.DataFrame'>\n",
      "RangeIndex: 660679 entries, 0 to 660678\n",
      "Data columns (total 14 columns):\n",
      " #   Column                   Non-Null Count   Dtype  \n",
      "---  ------                   --------------   -----  \n",
      " 0   Index                    660679 non-null  object \n",
      " 1   Accident_Severity        660679 non-null  object \n",
      " 2   Accident Date            660679 non-null  object \n",
      " 3   Latitude                 660679 non-null  float64\n",
      " 4   Light_Conditions         660679 non-null  object \n",
      " 5   District Area            660679 non-null  object \n",
      " 6   Longitude                660679 non-null  float64\n",
      " 7   Number_of_Casualties     660679 non-null  int64  \n",
      " 8   Number_of_Vehicles       660679 non-null  int64  \n",
      " 9   Road_Surface_Conditions  660679 non-null  object \n",
      " 10  Road_Type                660679 non-null  object \n",
      " 11  Urban_or_Rural_Area      660679 non-null  object \n",
      " 12  Weather_Conditions       660679 non-null  object \n",
      " 13  Vehicle_Type             660679 non-null  object \n",
      "dtypes: float64(2), int64(2), object(10)\n",
      "memory usage: 70.6+ MB\n"
     ]
    }
   ],
   "source": [
    "accident_df.info()"
   ]
  },
  {
   "cell_type": "code",
   "execution_count": 7,
   "id": "9a5bce38-ffcc-4d67-bd94-2f7af9b79be3",
   "metadata": {},
   "outputs": [],
   "source": [
    "accident_df['Index'] = accident_df['Index'].astype('category')\n",
    "accident_df['Accident_Severity'] = accident_df['Accident_Severity'].astype('category')\n",
    "accident_df['Latitude'] = accident_df['Latitude'].astype('category')\n",
    "accident_df['Light_Conditions'] = accident_df['Light_Conditions'].astype('category')\n",
    "accident_df['District Area'] = accident_df['District Area'].astype('category')\n",
    "accident_df['Road_Surface_Conditions'] = accident_df['Road_Surface_Conditions'].astype('category')\n",
    "accident_df['Road_Type'] = accident_df['Road_Type'].astype('category')\n",
    "accident_df['Urban_or_Rural_Area'] = accident_df['Urban_or_Rural_Area'].astype('category')\n",
    "accident_df['Weather_Conditions'] = accident_df['Weather_Conditions'].astype('category')\n",
    "accident_df['Vehicle_Type'] = accident_df['Vehicle_Type'].astype('category')"
   ]
  },
  {
   "cell_type": "markdown",
   "id": "d5f8f7f9-0089-45c9-95b9-ca71b8392806",
   "metadata": {},
   "source": [
    "<h1>CLEARING INCONSISTENCIES WITH THE DATA SET</h1>"
   ]
  },
  {
   "cell_type": "code",
   "execution_count": 8,
   "id": "e9c2516f-7f04-4660-8085-2b02e08e44ec",
   "metadata": {},
   "outputs": [],
   "source": [
    "accident_df['Accident Date'] = accident_df['Accident Date'].str.strip()\n",
    "accident_df['Accident Date'] = accident_df['Accident Date'].astype('str')\n",
    "accident_df['Accident Date'] = accident_df['Accident Date'].str.replace('/', '-')"
   ]
  },
  {
   "cell_type": "code",
   "execution_count": 9,
   "id": "200db408-5507-4840-af71-971a9b5d6fbb",
   "metadata": {},
   "outputs": [
    {
     "name": "stdout",
     "output_type": "stream",
     "text": [
      "<class 'pandas.core.frame.DataFrame'>\n",
      "RangeIndex: 660679 entries, 0 to 660678\n",
      "Data columns (total 14 columns):\n",
      " #   Column                   Non-Null Count   Dtype         \n",
      "---  ------                   --------------   -----         \n",
      " 0   Index                    660679 non-null  category      \n",
      " 1   Accident_Severity        660679 non-null  category      \n",
      " 2   Accident Date            660679 non-null  datetime64[ns]\n",
      " 3   Latitude                 660679 non-null  category      \n",
      " 4   Light_Conditions         660679 non-null  category      \n",
      " 5   District Area            660679 non-null  category      \n",
      " 6   Longitude                660679 non-null  float64       \n",
      " 7   Number_of_Casualties     660679 non-null  int64         \n",
      " 8   Number_of_Vehicles       660679 non-null  int64         \n",
      " 9   Road_Surface_Conditions  660679 non-null  category      \n",
      " 10  Road_Type                660679 non-null  category      \n",
      " 11  Urban_or_Rural_Area      660679 non-null  category      \n",
      " 12  Weather_Conditions       660679 non-null  category      \n",
      " 13  Vehicle_Type             660679 non-null  category      \n",
      "dtypes: category(10), datetime64[ns](1), float64(1), int64(2)\n",
      "memory usage: 70.3 MB\n"
     ]
    }
   ],
   "source": [
    "accident_df['Accident Date'] = pd.to_datetime(accident_df['Accident Date'], dayfirst=True, errors = 'coerce')\n",
    "accident_df.info()"
   ]
  },
  {
   "cell_type": "markdown",
   "id": "79b1702f-e62f-4217-99db-33800efb9ad6",
   "metadata": {},
   "source": [
    "<h1>EXTRACTING DATE INFORMATION USING PADAS DATE TIME</h1>"
   ]
  },
  {
   "cell_type": "code",
   "execution_count": 10,
   "id": "3846372f-62fb-485b-947b-e824bd3f2e7c",
   "metadata": {},
   "outputs": [],
   "source": [
    "accident_df['Year'] = accident_df['Accident Date'].dt.year\n",
    "accident_df['Month'] = accident_df['Accident Date'].dt.month\n",
    "accident_df['Day'] = accident_df['Accident Date'].dt.day\n",
    "accident_df['DayOfWeek'] = accident_df['Accident Date'].dt.dayofweek # Monda=0, Sunday"
   ]
  },
  {
   "cell_type": "code",
   "execution_count": 11,
   "id": "6e647649-b123-4811-a299-da20f311e7b2",
   "metadata": {},
   "outputs": [
    {
     "data": {
      "text/plain": [
       "Index                      0\n",
       "Accident_Severity          0\n",
       "Accident Date              0\n",
       "Latitude                   0\n",
       "Light_Conditions           0\n",
       "District Area              0\n",
       "Longitude                  0\n",
       "Number_of_Casualties       0\n",
       "Number_of_Vehicles         0\n",
       "Road_Surface_Conditions    0\n",
       "Road_Type                  0\n",
       "Urban_or_Rural_Area        0\n",
       "Weather_Conditions         0\n",
       "Vehicle_Type               0\n",
       "Year                       0\n",
       "Month                      0\n",
       "Day                        0\n",
       "DayOfWeek                  0\n",
       "dtype: int64"
      ]
     },
     "execution_count": 11,
     "metadata": {},
     "output_type": "execute_result"
    }
   ],
   "source": [
    "accident_df.isnull().sum()"
   ]
  },
  {
   "cell_type": "code",
   "execution_count": 12,
   "id": "8704b817-eb00-47c1-a8ba-218f831261cc",
   "metadata": {},
   "outputs": [
    {
     "data": {
      "text/html": [
       "<div>\n",
       "<style scoped>\n",
       "    .dataframe tbody tr th:only-of-type {\n",
       "        vertical-align: middle;\n",
       "    }\n",
       "\n",
       "    .dataframe tbody tr th {\n",
       "        vertical-align: top;\n",
       "    }\n",
       "\n",
       "    .dataframe thead th {\n",
       "        text-align: right;\n",
       "    }\n",
       "</style>\n",
       "<table border=\"1\" class=\"dataframe\">\n",
       "  <thead>\n",
       "    <tr style=\"text-align: right;\">\n",
       "      <th></th>\n",
       "      <th>Index</th>\n",
       "      <th>Accident_Severity</th>\n",
       "      <th>Accident Date</th>\n",
       "      <th>Latitude</th>\n",
       "      <th>Light_Conditions</th>\n",
       "      <th>District Area</th>\n",
       "      <th>Longitude</th>\n",
       "      <th>Number_of_Casualties</th>\n",
       "      <th>Number_of_Vehicles</th>\n",
       "      <th>Road_Surface_Conditions</th>\n",
       "      <th>Road_Type</th>\n",
       "      <th>Urban_or_Rural_Area</th>\n",
       "      <th>Weather_Conditions</th>\n",
       "      <th>Vehicle_Type</th>\n",
       "      <th>Year</th>\n",
       "      <th>Month</th>\n",
       "      <th>Day</th>\n",
       "      <th>DayOfWeek</th>\n",
       "    </tr>\n",
       "  </thead>\n",
       "  <tbody>\n",
       "    <tr>\n",
       "      <th>0</th>\n",
       "      <td>200701BS64157</td>\n",
       "      <td>Serious</td>\n",
       "      <td>2019-06-05</td>\n",
       "      <td>51.506187</td>\n",
       "      <td>Darkness - lights lit</td>\n",
       "      <td>Kensington and Chelsea</td>\n",
       "      <td>-0.209082</td>\n",
       "      <td>1</td>\n",
       "      <td>2</td>\n",
       "      <td>Dry</td>\n",
       "      <td>Single carriageway</td>\n",
       "      <td>Urban</td>\n",
       "      <td>Fine no high winds</td>\n",
       "      <td>Car</td>\n",
       "      <td>2019</td>\n",
       "      <td>6</td>\n",
       "      <td>5</td>\n",
       "      <td>2</td>\n",
       "    </tr>\n",
       "    <tr>\n",
       "      <th>1</th>\n",
       "      <td>200701BS65737</td>\n",
       "      <td>Serious</td>\n",
       "      <td>2019-07-02</td>\n",
       "      <td>51.495029</td>\n",
       "      <td>Daylight</td>\n",
       "      <td>Kensington and Chelsea</td>\n",
       "      <td>-0.173647</td>\n",
       "      <td>1</td>\n",
       "      <td>2</td>\n",
       "      <td>Wet or damp</td>\n",
       "      <td>Single carriageway</td>\n",
       "      <td>Urban</td>\n",
       "      <td>Raining no high winds</td>\n",
       "      <td>Car</td>\n",
       "      <td>2019</td>\n",
       "      <td>7</td>\n",
       "      <td>2</td>\n",
       "      <td>1</td>\n",
       "    </tr>\n",
       "    <tr>\n",
       "      <th>2</th>\n",
       "      <td>200701BS66127</td>\n",
       "      <td>Serious</td>\n",
       "      <td>2019-08-26</td>\n",
       "      <td>51.517715</td>\n",
       "      <td>Darkness - lighting unknown</td>\n",
       "      <td>Kensington and Chelsea</td>\n",
       "      <td>-0.210215</td>\n",
       "      <td>1</td>\n",
       "      <td>3</td>\n",
       "      <td>Dry</td>\n",
       "      <td>unaccounted</td>\n",
       "      <td>Urban</td>\n",
       "      <td>unaccounted</td>\n",
       "      <td>Taxi/Private hire car</td>\n",
       "      <td>2019</td>\n",
       "      <td>8</td>\n",
       "      <td>26</td>\n",
       "      <td>0</td>\n",
       "    </tr>\n",
       "    <tr>\n",
       "      <th>3</th>\n",
       "      <td>200701BS66128</td>\n",
       "      <td>Serious</td>\n",
       "      <td>2019-08-16</td>\n",
       "      <td>51.495478</td>\n",
       "      <td>Daylight</td>\n",
       "      <td>Kensington and Chelsea</td>\n",
       "      <td>-0.202731</td>\n",
       "      <td>1</td>\n",
       "      <td>4</td>\n",
       "      <td>Dry</td>\n",
       "      <td>Single carriageway</td>\n",
       "      <td>Urban</td>\n",
       "      <td>Fine no high winds</td>\n",
       "      <td>Bus or coach (17 or more pass seats)</td>\n",
       "      <td>2019</td>\n",
       "      <td>8</td>\n",
       "      <td>16</td>\n",
       "      <td>4</td>\n",
       "    </tr>\n",
       "    <tr>\n",
       "      <th>4</th>\n",
       "      <td>200701BS66837</td>\n",
       "      <td>Slight</td>\n",
       "      <td>2019-09-03</td>\n",
       "      <td>51.488576</td>\n",
       "      <td>Darkness - lights lit</td>\n",
       "      <td>Kensington and Chelsea</td>\n",
       "      <td>-0.192487</td>\n",
       "      <td>1</td>\n",
       "      <td>2</td>\n",
       "      <td>Dry</td>\n",
       "      <td>unaccounted</td>\n",
       "      <td>Urban</td>\n",
       "      <td>unaccounted</td>\n",
       "      <td>Other vehicle</td>\n",
       "      <td>2019</td>\n",
       "      <td>9</td>\n",
       "      <td>3</td>\n",
       "      <td>1</td>\n",
       "    </tr>\n",
       "    <tr>\n",
       "      <th>...</th>\n",
       "      <td>...</td>\n",
       "      <td>...</td>\n",
       "      <td>...</td>\n",
       "      <td>...</td>\n",
       "      <td>...</td>\n",
       "      <td>...</td>\n",
       "      <td>...</td>\n",
       "      <td>...</td>\n",
       "      <td>...</td>\n",
       "      <td>...</td>\n",
       "      <td>...</td>\n",
       "      <td>...</td>\n",
       "      <td>...</td>\n",
       "      <td>...</td>\n",
       "      <td>...</td>\n",
       "      <td>...</td>\n",
       "      <td>...</td>\n",
       "      <td>...</td>\n",
       "    </tr>\n",
       "    <tr>\n",
       "      <th>660674</th>\n",
       "      <td>201091NM01760</td>\n",
       "      <td>Slight</td>\n",
       "      <td>2022-02-18</td>\n",
       "      <td>57.374005</td>\n",
       "      <td>Daylight</td>\n",
       "      <td>Highland</td>\n",
       "      <td>-3.467828</td>\n",
       "      <td>2</td>\n",
       "      <td>1</td>\n",
       "      <td>Dry</td>\n",
       "      <td>Single carriageway</td>\n",
       "      <td>Rural</td>\n",
       "      <td>Fine no high winds</td>\n",
       "      <td>Car</td>\n",
       "      <td>2022</td>\n",
       "      <td>2</td>\n",
       "      <td>18</td>\n",
       "      <td>4</td>\n",
       "    </tr>\n",
       "    <tr>\n",
       "      <th>660675</th>\n",
       "      <td>201091NM01881</td>\n",
       "      <td>Slight</td>\n",
       "      <td>2022-02-21</td>\n",
       "      <td>57.232273</td>\n",
       "      <td>Darkness - no lighting</td>\n",
       "      <td>Highland</td>\n",
       "      <td>-3.809281</td>\n",
       "      <td>1</td>\n",
       "      <td>1</td>\n",
       "      <td>Frost or ice</td>\n",
       "      <td>Single carriageway</td>\n",
       "      <td>Rural</td>\n",
       "      <td>Fine no high winds</td>\n",
       "      <td>Car</td>\n",
       "      <td>2022</td>\n",
       "      <td>2</td>\n",
       "      <td>21</td>\n",
       "      <td>0</td>\n",
       "    </tr>\n",
       "    <tr>\n",
       "      <th>660676</th>\n",
       "      <td>201091NM01935</td>\n",
       "      <td>Slight</td>\n",
       "      <td>2022-02-23</td>\n",
       "      <td>57.585044</td>\n",
       "      <td>Daylight</td>\n",
       "      <td>Highland</td>\n",
       "      <td>-3.862727</td>\n",
       "      <td>1</td>\n",
       "      <td>3</td>\n",
       "      <td>Frost or ice</td>\n",
       "      <td>Single carriageway</td>\n",
       "      <td>Rural</td>\n",
       "      <td>Fine no high winds</td>\n",
       "      <td>Car</td>\n",
       "      <td>2022</td>\n",
       "      <td>2</td>\n",
       "      <td>23</td>\n",
       "      <td>2</td>\n",
       "    </tr>\n",
       "    <tr>\n",
       "      <th>660677</th>\n",
       "      <td>201091NM01964</td>\n",
       "      <td>Serious</td>\n",
       "      <td>2022-02-23</td>\n",
       "      <td>57.214898</td>\n",
       "      <td>Darkness - no lighting</td>\n",
       "      <td>Highland</td>\n",
       "      <td>-3.823997</td>\n",
       "      <td>1</td>\n",
       "      <td>2</td>\n",
       "      <td>Wet or damp</td>\n",
       "      <td>Single carriageway</td>\n",
       "      <td>Rural</td>\n",
       "      <td>Fine no high winds</td>\n",
       "      <td>Motorcycle over 500cc</td>\n",
       "      <td>2022</td>\n",
       "      <td>2</td>\n",
       "      <td>23</td>\n",
       "      <td>2</td>\n",
       "    </tr>\n",
       "    <tr>\n",
       "      <th>660678</th>\n",
       "      <td>201091NM02142</td>\n",
       "      <td>Serious</td>\n",
       "      <td>2022-02-28</td>\n",
       "      <td>57.575210</td>\n",
       "      <td>Daylight</td>\n",
       "      <td>Highland</td>\n",
       "      <td>-3.895673</td>\n",
       "      <td>1</td>\n",
       "      <td>1</td>\n",
       "      <td>Wet or damp</td>\n",
       "      <td>Dual carriageway</td>\n",
       "      <td>Rural</td>\n",
       "      <td>Snowing no high winds</td>\n",
       "      <td>Car</td>\n",
       "      <td>2022</td>\n",
       "      <td>2</td>\n",
       "      <td>28</td>\n",
       "      <td>0</td>\n",
       "    </tr>\n",
       "  </tbody>\n",
       "</table>\n",
       "<p>660679 rows × 18 columns</p>\n",
       "</div>"
      ],
      "text/plain": [
       "                Index Accident_Severity Accident Date   Latitude  \\\n",
       "0       200701BS64157           Serious    2019-06-05  51.506187   \n",
       "1       200701BS65737           Serious    2019-07-02  51.495029   \n",
       "2       200701BS66127           Serious    2019-08-26  51.517715   \n",
       "3       200701BS66128           Serious    2019-08-16  51.495478   \n",
       "4       200701BS66837            Slight    2019-09-03  51.488576   \n",
       "...               ...               ...           ...        ...   \n",
       "660674  201091NM01760            Slight    2022-02-18  57.374005   \n",
       "660675  201091NM01881            Slight    2022-02-21  57.232273   \n",
       "660676  201091NM01935            Slight    2022-02-23  57.585044   \n",
       "660677  201091NM01964           Serious    2022-02-23  57.214898   \n",
       "660678  201091NM02142           Serious    2022-02-28  57.575210   \n",
       "\n",
       "                   Light_Conditions           District Area  Longitude  \\\n",
       "0             Darkness - lights lit  Kensington and Chelsea  -0.209082   \n",
       "1                          Daylight  Kensington and Chelsea  -0.173647   \n",
       "2       Darkness - lighting unknown  Kensington and Chelsea  -0.210215   \n",
       "3                          Daylight  Kensington and Chelsea  -0.202731   \n",
       "4             Darkness - lights lit  Kensington and Chelsea  -0.192487   \n",
       "...                             ...                     ...        ...   \n",
       "660674                     Daylight                Highland  -3.467828   \n",
       "660675       Darkness - no lighting                Highland  -3.809281   \n",
       "660676                     Daylight                Highland  -3.862727   \n",
       "660677       Darkness - no lighting                Highland  -3.823997   \n",
       "660678                     Daylight                Highland  -3.895673   \n",
       "\n",
       "        Number_of_Casualties  Number_of_Vehicles Road_Surface_Conditions  \\\n",
       "0                          1                   2                     Dry   \n",
       "1                          1                   2             Wet or damp   \n",
       "2                          1                   3                     Dry   \n",
       "3                          1                   4                     Dry   \n",
       "4                          1                   2                     Dry   \n",
       "...                      ...                 ...                     ...   \n",
       "660674                     2                   1                     Dry   \n",
       "660675                     1                   1            Frost or ice   \n",
       "660676                     1                   3            Frost or ice   \n",
       "660677                     1                   2             Wet or damp   \n",
       "660678                     1                   1             Wet or damp   \n",
       "\n",
       "                 Road_Type Urban_or_Rural_Area     Weather_Conditions  \\\n",
       "0       Single carriageway               Urban     Fine no high winds   \n",
       "1       Single carriageway               Urban  Raining no high winds   \n",
       "2              unaccounted               Urban            unaccounted   \n",
       "3       Single carriageway               Urban     Fine no high winds   \n",
       "4              unaccounted               Urban            unaccounted   \n",
       "...                    ...                 ...                    ...   \n",
       "660674  Single carriageway               Rural     Fine no high winds   \n",
       "660675  Single carriageway               Rural     Fine no high winds   \n",
       "660676  Single carriageway               Rural     Fine no high winds   \n",
       "660677  Single carriageway               Rural     Fine no high winds   \n",
       "660678    Dual carriageway               Rural  Snowing no high winds   \n",
       "\n",
       "                                Vehicle_Type  Year  Month  Day  DayOfWeek  \n",
       "0                                        Car  2019      6    5          2  \n",
       "1                                        Car  2019      7    2          1  \n",
       "2                      Taxi/Private hire car  2019      8   26          0  \n",
       "3       Bus or coach (17 or more pass seats)  2019      8   16          4  \n",
       "4                              Other vehicle  2019      9    3          1  \n",
       "...                                      ...   ...    ...  ...        ...  \n",
       "660674                                   Car  2022      2   18          4  \n",
       "660675                                   Car  2022      2   21          0  \n",
       "660676                                   Car  2022      2   23          2  \n",
       "660677                 Motorcycle over 500cc  2022      2   23          2  \n",
       "660678                                   Car  2022      2   28          0  \n",
       "\n",
       "[660679 rows x 18 columns]"
      ]
     },
     "execution_count": 12,
     "metadata": {},
     "output_type": "execute_result"
    }
   ],
   "source": [
    "accident_df"
   ]
  },
  {
   "cell_type": "markdown",
   "id": "ad30bab2-e427-41b2-9f4a-1c5ee66ce69f",
   "metadata": {},
   "source": [
    "<h5>UniVariate</h5>\n",
    "<h5>BiVariate</h5>\n",
    "<h5>MultiVariate</h5>"
   ]
  },
  {
   "cell_type": "markdown",
   "id": "9a835cb9-f880-4b33-9525-7ac822dfb7ad",
   "metadata": {},
   "source": [
    "<h1>1. What district area has the most accident when the road condition and weather condition is involved from the year 2020?</h1>"
   ]
  },
  {
   "cell_type": "code",
   "execution_count": 13,
   "id": "e86ebfe2-cb65-4d7e-ac6b-a53f270b84df",
   "metadata": {},
   "outputs": [
    {
     "data": {
      "text/plain": [
       "District Area  Road_Surface_Conditions  Weather_Conditions\n",
       "Birmingham     Dry                      Fine no high winds    2252\n",
       "Leeds          Dry                      Fine no high winds    1580\n",
       "Westminster    Dry                      Fine no high winds    1111\n",
       "Manchester     Dry                      Fine no high winds    1016\n",
       "Liverpool      Dry                      Fine no high winds     932\n",
       "Bradford       Dry                      Fine no high winds     931\n",
       "Glasgow City   Dry                      Fine no high winds     877\n",
       "Sheffield      Dry                      Fine no high winds     849\n",
       "Lambeth        Dry                      Fine no high winds     814\n",
       "Southwark      Dry                      Fine no high winds     807\n",
       "dtype: int64"
      ]
     },
     "execution_count": 13,
     "metadata": {},
     "output_type": "execute_result"
    }
   ],
   "source": [
    "year_2020 = accident_df[accident_df['Year'] == 2020]\n",
    "year_2020.groupby(['District Area', 'Road_Surface_Conditions', 'Weather_Conditions']).size().sort_values(ascending=False).head(10)"
   ]
  },
  {
   "cell_type": "code",
   "execution_count": 14,
   "id": "639a1794-926f-476d-a3e3-39222b981841",
   "metadata": {},
   "outputs": [
    {
     "name": "stdout",
     "output_type": "stream",
     "text": [
      "The total number of accident in year 2020 is  170591\n"
     ]
    },
    {
     "data": {
      "image/png": "[encoded data removed]",
      "text/plain": [
       "<Figure size 640x480 with 1 Axes>"
      ]
     },
     "metadata": {},
     "output_type": "display_data"
    }
   ],
   "source": [
    "print('The total number of accident in year 2020 is ', year_2020.groupby(['District Area', 'Road_Surface_Conditions', 'Weather_Conditions']).size().sum())\n",
    "year_2020.groupby(['District Area', 'Road_Surface_Conditions', 'Weather_Conditions']).size().sort_values(ascending=False).head(10).plot(kind='bar')\n",
    "plt.title('Top 10 District')\n",
    "plt.grid(alpha=0.5)\n",
    "plt.show()"
   ]
  },
  {
   "cell_type": "code",
   "execution_count": 15,
   "id": "17eed6ec-ee7d-4b18-88d6-607ab0f5a057",
   "metadata": {},
   "outputs": [
    {
     "data": {
      "text/plain": [
       "Road_Surface_Conditions\n",
       "Dry                     113506\n",
       "Wet or damp              52076\n",
       "Frost or ice              3870\n",
       "Snow                       598\n",
       "Flood over 3cm. deep       331\n",
       "unaccounted                210\n",
       "Name: count, dtype: int64"
      ]
     },
     "execution_count": 15,
     "metadata": {},
     "output_type": "execute_result"
    }
   ],
   "source": [
    "year_2020['Road_Surface_Conditions'].value_counts()"
   ]
  },
  {
   "cell_type": "code",
   "execution_count": 16,
   "id": "6ef20cee-f454-4a97-9bc0-2d9e5666aa0b",
   "metadata": {},
   "outputs": [
    {
     "data": {
      "text/plain": [
       "Weather_Conditions\n",
       "Fine no high winds       132513\n",
       "Raining no high winds     21984\n",
       "Other                      4265\n",
       "unaccounted                3937\n",
       "Raining + high winds       3130\n",
       "Fine + high winds          2861\n",
       "Fog or mist                 981\n",
       "Snowing no high winds       719\n",
       "Snowing + high winds        201\n",
       "Name: count, dtype: int64"
      ]
     },
     "execution_count": 16,
     "metadata": {},
     "output_type": "execute_result"
    }
   ],
   "source": [
    "year_2020['Weather_Conditions'].value_counts()"
   ]
  },
  {
   "cell_type": "markdown",
   "id": "035a73aa-6dfc-4441-b738-f0ac0350030c",
   "metadata": {},
   "source": [
    "<h2>Insight No 1</h2>\n",
    "Insight: From the year 2020, when the road condition is dry and the weather condition is fine no high winds, the Bermingham district has the most recorded number of 2,252 accident, that is just 1.3% of the whole number of accident which is  170,591. This gives me the idea that even when the weather condition is good accident still happen. \n",
    "\n",
    "<h2>Insight No 2</h2>\n",
    "The total accident on dry road condtion is 113,506 which is 66.5% of the total accident that is 170,591. For me, this is a really good weather for a drive beacuse there is nothing to worry about, I guess humans are most vulnerable when we are in a relaxed environment or in a relaxed situation then plot twist somethime happened and that is a unfortunate accident."
   ]
  },
  {
   "cell_type": "markdown",
   "id": "d4df49c1-1219-48d0-a401-eab6543affc3",
   "metadata": {},
   "source": [
    "<h1>2. In year 2020, what type of vehicle is most prone to accident when the weather condition is raining with high winds is involved? (Not including Cars)</h1>"
   ]
  },
  {
   "cell_type": "code",
   "execution_count": 17,
   "id": "87a46192-a56d-464f-9cd3-d6511b1b4060",
   "metadata": {},
   "outputs": [
    {
     "data": {
      "text/plain": [
       "Weather_Conditions\n",
       "Fine no high winds       132513\n",
       "Raining no high winds     21984\n",
       "Other                      4265\n",
       "unaccounted                3937\n",
       "Raining + high winds       3130\n",
       "Fine + high winds          2861\n",
       "Fog or mist                 981\n",
       "Snowing no high winds       719\n",
       "Snowing + high winds        201\n",
       "Name: count, dtype: int64"
      ]
     },
     "execution_count": 17,
     "metadata": {},
     "output_type": "execute_result"
    }
   ],
   "source": [
    "year_2020['Weather_Conditions'].value_counts()"
   ]
  },
  {
   "cell_type": "code",
   "execution_count": 18,
   "id": "71b91687-b081-44b3-886b-94dab3168613",
   "metadata": {},
   "outputs": [
    {
     "data": {
      "text/plain": [
       "Weather_Conditions\n",
       "Fine no high winds       33027\n",
       "Raining no high winds     5591\n",
       "Other                     1088\n",
       "unaccounted                999\n",
       "Raining + high winds       763\n",
       "Fine + high winds          727\n",
       "Fog or mist                265\n",
       "Snowing no high winds      181\n",
       "Snowing + high winds        56\n",
       "Name: count, dtype: int64"
      ]
     },
     "execution_count": 18,
     "metadata": {},
     "output_type": "execute_result"
    }
   ],
   "source": [
    "no_car = year_2020[year_2020['Vehicle_Type'] != 'Car']\n",
    "raining_now = no_car['Weather_Conditions'].value_counts()\n",
    "raining_now"
   ]
  },
  {
   "cell_type": "code",
   "execution_count": 19,
   "id": "4ea61ad2-2399-4070-bf3c-5e9c2f69023d",
   "metadata": {},
   "outputs": [
    {
     "data": {
      "text/plain": [
       "Vehicle_Type\n",
       "Car                                      2367\n",
       "Van / Goods 3.5 tonnes mgw or under       173\n",
       "Motorcycle over 500cc                     116\n",
       "Bus or coach (17 or more pass seats)      111\n",
       "Goods 7.5 tonnes mgw and over              93\n",
       "Motorcycle 125cc and under                 66\n",
       "Taxi/Private hire car                      62\n",
       "Motorcycle over 125cc and up to 500cc      37\n",
       "Motorcycle 50cc and under                  30\n",
       "Other vehicle                              30\n",
       "Goods over 3.5t. and under 7.5t            25\n",
       "Agricultural vehicle                       13\n",
       "Minibus (8 - 16 passenger seats)            7\n",
       "Data missing or out of range                0\n",
       "Pedal cycle                                 0\n",
       "Ridden horse                                0\n",
       "Name: count, dtype: int64"
      ]
     },
     "execution_count": 19,
     "metadata": {},
     "output_type": "execute_result"
    }
   ],
   "source": [
    "no_car = year_2020[year_2020['Weather_Conditions'] == 'Raining + high winds']\n",
    "raining_now = no_car['Vehicle_Type'].value_counts()\n",
    "raining_now"
   ]
  },
  {
   "cell_type": "code",
   "execution_count": 20,
   "id": "1714ba9b-7767-408f-aeb9-ac843f9b9d9f",
   "metadata": {},
   "outputs": [
    {
     "data": {
      "image/png": "[encoded data removed]",
      "text/plain": [
       "<Figure size 640x480 with 1 Axes>"
      ]
     },
     "metadata": {},
     "output_type": "display_data"
    }
   ],
   "source": [
    "no_car = year_2020[year_2020['Weather_Conditions'] == 'Raining + high winds']\n",
    "raining_now = no_car[no_car['Vehicle_Type'] != 'Car']['Vehicle_Type'].value_counts()\n",
    "raining_now.plot(kind='bar')\n",
    "plt.title('Vehicle Type Without Cars')\n",
    "plt.grid(alpha=0.5)\n",
    "plt.show()"
   ]
  },
  {
   "cell_type": "markdown",
   "id": "fe652d5b-58af-47fd-a0c2-411304e419f8",
   "metadata": {},
   "source": [
    "<h2>Insight No 3</h2>\n",
    "Insight: Wihout including the Car, the most prone are Van / Goods 3.5 tonnes mgw or under. Maybe because they are more active at road because Vans could be a vehicle for transporation and Van Goods are those who trade products. It could be that there are time limit for arriving that is why they sped up and end up in accident.    "
   ]
  },
  {
   "cell_type": "markdown",
   "id": "08f5d0af-fe21-49c0-b290-78c0bb9e0d6e",
   "metadata": {},
   "source": [
    "<h1>3. What road surface condition has the most accident in the year 2019 and what road type does it mostly happened?</h1>"
   ]
  },
  {
   "cell_type": "code",
   "execution_count": 21,
   "id": "c91be734-eafe-477f-b707-301d3b05b6b4",
   "metadata": {},
   "outputs": [
    {
     "name": "stdout",
     "output_type": "stream",
     "text": [
      "The total sum of accident from the year 2019 is 182115\n"
     ]
    },
    {
     "data": {
      "text/plain": [
       "Road_Surface_Conditions  Road_Type         \n",
       "Dry                      Single carriageway    92487\n",
       "Wet or damp              Single carriageway    39491\n",
       "Dry                      Dual carriageway      19189\n",
       "Wet or damp              Dual carriageway       8545\n",
       "Dry                      Roundabout             8226\n",
       "Wet or damp              Roundabout             3299\n",
       "Dry                      One way street         2888\n",
       "Frost or ice             Single carriageway     2150\n",
       "Dry                      Slip road              1344\n",
       "                         unaccounted            1214\n",
       "Wet or damp              One way street          883\n",
       "                         Slip road               603\n",
       "Snow                     Single carriageway      411\n",
       "Wet or damp              unaccounted             332\n",
       "Frost or ice             Dual carriageway        237\n",
       "Flood over 3cm. deep     Single carriageway      222\n",
       "unaccounted              Single carriageway      137\n",
       "Frost or ice             Roundabout              118\n",
       "Snow                     Dual carriageway         85\n",
       "Flood over 3cm. deep     Dual carriageway         80\n",
       "Frost or ice             One way street           27\n",
       "Snow                     Roundabout               26\n",
       "unaccounted              Dual carriageway         26\n",
       "                         Roundabout               26\n",
       "Frost or ice             Slip road                19\n",
       "                         unaccounted              18\n",
       "unaccounted              One way street            7\n",
       "Snow                     One way street            6\n",
       "                         Slip road                 5\n",
       "Flood over 3cm. deep     unaccounted               4\n",
       "                         Roundabout                3\n",
       "unaccounted              Slip road                 2\n",
       "Flood over 3cm. deep     One way street            2\n",
       "                         Slip road                 1\n",
       "Snow                     unaccounted               1\n",
       "unaccounted              unaccounted               1\n",
       "dtype: int64"
      ]
     },
     "execution_count": 21,
     "metadata": {},
     "output_type": "execute_result"
    }
   ],
   "source": [
    "year_2019 = accident_df[accident_df['Year'] == 2019]\n",
    "year_2019['Road_Surface_Conditions'].value_counts()\n",
    "print('The total sum of accident from the year 2019 is', year_2019.groupby(['Road_Surface_Conditions', 'Road_Type']).size().sum())\n",
    "year_2019.groupby(['Road_Surface_Conditions', 'Road_Type']).size().sort_values(ascending=False)"
   ]
  },
  {
   "cell_type": "markdown",
   "id": "bd34fe57-7f9c-4153-bb9f-e0ac9e094180",
   "metadata": {},
   "source": [
    "<h2>Insight No 4</h2>\n",
    "Insight: In the year 2019, accident mostly happened from  dry road surface condtions on a single carriageway road type with 92487 record which is 50.78% of the 182115 total accident. Its a dry road so its good for driving compared to wet or damp who has 39491 record which is 21.68%. I thought that it is more dangerous to drive when the road is wet bacause it is slippery but this data shows me that maybe accidents are mostly made by human errors.  "
   ]
  },
  {
   "cell_type": "markdown",
   "id": "27c8b753-c8ef-4595-bda5-e71dbc3c15b9",
   "metadata": {},
   "source": [
    "<h2>Insight No 5</h2>\n",
    "Insight: Comparing Single carriageway and Dual carriageway when the road condition is dry, what I found is  that dual carriageway are seperated by something like a barrier in the middle. So maybe this factor plays at the number of accidents, drivers at the dual carriageway feel more safer because of the barrier at the middle that is why they drive safer.   "
   ]
  },
  {
   "cell_type": "markdown",
   "id": "320dc19e-42a0-4a93-8f2f-80150699e1e4",
   "metadata": {},
   "source": [
    "<h1>4. Compare the year 2019 - 2022, In the month of december, does the record of accident is rising or decreasing?<h1>"
   ]
  },
  {
   "cell_type": "code",
   "execution_count": 22,
   "id": "84a2517e-32b1-4fa2-afc5-4e50f61cbbba",
   "metadata": {},
   "outputs": [
    {
     "data": {
      "text/plain": [
       "Year  Month\n",
       "2019  1        15355\n",
       "      2        13253\n",
       "      3        15049\n",
       "      4        14125\n",
       "      5        15833\n",
       "      6        15528\n",
       "      7        15862\n",
       "      8        15044\n",
       "      9        15271\n",
       "      10       15528\n",
       "      11       16559\n",
       "      12       14708\n",
       "2020  1        14133\n",
       "      2        14353\n",
       "      3        13494\n",
       "      4        13394\n",
       "      5        14336\n",
       "      6        14205\n",
       "      7        14630\n",
       "      8        13366\n",
       "      9        14432\n",
       "      10       15684\n",
       "      11       14770\n",
       "      12       13794\n",
       "2021  1        13417\n",
       "      2        10950\n",
       "      3        13202\n",
       "      4        12715\n",
       "      5        13811\n",
       "      6        13936\n",
       "      7        14300\n",
       "      8        13415\n",
       "      9        13792\n",
       "      10       14834\n",
       "      11       15473\n",
       "      12       13709\n",
       "2022  1         9967\n",
       "      2        10935\n",
       "      3        12341\n",
       "      4        11510\n",
       "      5        12372\n",
       "      6        12812\n",
       "      7        12653\n",
       "      8        12088\n",
       "      9        12960\n",
       "      10       13534\n",
       "      11       13622\n",
       "      12        9625\n",
       "dtype: int64"
      ]
     },
     "execution_count": 22,
     "metadata": {},
     "output_type": "execute_result"
    }
   ],
   "source": [
    "accident_df.groupby(['Year','Month']).size()"
   ]
  },
  {
   "cell_type": "markdown",
   "id": "f4e7ced4-b0b5-427b-b96a-1ce6ccba99a9",
   "metadata": {},
   "source": [
    "<h2>Insight No 6</h2>\n",
    "Insight: The number 12 of month indicates December, 2019 has the most record of accident with 14708 record and as the year goes by, the number are decreasing even just a little with 13794 record on 2020, 13709 record on 2021 and the lowest recorded is in 2022 with 9625. The record of accident in every December is decreasing as the year goes by. Maybe one of the factor is Christmas that driver are more careful and think to be with their family. "
   ]
  },
  {
   "cell_type": "markdown",
   "id": "9f0566a3-2fae-4986-8031-637ed18aa636",
   "metadata": {},
   "source": [
    "<h2>Insight No 7</h2>\n",
    "Insight: After anylazing the result, I learned that december has the lowest record compared to other months in every year. It is Christmas which makes me sure that there will be a lot of vehicles which will cause accident because people are visiting many places. But maybe, because of something like a traffic jam on road because of many vehicles on christmas, it decreases the speed of the vehicles and which lowers the chance of accidents."
   ]
  },
  {
   "cell_type": "markdown",
   "id": "0f37979d-cddf-4240-9b95-836cc63be77a",
   "metadata": {},
   "source": [
    "<h1>5. Which road type has the most recorded fatal accident severity?</h1>"
   ]
  },
  {
   "cell_type": "code",
   "execution_count": 23,
   "id": "ff0b91bf-c93c-4293-b705-f14789c4bf50",
   "metadata": {},
   "outputs": [
    {
     "data": {
      "text/plain": [
       "Road_Type           Accident_Severity\n",
       "Single carriageway  Slight               415557\n",
       "Dual carriageway    Slight                85863\n",
       "Single carriageway  Serious               70059\n",
       "Roundabout          Slight                40185\n",
       "One way street      Slight                11809\n",
       "Dual carriageway    Serious               11746\n",
       "Single carriageway  Fatal                  6527\n",
       "Slip road           Slight                 6381\n",
       "unaccounted         Slight                 4006\n",
       "Roundabout          Serious                3665\n",
       "Dual carriageway    Fatal                  1815\n",
       "One way street      Serious                1655\n",
       "Slip road           Serious                 611\n",
       "unaccounted         Serious                 481\n",
       "Roundabout          Fatal                   142\n",
       "One way street      Fatal                    95\n",
       "Slip road           Fatal                    49\n",
       "unaccounted         Fatal                    33\n",
       "dtype: int64"
      ]
     },
     "execution_count": 23,
     "metadata": {},
     "output_type": "execute_result"
    }
   ],
   "source": [
    "accident_df.groupby(['Road_Type', 'Accident_Severity']).size().sort_values(ascending=False)"
   ]
  },
  {
   "cell_type": "markdown",
   "id": "0cf4a747-8ebc-41dd-9afb-0ae6437d4d0a",
   "metadata": {},
   "source": [
    "<h2>Insight No 8</h2>\n",
    "Insight: The road type most associated with fatal accident severity is Single carriageway, with 6,527 fatal accidents recorded. This suggests that single carriageways often narrower and lacking physical separation between opposing traffic pose a higher risk for deadly collisions.\n",
    "\n",
    "<h2>Insight No 9</h2>\n",
    "The highest overall count in the dataset is Single carriageway + Slight severity, totaling 415,557 incidents. This indicates that while single carriageways are the deadliest, they also experience the most minor accidents likely due to their widespread use and exposure.\n",
    "\n",
    "<h2>Insight No 10</h2>\n",
    "Roundabouts show a much lower fatal accident count only 142 fatalities despite having 40,185 slight and 3,665 serious accidents. This supports the idea that roundabouts, by design, reduce high-speed collisions and thus lower the risk of fatal outcomes."
   ]
  },
  {
   "cell_type": "markdown",
   "id": "5c93628e-326b-4e2b-8028-f1c32ea83cc8",
   "metadata": {},
   "source": [
    "<h1>6. Which light condition is most common in serious accidents?</h1>"
   ]
  },
  {
   "cell_type": "code",
   "execution_count": 24,
   "id": "383b0804-4eaa-4038-91bc-78854739a51f",
   "metadata": {},
   "outputs": [
    {
     "data": {
      "text/plain": [
       "Light_Conditions\n",
       "Daylight                       60759\n",
       "Darkness - lights lit          19130\n",
       "Darkness - no lighting          7174\n",
       "Darkness - lighting unknown      794\n",
       "Darkness - lights unlit          360\n",
       "Name: count, dtype: int64"
      ]
     },
     "execution_count": 24,
     "metadata": {},
     "output_type": "execute_result"
    }
   ],
   "source": [
    "accident_df[accident_df['Accident_Severity'] == 'Serious']['Light_Conditions'].value_counts()"
   ]
  },
  {
   "cell_type": "code",
   "execution_count": 25,
   "id": "93ad2d01-f1ac-464b-bbea-c65ac404dee8",
   "metadata": {
    "scrolled": true
   },
   "outputs": [
    {
     "data": {
      "text/plain": [
       "Light_Conditions             Accident_Severity\n",
       "Darkness - lighting unknown  Fatal                    68\n",
       "                             Serious                 794\n",
       "                             Slight                 5622\n",
       "Darkness - lights lit        Fatal                  1860\n",
       "                             Serious               19130\n",
       "                             Slight               108345\n",
       "Darkness - lights unlit      Fatal                    45\n",
       "                             Serious                 360\n",
       "                             Slight                 2138\n",
       "Darkness - no lighting       Fatal                  1612\n",
       "                             Serious                7174\n",
       "                             Slight                28651\n",
       "Daylight                     Fatal                  5076\n",
       "                             Serious               60759\n",
       "                             Slight               419045\n",
       "dtype: int64"
      ]
     },
     "execution_count": 25,
     "metadata": {},
     "output_type": "execute_result"
    }
   ],
   "source": [
    "accident_df.groupby(['Light_Conditions', 'Accident_Severity']).size()"
   ]
  },
  {
   "cell_type": "markdown",
   "id": "74572ed8-e03c-4c77-af70-2c0e9c91f82e",
   "metadata": {},
   "source": [
    "<h2>Insight No 11</h2>\n",
    "Insight: Daylight accounts for 60,759 serious accidents, the highest among all lighting conditions. This is likely due to higher traffic volume during daytime hours, increasing the chance of collisions.\n",
    "\n",
    "<h2>Insight No 12</h2>\n",
    "Although it has fewer total accidents, Darkness  no lighting recorded 1,612 fatal incidents, second only to daylight. This suggests that poor visibility and lack of street lighting significantly raise the risk of deadly outcomes.\n",
    "\n",
    "<h2>Insight No 13</h2>\n",
    "Under Darkness  lights lit, there are 108,345 slight accidents but only 1,860 fatal ones. This indicates that proper street lighting helps mitigate accident severity by improving visibility and reaction time."
   ]
  },
  {
   "cell_type": "markdown",
   "id": "3ab440bb-278f-463a-826c-7c46cac1ac2f",
   "metadata": {},
   "source": [
    "<h1>7. Which weather condition is most common in urban vs. rural accident locations?</h1>"
   ]
  },
  {
   "cell_type": "code",
   "execution_count": 26,
   "id": "eb4677c9-9917-4090-9226-560b36d3332c",
   "metadata": {},
   "outputs": [
    {
     "data": {
      "text/plain": [
       "Weather_Conditions     Urban_or_Rural_Area\n",
       "Fine + high winds      Rural                    3993\n",
       "                       Unallocated                 1\n",
       "                       Urban                    4560\n",
       "Fine no high winds     Rural                  181792\n",
       "                       Unallocated                 5\n",
       "                       Urban                  339088\n",
       "Fog or mist            Rural                    2385\n",
       "                       Unallocated                 0\n",
       "                       Urban                    1143\n",
       "Other                  Rural                    7337\n",
       "                       Unallocated                 0\n",
       "                       Urban                    9813\n",
       "Raining + high winds   Rural                    4723\n",
       "                       Unallocated                 0\n",
       "                       Urban                    4892\n",
       "Raining no high winds  Rural                   31173\n",
       "                       Unallocated                 5\n",
       "                       Urban                   48518\n",
       "Snowing + high winds   Rural                     571\n",
       "                       Unallocated                 0\n",
       "                       Urban                     314\n",
       "Snowing no high winds  Rural                    3050\n",
       "                       Unallocated                 0\n",
       "                       Urban                    3188\n",
       "unaccounted            Rural                    3966\n",
       "                       Unallocated                 0\n",
       "                       Urban                   10162\n",
       "dtype: int64"
      ]
     },
     "execution_count": 26,
     "metadata": {},
     "output_type": "execute_result"
    }
   ],
   "source": [
    "accident_df.groupby(['Weather_Conditions', 'Urban_or_Rural_Area']).size()"
   ]
  },
  {
   "cell_type": "markdown",
   "id": "bf84d8d6-fd77-4694-bdeb-a21384929ee9",
   "metadata": {},
   "source": [
    "<h2>Insight No 12</h2>\n",
    "Insight: Fine weather with no high winds accounts for the highest number of accidents in both urban 339,088 and rural 181,792 areas. This suggests that accidents are more influenced by traffic volume than adverse weather conditions.\n",
    "\n",
    "<h2>Insight No 13</h2>\n",
    "Raining without high winds caused 48,518 accidents in urban areas, compared to 31,173 in rural zones. Urban environments may be more vulnerable due to congestion and slippery surfaces during rainfall.\n",
    "\n",
    "<h2>Insight No 14</h2>\n",
    "Fog or mist led to 2,385 rural accidents, more than double the 1,143 recorded in urban areas. Reduced visibility and higher driving speeds in rural regions likely contribute to this elevated risk."
   ]
  },
  {
   "cell_type": "markdown",
   "id": "7b620edf-6bc9-4a95-ae62-ebbb37ae7020",
   "metadata": {},
   "source": [
    "<h1>8. What is the exact date with the most number of vehicle accident?</h1>"
   ]
  },
  {
   "cell_type": "code",
   "execution_count": 27,
   "id": "4049898b-be96-411c-b88f-d408c27aa295",
   "metadata": {},
   "outputs": [
    {
     "data": {
      "text/plain": [
       "np.int64(32)"
      ]
     },
     "execution_count": 27,
     "metadata": {},
     "output_type": "execute_result"
    }
   ],
   "source": [
    "accident_df['Number_of_Vehicles'].max()"
   ]
  },
  {
   "cell_type": "code",
   "execution_count": 28,
   "id": "4809fab1-4aed-4cf9-a4f3-95f36a770401",
   "metadata": {},
   "outputs": [
    {
     "data": {
      "text/html": [
       "<div>\n",
       "<style scoped>\n",
       "    .dataframe tbody tr th:only-of-type {\n",
       "        vertical-align: middle;\n",
       "    }\n",
       "\n",
       "    .dataframe tbody tr th {\n",
       "        vertical-align: top;\n",
       "    }\n",
       "\n",
       "    .dataframe thead th {\n",
       "        text-align: right;\n",
       "    }\n",
       "</style>\n",
       "<table border=\"1\" class=\"dataframe\">\n",
       "  <thead>\n",
       "    <tr style=\"text-align: right;\">\n",
       "      <th></th>\n",
       "      <th>Index</th>\n",
       "      <th>Accident_Severity</th>\n",
       "      <th>Accident Date</th>\n",
       "      <th>Latitude</th>\n",
       "      <th>Light_Conditions</th>\n",
       "      <th>District Area</th>\n",
       "      <th>Longitude</th>\n",
       "      <th>Number_of_Casualties</th>\n",
       "      <th>Number_of_Vehicles</th>\n",
       "      <th>Road_Surface_Conditions</th>\n",
       "      <th>Road_Type</th>\n",
       "      <th>Urban_or_Rural_Area</th>\n",
       "      <th>Weather_Conditions</th>\n",
       "      <th>Vehicle_Type</th>\n",
       "      <th>Year</th>\n",
       "      <th>Month</th>\n",
       "      <th>Day</th>\n",
       "      <th>DayOfWeek</th>\n",
       "    </tr>\n",
       "  </thead>\n",
       "  <tbody>\n",
       "    <tr>\n",
       "      <th>497581</th>\n",
       "      <td>2009559D05333</td>\n",
       "      <td>Slight</td>\n",
       "      <td>2021-12-23</td>\n",
       "      <td>50.752096</td>\n",
       "      <td>Daylight</td>\n",
       "      <td>Purbeck</td>\n",
       "      <td>-2.254705</td>\n",
       "      <td>5</td>\n",
       "      <td>32</td>\n",
       "      <td>Frost or ice</td>\n",
       "      <td>Dual carriageway</td>\n",
       "      <td>Rural</td>\n",
       "      <td>Fine no high winds</td>\n",
       "      <td>Car</td>\n",
       "      <td>2021</td>\n",
       "      <td>12</td>\n",
       "      <td>23</td>\n",
       "      <td>3</td>\n",
       "    </tr>\n",
       "  </tbody>\n",
       "</table>\n",
       "</div>"
      ],
      "text/plain": [
       "                Index Accident_Severity Accident Date   Latitude  \\\n",
       "497581  2009559D05333            Slight    2021-12-23  50.752096   \n",
       "\n",
       "       Light_Conditions District Area  Longitude  Number_of_Casualties  \\\n",
       "497581         Daylight       Purbeck  -2.254705                     5   \n",
       "\n",
       "        Number_of_Vehicles Road_Surface_Conditions         Road_Type  \\\n",
       "497581                  32            Frost or ice  Dual carriageway   \n",
       "\n",
       "       Urban_or_Rural_Area  Weather_Conditions Vehicle_Type  Year  Month  Day  \\\n",
       "497581               Rural  Fine no high winds          Car  2021     12   23   \n",
       "\n",
       "        DayOfWeek  \n",
       "497581          3  "
      ]
     },
     "execution_count": 28,
     "metadata": {},
     "output_type": "execute_result"
    }
   ],
   "source": [
    "accident_df[accident_df['Number_of_Vehicles'] == 32]"
   ]
  },
  {
   "cell_type": "markdown",
   "id": "de95b511-518f-4605-b25a-f4c767d22805",
   "metadata": {},
   "source": [
    "<h2>Insight No 15</h2>\n",
    "Insight: On 23-12-2021 mark the record of most number of vehicle accident with 32 recorded accident."
   ]
  },
  {
   "cell_type": "markdown",
   "id": "4b7bdf3d-5761-4a7d-bad7-11a12865f04d",
   "metadata": {},
   "source": [
    "<h1>9. How have accident trends changed over time across urban and rural areas?</h1>"
   ]
  },
  {
   "cell_type": "code",
   "execution_count": 29,
   "id": "a741e8c3-d8b2-478d-8515-40490a4e32d3",
   "metadata": {},
   "outputs": [
    {
     "data": {
      "text/plain": [
       "Urban_or_Rural_Area  Year\n",
       "Rural                2019     67558\n",
       "                     2020     61991\n",
       "                     2021     59016\n",
       "                     2022     50425\n",
       "Unallocated          2019         5\n",
       "                     2020         6\n",
       "                     2021         0\n",
       "                     2022         0\n",
       "Urban                2019    114552\n",
       "                     2020    108594\n",
       "                     2021    104538\n",
       "                     2022     93994\n",
       "dtype: int64"
      ]
     },
     "execution_count": 29,
     "metadata": {},
     "output_type": "execute_result"
    }
   ],
   "source": [
    "accident_df.groupby(['Urban_or_Rural_Area', 'Year']).size()"
   ]
  },
  {
   "cell_type": "markdown",
   "id": "17674c24-f13a-406a-9c68-947e517056fd",
   "metadata": {},
   "source": [
    "<h2>Insight No 16</h2>\n",
    "Insight: Urban areas have the highest accident counts every year, peaking at 114,552 in 2019. This reflects higher traffic density and vehicle volume in cities, increasing the likelihood of collisions.\n",
    "\n",
    "<h2>Insight No 17</h2>\n",
    "From 2019 to 2022, urban accidents dropped by 20,558, while rural accidents fell by 17,133. This downward trend may be influenced by pandemic related travel restrictions and improved road safety measures.\n",
    "\n",
    "<h2>Insight No 18</h2>\n",
    "Rural accident counts dropped from 67,558 in 2019 to 50,425 in 2022, a decrease of over 25%. This sharper decline compared to urban areas may reflect reduced long distance travel or improved rural road safety initiatives during and after the pandemic."
   ]
  },
  {
   "cell_type": "code",
   "execution_count": 30,
   "id": "36403b95-f08d-4109-9622-ac0791ed957a",
   "metadata": {},
   "outputs": [
    {
     "data": {
      "text/plain": [
       "Index(['Index', 'Accident_Severity', 'Accident Date', 'Latitude',\n",
       "       'Light_Conditions', 'District Area', 'Longitude',\n",
       "       'Number_of_Casualties', 'Number_of_Vehicles', 'Road_Surface_Conditions',\n",
       "       'Road_Type', 'Urban_or_Rural_Area', 'Weather_Conditions',\n",
       "       'Vehicle_Type', 'Year', 'Month', 'Day', 'DayOfWeek'],\n",
       "      dtype='object')"
      ]
     },
     "execution_count": 30,
     "metadata": {},
     "output_type": "execute_result"
    }
   ],
   "source": [
    "accident_df.columns"
   ]
  },
  {
   "cell_type": "markdown",
   "id": "ca62bacf-da3a-42a4-86c1-ac87e2ad2576",
   "metadata": {},
   "source": [
    "<h1>10. How does accident severity vary across different weather conditions?</h1>"
   ]
  },
  {
   "cell_type": "code",
   "execution_count": 31,
   "id": "a798af36-113a-45cc-adf5-bd67c272f056",
   "metadata": {},
   "outputs": [
    {
     "data": {
      "text/plain": [
       "Weather_Conditions     Accident_Severity\n",
       "Fine + high winds      Fatal                   175\n",
       "                       Serious                1245\n",
       "                       Slight                 7134\n",
       "Fine no high winds     Fatal                  7100\n",
       "                       Serious               72046\n",
       "                       Slight               441739\n",
       "Fog or mist            Fatal                    82\n",
       "                       Serious                 483\n",
       "                       Slight                 2963\n",
       "Other                  Fatal                   165\n",
       "                       Serious                1801\n",
       "                       Slight                15184\n",
       "Raining + high winds   Fatal                   145\n",
       "                       Serious                1261\n",
       "                       Slight                 8209\n",
       "Raining no high winds  Fatal                   848\n",
       "                       Serious                9468\n",
       "                       Slight                69380\n",
       "Snowing + high winds   Fatal                     3\n",
       "                       Serious                 109\n",
       "                       Slight                  773\n",
       "Snowing no high winds  Fatal                    36\n",
       "                       Serious                 565\n",
       "                       Slight                 5637\n",
       "unaccounted            Fatal                   107\n",
       "                       Serious                1239\n",
       "                       Slight                12782\n",
       "dtype: int64"
      ]
     },
     "execution_count": 31,
     "metadata": {},
     "output_type": "execute_result"
    }
   ],
   "source": [
    "accident_df.groupby(['Weather_Conditions','Accident_Severity']).size()"
   ]
  },
  {
   "cell_type": "markdown",
   "id": "71a38bfc-63e3-49cc-9cd2-d5dcacfdd9ea",
   "metadata": {},
   "source": [
    "<h2>Insight No 19</h2>\n",
    "Under fine weather with no high winds, there are 441,739 slight, 72,046 serious, and 7,100 fatal accidents. This shows that most accidents happen in good weather, likely due to higher traffic volume rather than hazardous conditions.\n",
    "\n",
    "<h2>Insight No 20</h2>\n",
    "Raining without high winds caused 9,468 serious and 69,380 slight accidents, making it the second most accident prone condition. Wet roads and reduced visibility likely contribute to this elevated risk, especially in urban settings\n",
    "\n",
    "<h2>Insight No 21</h2>\n",
    "Snowing no high winds led to 5,637 slight, 565 serious, and 36 fatal accidents. Although rare, snow creates dangerous driving conditions that can escalate accident severity quickly."
   ]
  },
  {
   "cell_type": "markdown",
   "id": "779fa72c-2a8c-44b6-9052-7ca553738901",
   "metadata": {},
   "source": [
    "<h1>11. Which combination of road type and light condition results in the highest number of serious accidents?</h1>"
   ]
  },
  {
   "cell_type": "code",
   "execution_count": 32,
   "id": "78401931-fcd3-4ba3-94aa-ded0f9d6a15d",
   "metadata": {},
   "outputs": [
    {
     "data": {
      "text/plain": [
       "Accident_Severity  Road_Type           Light_Conditions           \n",
       "Slight             Single carriageway  Daylight                       310730\n",
       "                                       Darkness - lights lit           77289\n",
       "                   Dual carriageway    Daylight                        61799\n",
       "Serious            Single carriageway  Daylight                        48607\n",
       "Slight             Roundabout          Daylight                        29895\n",
       "                                                                       ...  \n",
       "Fatal              Roundabout          Darkness - lighting unknown         0\n",
       "                                       Darkness - lights unlit             0\n",
       "                   One way street      Darkness - lights unlit             0\n",
       "                   Slip road           Darkness - lights unlit             0\n",
       "                   unaccounted         Darkness - lights unlit             0\n",
       "Length: 90, dtype: int64"
      ]
     },
     "execution_count": 32,
     "metadata": {},
     "output_type": "execute_result"
    }
   ],
   "source": [
    "accident_df.groupby(['Accident_Severity','Road_Type', 'Light_Conditions']).size().sort_values(ascending=False)"
   ]
  },
  {
   "cell_type": "markdown",
   "id": "4a94e2f1-a3fc-43b8-b1a0-e8f718af70e5",
   "metadata": {},
   "source": [
    "<h2>Insight No 22</h2>\n",
    "Insight: The combination of light condition of daylight and road type of roundasbout causes the highest number of serious accidents with 48956 recorded ."
   ]
  },
  {
   "cell_type": "markdown",
   "id": "71b09750-77c4-4575-8534-ffa6ab801f62",
   "metadata": {},
   "source": [
    "<h1>12. Question: How do weather conditions influence road surface states during accidents?</h1>"
   ]
  },
  {
   "cell_type": "code",
   "execution_count": 33,
   "id": "f68246fd-cef6-49dd-8e65-6a3c49ac1ae4",
   "metadata": {
    "scrolled": true
   },
   "outputs": [
    {
     "data": {
      "text/plain": [
       "Weather_Conditions     Road_Surface_Conditions\n",
       "Fine no high winds     Dry                        5580\n",
       "                       Wet or damp                1380\n",
       "Raining no high winds  Wet or damp                 829\n",
       "Raining + high winds   Wet or damp                 139\n",
       "Fine no high winds     Frost or ice                121\n",
       "Other                  Wet or damp                 109\n",
       "Fine + high winds      Dry                         103\n",
       "unaccounted            Dry                          71\n",
       "Fine + high winds      Wet or damp                  68\n",
       "Fog or mist            Wet or damp                  56\n",
       "Other                  Frost or ice                 43\n",
       "unaccounted            Wet or damp                  29\n",
       "Fog or mist            Dry                          18\n",
       "Snowing no high winds  Snow                         17\n",
       "Fine no high winds     Snow                         14\n",
       "Other                  Dry                          12\n",
       "Raining no high winds  Flood over 3cm. deep         11\n",
       "Snowing no high winds  Wet or damp                   9\n",
       "Fog or mist            Frost or ice                  8\n",
       "Snowing no high winds  Frost or ice                  8\n",
       "Raining + high winds   Flood over 3cm. deep          5\n",
       "Raining no high winds  Frost or ice                  5\n",
       "Fine no high winds     Flood over 3cm. deep          4\n",
       "unaccounted            Frost or ice                  4\n",
       "Fine + high winds      Frost or ice                  3\n",
       "unaccounted            Flood over 3cm. deep          2\n",
       "Snowing no high winds  Dry                           2\n",
       "Snowing + high winds   Snow                          2\n",
       "Raining no high winds  Dry                           2\n",
       "Snowing + high winds   Wet or damp                   1\n",
       "Raining no high winds  Snow                          1\n",
       "unaccounted            unaccounted                   1\n",
       "Raining + high winds   Frost or ice                  1\n",
       "Fine no high winds     unaccounted                   1\n",
       "Other                  Snow                          1\n",
       "Fine + high winds      Flood over 3cm. deep          1\n",
       "Raining + high winds   unaccounted                   0\n",
       "Fog or mist            unaccounted                   0\n",
       "Fine + high winds      Snow                          0\n",
       "unaccounted            Snow                          0\n",
       "Fine + high winds      unaccounted                   0\n",
       "Fog or mist            Flood over 3cm. deep          0\n",
       "Snowing no high winds  unaccounted                   0\n",
       "Fog or mist            Snow                          0\n",
       "Snowing no high winds  Flood over 3cm. deep          0\n",
       "Other                  Flood over 3cm. deep          0\n",
       "Snowing + high winds   unaccounted                   0\n",
       "Other                  unaccounted                   0\n",
       "Raining + high winds   Dry                           0\n",
       "Snowing + high winds   Frost or ice                  0\n",
       "                       Flood over 3cm. deep          0\n",
       "                       Dry                           0\n",
       "Raining no high winds  unaccounted                   0\n",
       "Raining + high winds   Snow                          0\n",
       "dtype: int64"
      ]
     },
     "execution_count": 33,
     "metadata": {},
     "output_type": "execute_result"
    }
   ],
   "source": [
    "accident_df[accident_df['Accident_Severity'] == 'Fatal'].groupby(['Weather_Conditions', 'Road_Surface_Conditions']).size().sort_values(ascending=False)"
   ]
  },
  {
   "cell_type": "markdown",
   "id": "b514b2a7-ac67-435e-8932-6276109c731c",
   "metadata": {},
   "source": [
    "<h2>Insight No 23</h2>\n",
    "Under fine weather with no high winds, there are 5,580 accidents on dry roads, the highest count in the record. This suggests that even in goodl driving conditions, accidents still occur frequently likely due to higher traffic volume and drivers being unlucky on the road. I really think that since the environment is good at the moment, something bad will happen next.\n",
    "\n",
    "<h2>Insight No 24</h2>\n",
    "Raining no high winds and raining + high winds together account for 968 accidents on wet or damp roads. This confirms that rain consistently leads to slippery surfaces, increasing the likelihood of collisions. This is what I find strange because I thought that raining is the most dangerous for the car tires that may cause accident.\n",
    "\n",
    "<h2>Insight No 25</h2>\n",
    "I was more surpised when the weather is Fog or Mist and the road is Wet or damp with the record 56 accident, these usually causes more accidents in movies but I guess that was just fiction. But maybe because of these condition that driver are more serious about driving because they know what will happen if they speed up the vehicles and they know that being reckless in these kind of condition is dangerous so they will likely try to drive safely."
   ]
  },
  {
   "cell_type": "code",
   "execution_count": null,
   "id": "ea5e81a0-5c86-40ef-ae65-c400c0efed6f",
   "metadata": {},
   "outputs": [],
   "source": []
  }
 ],
 "metadata": {
  "kernelspec": {
   "display_name": "Python 3 (ipykernel)",
   "language": "python",
   "name": "python3"
  },
  "language_info": {
   "codemirror_mode": {
    "name": "ipython",
    "version": 3
   },
   "file_extension": ".py",
   "mimetype": "text/x-python",
   "name": "python",
   "nbconvert_exporter": "python",
   "pygments_lexer": "ipython3",
   "version": "3.13.5"
  }
 },
 "nbformat": 4,
 "nbformat_minor": 5
}
